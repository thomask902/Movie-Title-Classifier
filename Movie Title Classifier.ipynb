{
  "cells": [
    {
      "cell_type": "markdown",
      "id": "HxPcK7gUH5df",
      "metadata": {
        "id": "HxPcK7gUH5df"
      },
      "source": [
        "### MSCI446 Final Project\n",
        "Calum Hrabi\n",
        "\n",
        "John Kachura\n",
        "\n",
        "Elize Kooij\n",
        "\n",
        "Thomas Kleinknect\n",
        "\n"
      ]
    },
    {
      "cell_type": "markdown",
      "id": "-V2zz0oySmse",
      "metadata": {
        "id": "-V2zz0oySmse"
      },
      "source": [
        "# Introduction\n",
        "\n",
        "  The goal of our project is to develop a machine learning model which can predict the genre of a movie, based on an inputted string of text representing its title. A movie’s genre is a very defining characteristic and primary identifier of any film, old or new. We would like to determine just how accurately we can predict this primary identifier using another, less descriptive and more random identifier, the movie’s name. There are obvious cases in which this should be relatively simple, films with “ghost” or “scream” in the name, are most likely horror films, and movies with titles including  “love”, or “marriage”, are most likely romance films. But what happens when things stray from these direct relationships? What happens when a movie title includes combinations, such as “Screaming Laughing at the War Celebration”, or single worded titles, such as “Hairspray”? We aim to explore how accurate we can make our predictions and reveal possible tendencies towards certain genres.\n",
        "This project can provide important insights as movie genres are key factors of how they are categorized, marketed, and consumed by audiences. It grabs the viewer’s attention, leads them to quickly grasp the type of movie they are expecting to watch, and helps their decision making process to select a movie. Our model will also allow us to bridge the gap of ambiguous movie titles, and create or discover existing relationships between the title and the genre of a movie. Successfully creating a working model can help movie marketing teams or creative advertising agencies ensure a movie title is emitting the right genre and targeting their intended audience. Some additional real world applications we envision for this model would serve in the context of movie search engineers, discovery platforms, and enhancing user experience/engagement.\n",
        "\n",
        "  To successfully create a working model for our project, we will be using a supervised learning model, applying Naive Bayes and Multinomial Logistic Regression algorithms since we are conducting classification with many genre possibilities. This allows us to train the model to draw patterns from these titles, and given different considerations and possible limitations, we will have to determine which model is best suited for the task. Any model is only as good as its data, so we set out to search for a dataset which gave us the best chances at success, by providing us with trustworthy data.\n",
        "  \n",
        "  In summation, with our main objective in mind - to create a model to predict a movie’s genre based on an inputted title, there were also a plethora of different factors to take into consideration in order to reach as much accuracy as possible. At many stages of this project, important decision making took place, with regards to data processing, attempts at models and how to best measure accuracy. We will discuss in our report which approaches worked best, challenges and limitations we faced.\n"
      ]
    },
    {
      "cell_type": "markdown",
      "id": "jmMslKBGFB2Z",
      "metadata": {
        "id": "jmMslKBGFB2Z"
      },
      "source": [
        "Install Packages"
      ]
    },
    {
      "cell_type": "code",
      "execution_count": null,
      "id": "b4L9_qTQ22JB",
      "metadata": {
        "colab": {
          "base_uri": "https://localhost:8080/"
        },
        "id": "b4L9_qTQ22JB",
        "outputId": "d33d4135-a17f-4c0a-a773-76ed0b6ce347"
      },
      "outputs": [
        {
          "name": "stdout",
          "output_type": "stream",
          "text": [
            "Looking in indexes: https://pypi.org/simple, https://us-python.pkg.dev/colab-wheels/public/simple/\n",
            "Collecting pandarallel\n",
            "  Downloading pandarallel-1.6.4.tar.gz (12 kB)\n",
            "  Preparing metadata (setup.py) ... \u001b[?25l\u001b[?25hdone\n",
            "Collecting dill>=0.3.1\n",
            "  Downloading dill-0.3.6-py3-none-any.whl (110 kB)\n",
            "\u001b[2K     \u001b[90m━━━━━━━━━━━━━━━━━━━━━━━━━━━━━━━━━━━━━━━\u001b[0m \u001b[32m110.5/110.5 KB\u001b[0m \u001b[31m3.3 MB/s\u001b[0m eta \u001b[36m0:00:00\u001b[0m\n",
            "\u001b[?25hRequirement already satisfied: pandas>=1 in /usr/local/lib/python3.9/dist-packages (from pandarallel) (1.4.4)\n",
            "Requirement already satisfied: psutil in /usr/local/lib/python3.9/dist-packages (from pandarallel) (5.9.4)\n",
            "Requirement already satisfied: pytz>=2020.1 in /usr/local/lib/python3.9/dist-packages (from pandas>=1->pandarallel) (2022.7.1)\n",
            "Requirement already satisfied: python-dateutil>=2.8.1 in /usr/local/lib/python3.9/dist-packages (from pandas>=1->pandarallel) (2.8.2)\n",
            "Requirement already satisfied: numpy>=1.18.5 in /usr/local/lib/python3.9/dist-packages (from pandas>=1->pandarallel) (1.22.4)\n",
            "Requirement already satisfied: six>=1.5 in /usr/local/lib/python3.9/dist-packages (from python-dateutil>=2.8.1->pandas>=1->pandarallel) (1.16.0)\n",
            "Building wheels for collected packages: pandarallel\n",
            "  Building wheel for pandarallel (setup.py) ... \u001b[?25l\u001b[?25hdone\n",
            "  Created wheel for pandarallel: filename=pandarallel-1.6.4-py3-none-any.whl size=16677 sha256=15fca4d7824ca1d1d6ce547588dadd68d05d8956a68670fcc098a307d01b5989\n",
            "  Stored in directory: /root/.cache/pip/wheels/41/01/29/deaa71fe596f8d857e57c4fb388db8861e23e6ed0b03204dcb\n",
            "Successfully built pandarallel\n",
            "Installing collected packages: dill, pandarallel\n",
            "Successfully installed dill-0.3.6 pandarallel-1.6.4\n",
            "Looking in indexes: https://pypi.org/simple, https://us-python.pkg.dev/colab-wheels/public/simple/\n",
            "Requirement already satisfied: nltk in /usr/local/lib/python3.9/dist-packages (3.8.1)\n",
            "Requirement already satisfied: click in /usr/local/lib/python3.9/dist-packages (from nltk) (8.1.3)\n",
            "Requirement already satisfied: regex>=2021.8.3 in /usr/local/lib/python3.9/dist-packages (from nltk) (2022.10.31)\n",
            "Requirement already satisfied: joblib in /usr/local/lib/python3.9/dist-packages (from nltk) (1.1.1)\n",
            "Requirement already satisfied: tqdm in /usr/local/lib/python3.9/dist-packages (from nltk) (4.65.0)\n"
          ]
        }
      ],
      "source": [
        "!pip install pandarallel\n",
        "!pip install nltk"
      ]
    },
    {
      "cell_type": "markdown",
      "id": "taOzTpiFFEIc",
      "metadata": {
        "id": "taOzTpiFFEIc"
      },
      "source": [
        "Connect Google Drive"
      ]
    },
    {
      "cell_type": "code",
      "execution_count": null,
      "id": "TuSssQj1sbly",
      "metadata": {
        "colab": {
          "base_uri": "https://localhost:8080/"
        },
        "id": "TuSssQj1sbly",
        "outputId": "4e1f9561-5ada-4c8d-c253-41be5602f272"
      },
      "outputs": [
        {
          "name": "stdout",
          "output_type": "stream",
          "text": [
            "Mounted at /content/drive\n"
          ]
        }
      ],
      "source": [
        "from google.colab import drive\n",
        "drive.mount('/content/drive', force_remount=True)"
      ]
    },
    {
      "cell_type": "markdown",
      "id": "1baduCfBJIyA",
      "metadata": {
        "id": "1baduCfBJIyA"
      },
      "source": [
        "# Data Description\n",
        "\n",
        "The raw dataset we chose to work with is made up of 10 million rows of movies, shorts, television series and episodes, sourced from the infamous IMDb (source). This dataset includes movies from 1874 up to present day, each of which are tagged by up to 3 genres they correspond to. With this large dataset at our disposal, there were many data cleaning and manipulation steps we had to conduct to make the data suitable to then apply machine learning models.\n",
        "\n",
        "As mentioned in our proposal, we started by removing the titles that go too far back in time, as very old movies were drastically different from what is common today, and we are aiming to capture more modern trends in movie naming trends. We removed all titles that were released prior to 1920. To further narrow our dataset, we removed TV episodes, shorts and adult films, as they provide little contribution to naming and we would rather focus solely on movie titles. These were relatively simple to remove, because the dataset includes a titleType column (identifying shorts and episodes) as well as a boolean characteristic, isAdult. We also decided to trim the list of available genres, as some of them are quite niche (ie. experimental, news, history etc.) and helps our model be more general. This was able to be completed because most titles are still tagged by at least one more genre that applies to it (ie. Action, Comedy, Experimental).\n",
        "\n",
        "One of the more challenging data cleaning steps we had to conduct was removing the  non-english language titles (which are quite common), as there is no existing column that displays the language of the movie. We chose to leverage a Python library called Langdetect to filter our data and only keep the movie titles written in english. Once we ran Langdetect, it significantly reduced our dataset, leaving us with 510,000 data points.\n",
        "\n",
        "These initial steps of data cleaning were done in a previous file and exported to a new CSV titled \"data_with_lang_csv\" as it took a long time to complete so we did not want to run it everytime this file was ran\n"
      ]
    },
    {
      "cell_type": "markdown",
      "id": "W-mTJXewFGbE",
      "metadata": {
        "id": "W-mTJXewFGbE"
      },
      "source": [
        "### Read In Data\n",
        "\n",
        "We uploaded the data along with our submission, all you need to do is change the path, in p.read_csv() to link to that data. If you want to use put the data in your main drive folder, and the code we have should work for you. You will have to sign in to drive after running the code block above\n"
      ]
    },
    {
      "cell_type": "code",
      "execution_count": null,
      "id": "6d526933-cca8-4df6-916f-3b38eeed7dd2",
      "metadata": {
        "colab": {
          "base_uri": "https://localhost:8080/",
          "height": 676
        },
        "id": "6d526933-cca8-4df6-916f-3b38eeed7dd2",
        "outputId": "83dc2cb0-4596-432b-a1b3-9a4d26a0af37",
        "tags": []
      },
      "outputs": [
        {
          "data": {
            "text/html": [
              "\n",
              "  <div id=\"df-d63cf328-5450-4c34-98aa-30e9c1044667\">\n",
              "    <div class=\"colab-df-container\">\n",
              "      <div>\n",
              "<style scoped>\n",
              "    .dataframe tbody tr th:only-of-type {\n",
              "        vertical-align: middle;\n",
              "    }\n",
              "\n",
              "    .dataframe tbody tr th {\n",
              "        vertical-align: top;\n",
              "    }\n",
              "\n",
              "    .dataframe thead th {\n",
              "        text-align: right;\n",
              "    }\n",
              "</style>\n",
              "<table border=\"1\" class=\"dataframe\">\n",
              "  <thead>\n",
              "    <tr style=\"text-align: right;\">\n",
              "      <th></th>\n",
              "      <th>tconst</th>\n",
              "      <th>titleType</th>\n",
              "      <th>primaryTitle</th>\n",
              "      <th>originalTitle</th>\n",
              "      <th>isAdult</th>\n",
              "      <th>startYear</th>\n",
              "      <th>endYear</th>\n",
              "      <th>runtimeMinutes</th>\n",
              "      <th>genres</th>\n",
              "      <th>lang</th>\n",
              "    </tr>\n",
              "  </thead>\n",
              "  <tbody>\n",
              "    <tr>\n",
              "      <th>0</th>\n",
              "      <td>tt0003854</td>\n",
              "      <td>movie</td>\n",
              "      <td>Dodge City Trail</td>\n",
              "      <td>Dodge City Trail</td>\n",
              "      <td>0</td>\n",
              "      <td>1936.0</td>\n",
              "      <td>\\N</td>\n",
              "      <td>56.0</td>\n",
              "      <td>Adventure,Music,Western</td>\n",
              "      <td>en</td>\n",
              "    </tr>\n",
              "    <tr>\n",
              "      <th>1</th>\n",
              "      <td>tt0011801</td>\n",
              "      <td>movie</td>\n",
              "      <td>Tötet nicht mehr</td>\n",
              "      <td>Tötet nicht mehr</td>\n",
              "      <td>0</td>\n",
              "      <td>2019.0</td>\n",
              "      <td>\\N</td>\n",
              "      <td>NaN</td>\n",
              "      <td>Action,Crime</td>\n",
              "      <td>de</td>\n",
              "    </tr>\n",
              "    <tr>\n",
              "      <th>2</th>\n",
              "      <td>tt0013274</td>\n",
              "      <td>movie</td>\n",
              "      <td>Istoriya grazhdanskoy voyny</td>\n",
              "      <td>Istoriya grazhdanskoy voyny</td>\n",
              "      <td>0</td>\n",
              "      <td>2021.0</td>\n",
              "      <td>\\N</td>\n",
              "      <td>133.0</td>\n",
              "      <td>Documentary</td>\n",
              "      <td>sk</td>\n",
              "    </tr>\n",
              "    <tr>\n",
              "      <th>3</th>\n",
              "      <td>tt0015724</td>\n",
              "      <td>movie</td>\n",
              "      <td>Dama de noche</td>\n",
              "      <td>Dama de noche</td>\n",
              "      <td>0</td>\n",
              "      <td>1993.0</td>\n",
              "      <td>\\N</td>\n",
              "      <td>102.0</td>\n",
              "      <td>Drama,Mystery,Romance</td>\n",
              "      <td>de</td>\n",
              "    </tr>\n",
              "    <tr>\n",
              "      <th>4</th>\n",
              "      <td>tt0016029</td>\n",
              "      <td>movie</td>\n",
              "      <td>The Little Colonel</td>\n",
              "      <td>The Little Colonel</td>\n",
              "      <td>0</td>\n",
              "      <td>1935.0</td>\n",
              "      <td>\\N</td>\n",
              "      <td>81.0</td>\n",
              "      <td>Comedy,Family,Music</td>\n",
              "      <td>en</td>\n",
              "    </tr>\n",
              "    <tr>\n",
              "      <th>5</th>\n",
              "      <td>tt0017961</td>\n",
              "      <td>movie</td>\n",
              "      <td>Happiness</td>\n",
              "      <td>Schaste</td>\n",
              "      <td>0</td>\n",
              "      <td>1935.0</td>\n",
              "      <td>\\N</td>\n",
              "      <td>95.0</td>\n",
              "      <td>Comedy,Drama</td>\n",
              "      <td>fi</td>\n",
              "    </tr>\n",
              "    <tr>\n",
              "      <th>6</th>\n",
              "      <td>tt0018867</td>\n",
              "      <td>movie</td>\n",
              "      <td>Escape from Hong Kong</td>\n",
              "      <td>Escape from Hong Kong</td>\n",
              "      <td>0</td>\n",
              "      <td>1942.0</td>\n",
              "      <td>\\N</td>\n",
              "      <td>60.0</td>\n",
              "      <td>Adventure,Mystery,War</td>\n",
              "      <td>en</td>\n",
              "    </tr>\n",
              "    <tr>\n",
              "      <th>7</th>\n",
              "      <td>tt0019094</td>\n",
              "      <td>movie</td>\n",
              "      <td>Life's a Stage</td>\n",
              "      <td>Life's a Stage</td>\n",
              "      <td>0</td>\n",
              "      <td>1930.0</td>\n",
              "      <td>\\N</td>\n",
              "      <td>NaN</td>\n",
              "      <td>Crime,Drama</td>\n",
              "      <td>en</td>\n",
              "    </tr>\n",
              "    <tr>\n",
              "      <th>8</th>\n",
              "      <td>tt0019403</td>\n",
              "      <td>movie</td>\n",
              "      <td>Salt for Svanetia</td>\n",
              "      <td>Jim Shvante (marili svanets)</td>\n",
              "      <td>0</td>\n",
              "      <td>1930.0</td>\n",
              "      <td>\\N</td>\n",
              "      <td>55.0</td>\n",
              "      <td>Documentary</td>\n",
              "      <td>no</td>\n",
              "    </tr>\n",
              "    <tr>\n",
              "      <th>9</th>\n",
              "      <td>tt0019618</td>\n",
              "      <td>movie</td>\n",
              "      <td>48 pesetas de taxi</td>\n",
              "      <td>48 pesetas de taxi</td>\n",
              "      <td>0</td>\n",
              "      <td>1930.0</td>\n",
              "      <td>\\N</td>\n",
              "      <td>NaN</td>\n",
              "      <td>Comedy</td>\n",
              "      <td>pt</td>\n",
              "    </tr>\n",
              "    <tr>\n",
              "      <th>10</th>\n",
              "      <td>tt0019625</td>\n",
              "      <td>movie</td>\n",
              "      <td>After the Fog</td>\n",
              "      <td>After the Fog</td>\n",
              "      <td>0</td>\n",
              "      <td>1930.0</td>\n",
              "      <td>\\N</td>\n",
              "      <td>62.0</td>\n",
              "      <td>Action,Adventure,Crime</td>\n",
              "      <td>en</td>\n",
              "    </tr>\n",
              "    <tr>\n",
              "      <th>11</th>\n",
              "      <td>tt0019629</td>\n",
              "      <td>movie</td>\n",
              "      <td>The Cursed Village</td>\n",
              "      <td>La aldea maldita</td>\n",
              "      <td>0</td>\n",
              "      <td>1930.0</td>\n",
              "      <td>\\N</td>\n",
              "      <td>57.0</td>\n",
              "      <td>Drama</td>\n",
              "      <td>en</td>\n",
              "    </tr>\n",
              "    <tr>\n",
              "      <th>12</th>\n",
              "      <td>tt0019750</td>\n",
              "      <td>movie</td>\n",
              "      <td>Caramellas</td>\n",
              "      <td>Caramellas</td>\n",
              "      <td>0</td>\n",
              "      <td>1930.0</td>\n",
              "      <td>\\N</td>\n",
              "      <td>NaN</td>\n",
              "      <td>Comedy</td>\n",
              "      <td>it</td>\n",
              "    </tr>\n",
              "    <tr>\n",
              "      <th>13</th>\n",
              "      <td>tt0019821</td>\n",
              "      <td>movie</td>\n",
              "      <td>Dios y ley</td>\n",
              "      <td>Dios y ley</td>\n",
              "      <td>0</td>\n",
              "      <td>1930.0</td>\n",
              "      <td>\\N</td>\n",
              "      <td>NaN</td>\n",
              "      <td>Drama,Romance</td>\n",
              "      <td>es</td>\n",
              "    </tr>\n",
              "    <tr>\n",
              "      <th>14</th>\n",
              "      <td>tt0019918</td>\n",
              "      <td>movie</td>\n",
              "      <td>Nights of Love</td>\n",
              "      <td>Gefahren der Brautzeit</td>\n",
              "      <td>0</td>\n",
              "      <td>1930.0</td>\n",
              "      <td>\\N</td>\n",
              "      <td>80.0</td>\n",
              "      <td>Comedy</td>\n",
              "      <td>en</td>\n",
              "    </tr>\n",
              "    <tr>\n",
              "      <th>15</th>\n",
              "      <td>tt0020028</td>\n",
              "      <td>movie</td>\n",
              "      <td>L'instinct</td>\n",
              "      <td>L'instinct</td>\n",
              "      <td>0</td>\n",
              "      <td>1930.0</td>\n",
              "      <td>\\N</td>\n",
              "      <td>NaN</td>\n",
              "      <td>Drama</td>\n",
              "      <td>fr</td>\n",
              "    </tr>\n",
              "    <tr>\n",
              "      <th>16</th>\n",
              "      <td>tt0020035</td>\n",
              "      <td>movie</td>\n",
              "      <td>Iuda</td>\n",
              "      <td>Iuda</td>\n",
              "      <td>0</td>\n",
              "      <td>1930.0</td>\n",
              "      <td>\\N</td>\n",
              "      <td>NaN</td>\n",
              "      <td>Drama</td>\n",
              "      <td>id</td>\n",
              "    </tr>\n",
              "    <tr>\n",
              "      <th>17</th>\n",
              "      <td>tt0020050</td>\n",
              "      <td>movie</td>\n",
              "      <td>Just for a Song</td>\n",
              "      <td>Just for a Song</td>\n",
              "      <td>0</td>\n",
              "      <td>1930.0</td>\n",
              "      <td>\\N</td>\n",
              "      <td>94.0</td>\n",
              "      <td>Musical</td>\n",
              "      <td>en</td>\n",
              "    </tr>\n",
              "    <tr>\n",
              "      <th>18</th>\n",
              "      <td>tt0020056</td>\n",
              "      <td>movie</td>\n",
              "      <td>The Kibitzer</td>\n",
              "      <td>The Kibitzer</td>\n",
              "      <td>0</td>\n",
              "      <td>1930.0</td>\n",
              "      <td>\\N</td>\n",
              "      <td>77.0</td>\n",
              "      <td>Comedy</td>\n",
              "      <td>de</td>\n",
              "    </tr>\n",
              "    <tr>\n",
              "      <th>19</th>\n",
              "      <td>tt0020124</td>\n",
              "      <td>movie</td>\n",
              "      <td>Ludwig der Zweite, König von Bayern</td>\n",
              "      <td>Ludwig der Zweite, König von Bayern</td>\n",
              "      <td>0</td>\n",
              "      <td>1930.0</td>\n",
              "      <td>\\N</td>\n",
              "      <td>117.0</td>\n",
              "      <td>Biography,Drama,History</td>\n",
              "      <td>de</td>\n",
              "    </tr>\n",
              "  </tbody>\n",
              "</table>\n",
              "</div>\n",
              "      <button class=\"colab-df-convert\" onclick=\"convertToInteractive('df-d63cf328-5450-4c34-98aa-30e9c1044667')\"\n",
              "              title=\"Convert this dataframe to an interactive table.\"\n",
              "              style=\"display:none;\">\n",
              "        \n",
              "  <svg xmlns=\"http://www.w3.org/2000/svg\" height=\"24px\"viewBox=\"0 0 24 24\"\n",
              "       width=\"24px\">\n",
              "    <path d=\"M0 0h24v24H0V0z\" fill=\"none\"/>\n",
              "    <path d=\"M18.56 5.44l.94 2.06.94-2.06 2.06-.94-2.06-.94-.94-2.06-.94 2.06-2.06.94zm-11 1L8.5 8.5l.94-2.06 2.06-.94-2.06-.94L8.5 2.5l-.94 2.06-2.06.94zm10 10l.94 2.06.94-2.06 2.06-.94-2.06-.94-.94-2.06-.94 2.06-2.06.94z\"/><path d=\"M17.41 7.96l-1.37-1.37c-.4-.4-.92-.59-1.43-.59-.52 0-1.04.2-1.43.59L10.3 9.45l-7.72 7.72c-.78.78-.78 2.05 0 2.83L4 21.41c.39.39.9.59 1.41.59.51 0 1.02-.2 1.41-.59l7.78-7.78 2.81-2.81c.8-.78.8-2.07 0-2.86zM5.41 20L4 18.59l7.72-7.72 1.47 1.35L5.41 20z\"/>\n",
              "  </svg>\n",
              "      </button>\n",
              "      \n",
              "  <style>\n",
              "    .colab-df-container {\n",
              "      display:flex;\n",
              "      flex-wrap:wrap;\n",
              "      gap: 12px;\n",
              "    }\n",
              "\n",
              "    .colab-df-convert {\n",
              "      background-color: #E8F0FE;\n",
              "      border: none;\n",
              "      border-radius: 50%;\n",
              "      cursor: pointer;\n",
              "      display: none;\n",
              "      fill: #1967D2;\n",
              "      height: 32px;\n",
              "      padding: 0 0 0 0;\n",
              "      width: 32px;\n",
              "    }\n",
              "\n",
              "    .colab-df-convert:hover {\n",
              "      background-color: #E2EBFA;\n",
              "      box-shadow: 0px 1px 2px rgba(60, 64, 67, 0.3), 0px 1px 3px 1px rgba(60, 64, 67, 0.15);\n",
              "      fill: #174EA6;\n",
              "    }\n",
              "\n",
              "    [theme=dark] .colab-df-convert {\n",
              "      background-color: #3B4455;\n",
              "      fill: #D2E3FC;\n",
              "    }\n",
              "\n",
              "    [theme=dark] .colab-df-convert:hover {\n",
              "      background-color: #434B5C;\n",
              "      box-shadow: 0px 1px 3px 1px rgba(0, 0, 0, 0.15);\n",
              "      filter: drop-shadow(0px 1px 2px rgba(0, 0, 0, 0.3));\n",
              "      fill: #FFFFFF;\n",
              "    }\n",
              "  </style>\n",
              "\n",
              "      <script>\n",
              "        const buttonEl =\n",
              "          document.querySelector('#df-d63cf328-5450-4c34-98aa-30e9c1044667 button.colab-df-convert');\n",
              "        buttonEl.style.display =\n",
              "          google.colab.kernel.accessAllowed ? 'block' : 'none';\n",
              "\n",
              "        async function convertToInteractive(key) {\n",
              "          const element = document.querySelector('#df-d63cf328-5450-4c34-98aa-30e9c1044667');\n",
              "          const dataTable =\n",
              "            await google.colab.kernel.invokeFunction('convertToInteractive',\n",
              "                                                     [key], {});\n",
              "          if (!dataTable) return;\n",
              "\n",
              "          const docLinkHtml = 'Like what you see? Visit the ' +\n",
              "            '<a target=\"_blank\" href=https://colab.research.google.com/notebooks/data_table.ipynb>data table notebook</a>'\n",
              "            + ' to learn more about interactive tables.';\n",
              "          element.innerHTML = '';\n",
              "          dataTable['output_type'] = 'display_data';\n",
              "          await google.colab.output.renderOutput(dataTable, element);\n",
              "          const docLink = document.createElement('div');\n",
              "          docLink.innerHTML = docLinkHtml;\n",
              "          element.appendChild(docLink);\n",
              "        }\n",
              "      </script>\n",
              "    </div>\n",
              "  </div>\n",
              "  "
            ],
            "text/plain": [
              "       tconst titleType                         primaryTitle  \\\n",
              "0   tt0003854     movie                     Dodge City Trail   \n",
              "1   tt0011801     movie                     Tötet nicht mehr   \n",
              "2   tt0013274     movie          Istoriya grazhdanskoy voyny   \n",
              "3   tt0015724     movie                        Dama de noche   \n",
              "4   tt0016029     movie                   The Little Colonel   \n",
              "5   tt0017961     movie                            Happiness   \n",
              "6   tt0018867     movie                Escape from Hong Kong   \n",
              "7   tt0019094     movie                       Life's a Stage   \n",
              "8   tt0019403     movie                    Salt for Svanetia   \n",
              "9   tt0019618     movie                   48 pesetas de taxi   \n",
              "10  tt0019625     movie                        After the Fog   \n",
              "11  tt0019629     movie                   The Cursed Village   \n",
              "12  tt0019750     movie                           Caramellas   \n",
              "13  tt0019821     movie                           Dios y ley   \n",
              "14  tt0019918     movie                       Nights of Love   \n",
              "15  tt0020028     movie                           L'instinct   \n",
              "16  tt0020035     movie                                 Iuda   \n",
              "17  tt0020050     movie                      Just for a Song   \n",
              "18  tt0020056     movie                         The Kibitzer   \n",
              "19  tt0020124     movie  Ludwig der Zweite, König von Bayern   \n",
              "\n",
              "                          originalTitle  isAdult  startYear endYear  \\\n",
              "0                      Dodge City Trail        0     1936.0      \\N   \n",
              "1                      Tötet nicht mehr        0     2019.0      \\N   \n",
              "2           Istoriya grazhdanskoy voyny        0     2021.0      \\N   \n",
              "3                         Dama de noche        0     1993.0      \\N   \n",
              "4                    The Little Colonel        0     1935.0      \\N   \n",
              "5                               Schaste        0     1935.0      \\N   \n",
              "6                 Escape from Hong Kong        0     1942.0      \\N   \n",
              "7                        Life's a Stage        0     1930.0      \\N   \n",
              "8          Jim Shvante (marili svanets)        0     1930.0      \\N   \n",
              "9                    48 pesetas de taxi        0     1930.0      \\N   \n",
              "10                        After the Fog        0     1930.0      \\N   \n",
              "11                     La aldea maldita        0     1930.0      \\N   \n",
              "12                           Caramellas        0     1930.0      \\N   \n",
              "13                           Dios y ley        0     1930.0      \\N   \n",
              "14               Gefahren der Brautzeit        0     1930.0      \\N   \n",
              "15                           L'instinct        0     1930.0      \\N   \n",
              "16                                 Iuda        0     1930.0      \\N   \n",
              "17                      Just for a Song        0     1930.0      \\N   \n",
              "18                         The Kibitzer        0     1930.0      \\N   \n",
              "19  Ludwig der Zweite, König von Bayern        0     1930.0      \\N   \n",
              "\n",
              "    runtimeMinutes                   genres lang  \n",
              "0             56.0  Adventure,Music,Western   en  \n",
              "1              NaN             Action,Crime   de  \n",
              "2            133.0              Documentary   sk  \n",
              "3            102.0    Drama,Mystery,Romance   de  \n",
              "4             81.0      Comedy,Family,Music   en  \n",
              "5             95.0             Comedy,Drama   fi  \n",
              "6             60.0    Adventure,Mystery,War   en  \n",
              "7              NaN              Crime,Drama   en  \n",
              "8             55.0              Documentary   no  \n",
              "9              NaN                   Comedy   pt  \n",
              "10            62.0   Action,Adventure,Crime   en  \n",
              "11            57.0                    Drama   en  \n",
              "12             NaN                   Comedy   it  \n",
              "13             NaN            Drama,Romance   es  \n",
              "14            80.0                   Comedy   en  \n",
              "15             NaN                    Drama   fr  \n",
              "16             NaN                    Drama   id  \n",
              "17            94.0                  Musical   en  \n",
              "18            77.0                   Comedy   de  \n",
              "19           117.0  Biography,Drama,History   de  "
            ]
          },
          "execution_count": 153,
          "metadata": {},
          "output_type": "execute_result"
        }
      ],
      "source": [
        "import pandas as p\n",
        "import matplotlib.pyplot as plt\n",
        "import matplotlib as mpl\n",
        "import re\n",
        "mpl.rcParams['agg.path.chunksize'] = 10000\n",
        "\n",
        "#Read Data From My Google Drive\n",
        "#Please change the path to the data set we provided\n",
        "data = p.read_csv(\"/content/drive/MyDrive/data_with_lang_csv.csv\")\n",
        "data.head(20)"
      ]
    },
    {
      "cell_type": "code",
      "execution_count": null,
      "id": "b03d88a1-0abd-4f9a-b630-6e7cc2b6a5e4",
      "metadata": {
        "id": "b03d88a1-0abd-4f9a-b630-6e7cc2b6a5e4",
        "tags": []
      },
      "outputs": [],
      "source": [
        "#Function to convert List to 1D so we can count it\n",
        "def to_1D(series):\n",
        " return p.Series([x for _list in series for x in _list])"
      ]
    },
    {
      "cell_type": "markdown",
      "id": "2ROrtvEjJOxM",
      "metadata": {
        "id": "2ROrtvEjJOxM"
      },
      "source": [
        "In the block of code below we can see the distrubution of genres"
      ]
    },
    {
      "cell_type": "code",
      "execution_count": null,
      "id": "lrwaayXNJJzc",
      "metadata": {
        "colab": {
          "base_uri": "https://localhost:8080/",
          "height": 640
        },
        "id": "lrwaayXNJJzc",
        "outputId": "f9532a7d-804a-425e-c514-5266050e0ba2"
      },
      "outputs": [
        {
          "data": {
            "image/png": "[encoded data removed]",
            "text/plain": [
              "<Figure size 640x480 with 1 Axes>"
            ]
          },
          "metadata": {},
          "output_type": "display_data"
        }
      ],
      "source": [
        "fig = plt.figure()\n",
        "ax = fig.add_axes([0,0,1,1])\n",
        "genres = to_1D(data['genres']).value_counts().index.tolist()\n",
        "count = to_1D(data['genres']).value_counts().values\n",
        "ax.bar(genres,count)\n",
        "plt.xticks(rotation='vertical')\n",
        "plt.xlabel('Genre')\n",
        "plt.ylabel('# of Titles')\n",
        "plt.show()"
      ]
    },
    {
      "cell_type": "code",
      "execution_count": null,
      "id": "10114b93-fb45-44b7-893b-cc191b957390",
      "metadata": {
        "id": "10114b93-fb45-44b7-893b-cc191b957390",
        "tags": []
      },
      "outputs": [],
      "source": [
        "#Function to convert input string to list\n",
        "def clean_alt_list(input_string):\n",
        "    output = input_string.split(\",\")\n",
        "    return output"
      ]
    },
    {
      "cell_type": "code",
      "execution_count": null,
      "id": "61f1508d-464f-4e4b-b007-8fe3f0cefa59",
      "metadata": {
        "id": "61f1508d-464f-4e4b-b007-8fe3f0cefa59"
      },
      "outputs": [],
      "source": [
        "#Function to convert input string to list with whitespace instad of comma\n",
        "def clean_alt_list_space(input_string):\n",
        "    output = input_string.split()\n",
        "    return output"
      ]
    },
    {
      "cell_type": "code",
      "execution_count": null,
      "id": "izwwnULnUhBw",
      "metadata": {
        "id": "izwwnULnUhBw"
      },
      "outputs": [],
      "source": [
        "#Removes special characters from string\n",
        "def remove_special(input):\n",
        "  return re.sub(r'[^A-Za-z0-9 ]+', '', input)"
      ]
    },
    {
      "cell_type": "markdown",
      "id": "jfcGOTsWFdEa",
      "metadata": {
        "id": "jfcGOTsWFdEa"
      },
      "source": [
        "### Remove non-english titles, make genres a list object"
      ]
    },
    {
      "cell_type": "code",
      "execution_count": null,
      "id": "3f2b6f87-eab4-40b6-ab1f-9b1152530359",
      "metadata": {
        "id": "3f2b6f87-eab4-40b6-ab1f-9b1152530359"
      },
      "outputs": [],
      "source": [
        "data = data[data.lang == \"en\"]\n",
        "data['primaryTitle'] = data['primaryTitle'].apply(remove_special)\n",
        "data['genres'] = data['genres'].apply(clean_alt_list)"
      ]
    },
    {
      "cell_type": "markdown",
      "id": "VijSJO6Q5Dtu",
      "metadata": {
        "id": "VijSJO6Q5Dtu"
      },
      "source": [
        "### Removing stop words\n",
        "\n",
        "After completing the data cleaning steps mentioned, we used NLTK to tokenize each individual word in the movie titles, which involved breaking down titles into individual words to create a list of tokens. This allowed us to work with individual words rather than the entire title, allowing us to apply ML algorithms with ease.\n",
        "\n",
        "To continue our text pre-processing, we removed common stop-words like “the” and “a” using the Natural Language Toolkit (NLTK) library. This removes the low-level information and allows us to place more emphasis on words that are likelier to correspond to a genre."
      ]
    },
    {
      "cell_type": "code",
      "execution_count": null,
      "id": "jW-xCEhc6X41",
      "metadata": {
        "colab": {
          "base_uri": "https://localhost:8080/"
        },
        "id": "jW-xCEhc6X41",
        "outputId": "190f8eb6-103c-4720-f5eb-4c1250b9f0d4"
      },
      "outputs": [
        {
          "name": "stderr",
          "output_type": "stream",
          "text": [
            "[nltk_data] Downloading package punkt to /root/nltk_data...\n",
            "[nltk_data]   Package punkt is already up-to-date!\n",
            "[nltk_data] Downloading package stopwords to /root/nltk_data...\n",
            "[nltk_data]   Package stopwords is already up-to-date!\n"
          ]
        }
      ],
      "source": [
        "import nltk\n",
        "from nltk.corpus import stopwords\n",
        "from nltk.tokenize import word_tokenize\n",
        "nltk.download('punkt')\n",
        "nltk.download('stopwords')\n",
        "\n",
        "#Function to remove stop words from tokenized string\n",
        "def remove_stop_word(word_tokens):\n",
        "  stop_words = set(stopwords.words('english'))\n",
        "  filtered_sentence = []\n",
        "  for w in word_tokens:\n",
        "    w = w.lower()\n",
        "    if w not in stop_words:\n",
        "        filtered_sentence.append(w)\n",
        "  return filtered_sentence"
      ]
    },
    {
      "cell_type": "code",
      "execution_count": null,
      "id": "R8BYVob2-50S",
      "metadata": {
        "colab": {
          "base_uri": "https://localhost:8080/"
        },
        "id": "R8BYVob2-50S",
        "outputId": "5a69e021-bcd3-496a-94eb-6fac8bf5416a"
      },
      "outputs": [
        {
          "name": "stdout",
          "output_type": "stream",
          "text": [
            "INFO: Pandarallel will run on 3 workers.\n",
            "INFO: Pandarallel will use Memory file system to transfer data between the main process and workers.\n"
          ]
        }
      ],
      "source": [
        "#Allows us to Multi-thread to speed up processes\n",
        "from pandarallel import pandarallel\n",
        "pandarallel.initialize(progress_bar=True, nb_workers=3)"
      ]
    },
    {
      "cell_type": "code",
      "execution_count": null,
      "id": "vjxxn8uD_fro",
      "metadata": {
        "colab": {
          "base_uri": "https://localhost:8080/",
          "height": 113,
          "referenced_widgets": [
            "9bc7c665c56843789b02acd5a0d5d854",
            "575fe87b608145c8b8fa2d23e998e9d3",
            "45b1b0c99f764cff8e7d52996efcf116",
            "c628bc58856b4ca093350dde3feec6c3",
            "4ed4bd6417c44b9da9bc2b1b652f6b55",
            "f3fe583948fc43f1acb268b1a1c4ec84",
            "85bf0dc9dc3a46829dcf65056e6d7695",
            "33355a7d2d5a49108c55d5f696ce2e99",
            "0b11f2aab3f54b5ba802ae38adf07cc8",
            "1272847fcde646268f4d65dbf8717a00",
            "a41f5ab0e5cb4e5aaaf76b6d94b1d110",
            "e6d6d26912e84e61b27d3eb93fcaa636",
            "bf43d3d0d19e4fea8f46158e6807fb8e",
            "ccf89f1be46b4379850a0389867df778",
            "1a28dd8e51c04aa0819b29e4f99f1bcf",
            "dbd2081bfb5b43778c74507aa719c9ba",
            "c46c4651afb7441983dc366d1bdbea4e",
            "89939db075f24cc2ac450b9a5b0b4c0d",
            "19b4ce9eb0df46ed9042a7f7190455c5",
            "b2a018e684a14a32ad6b4b5b1b78b030",
            "e67a2d1e4fb24a29bd8ac99b1f3894d7",
            "ac14e736eaa74b76a06bc6db58cb9e8f",
            "e094cbc8a74b4d0eba47a009ee862448",
            "e86c5193135c4332b9b2b80c25fe7b7a",
            "a9185474b7bb4d3e968746a3f5349baf",
            "49571931b75f4ae083a8eaf03470ca48"
          ]
        },
        "id": "vjxxn8uD_fro",
        "outputId": "64c25f8b-9355-479d-bffe-fb6c3abe7fa9"
      },
      "outputs": [
        {
          "data": {
            "application/vnd.jupyter.widget-view+json": {
              "model_id": "9bc7c665c56843789b02acd5a0d5d854",
              "version_major": 2,
              "version_minor": 0
            },
            "text/plain": [
              "VBox(children=(HBox(children=(IntProgress(value=0, description='0.00%', max=170154), Label(value='0 / 170154')…"
            ]
          },
          "metadata": {},
          "output_type": "display_data"
        }
      ],
      "source": [
        "data['primaryTitleTokenize'] = data['primaryTitle'].parallel_apply(word_tokenize)"
      ]
    },
    {
      "cell_type": "code",
      "execution_count": null,
      "id": "Munif4WS4QPe",
      "metadata": {
        "colab": {
          "base_uri": "https://localhost:8080/",
          "height": 113,
          "referenced_widgets": [
            "f2fb3058da7c46ef99bd2fa5bc50551c",
            "c1b73508e66e420f917062cd9ec38127",
            "fc1b793942ac49588cbe2c9dbf21dde3",
            "176756bb43424e4593149e68efac8a4c",
            "4b241d8fa5c24ddbbe7e0f43b62bbb5f",
            "e583a079ee6e4216bb4d0cfe7111bd1f",
            "d94b53dbd8e04697acac168649da6276",
            "04b32db5cf124f36b2327f98d2b16d1b",
            "11768e4fee984b0696bd9e0865df6ad9",
            "2a7baba304464fb0959a97a0bc073b9a",
            "80e74f90e30748bfb77ccf684a0d5348",
            "49fab2252e47407faa2f59756678e902",
            "74cdd86ae5834f95ac12e8f615f5a59a",
            "6e4319730fbb484c817c3a55a4a8fd61",
            "37b6480c11904cb29b8224c94fe7fcdf",
            "bdb141a9bb474db7b5d041d533e9c74e",
            "396f21f81a724a84854401b641ea66c5",
            "2b5e75761e7a487ab2018edc4fff1acd",
            "94c3ae0ce68d422d96e372894ae8e063",
            "8e1dfbe5d4d941758df4e197d5f74ba6",
            "63f736168e0b4cd4a33668ba192558bb",
            "c400d3e512ad434bb7fdc909bcc11e04",
            "39011ad6216b478e8a3f6a0aadbfb321",
            "c3715496292448b5af734b8c2371646f",
            "9c44e833d11d4d8784caabba50b56d38",
            "30fa1cfff38d450ea87f5f2c5c89053f"
          ]
        },
        "id": "Munif4WS4QPe",
        "outputId": "bd5e7d18-1c19-435a-d97f-3464e0e68394"
      },
      "outputs": [
        {
          "data": {
            "application/vnd.jupyter.widget-view+json": {
              "model_id": "f2fb3058da7c46ef99bd2fa5bc50551c",
              "version_major": 2,
              "version_minor": 0
            },
            "text/plain": [
              "VBox(children=(HBox(children=(IntProgress(value=0, description='0.00%', max=170154), Label(value='0 / 170154')…"
            ]
          },
          "metadata": {},
          "output_type": "display_data"
        }
      ],
      "source": [
        "data['primaryTitleTokenizeStopWords'] = data['primaryTitleTokenize'].parallel_apply(remove_stop_word)"
      ]
    },
    {
      "cell_type": "markdown",
      "id": "v8fQm7H5J0Fg",
      "metadata": {
        "id": "v8fQm7H5J0Fg"
      },
      "source": [
        "In the block of code below we can see the most common words in our data set with stop words removed"
      ]
    },
    {
      "cell_type": "code",
      "execution_count": null,
      "id": "Wgm-Z3izJdwx",
      "metadata": {
        "colab": {
          "base_uri": "https://localhost:8080/",
          "height": 624
        },
        "id": "Wgm-Z3izJdwx",
        "outputId": "e430e570-b08e-483e-bc2a-52027ad4511f"
      },
      "outputs": [
        {
          "data": {
            "image/png": "[encoded data removed]",
            "text/plain": [
              "<Figure size 640x480 with 1 Axes>"
            ]
          },
          "metadata": {},
          "output_type": "display_data"
        }
      ],
      "source": [
        "fig = plt.figure()\n",
        "ax = fig.add_axes([0,0,1,1])\n",
        "genres = to_1D(data['primaryTitleTokenizeStopWords']).value_counts().head(50).index.tolist()\n",
        "count = to_1D(data['primaryTitleTokenizeStopWords']).value_counts().head(50).values\n",
        "ax.bar(genres,count)\n",
        "plt.xticks(rotation='vertical')\n",
        "plt.xlabel('Word')\n",
        "plt.ylabel('# of apperiences')\n",
        "plt.show()"
      ]
    },
    {
      "cell_type": "markdown",
      "id": "lxwAE0TlDwp2",
      "metadata": {
        "id": "lxwAE0TlDwp2"
      },
      "source": [
        "### Stemming\n",
        "The next step was to complete word stemming. The process involved reducing each word to its root or base form, which normalizes the data and reduces the dimensionality of the dataset. Stemming the words makes it able to group words with similar meanings together and reduces the variations in the dataset, making it easier to find patterns in data. We have specifically removed -s, -ing, -te from the dataset of titles. Finally vectorizing the text data into a numerical format that ML algorithms can understand."
      ]
    },
    {
      "cell_type": "code",
      "execution_count": null,
      "id": "Pdomec4ME5P_",
      "metadata": {
        "id": "Pdomec4ME5P_"
      },
      "outputs": [],
      "source": [
        "from nltk.stem import PorterStemmer\n",
        "# create an object of class PorterStemmer\n",
        "porter = PorterStemmer()\n",
        "\n",
        "# Function to stem words in tokenized string\n",
        "def lemmatizeList(list):\n",
        "  output = []\n",
        "  for word in list:\n",
        "    output.append(porter.stem(word))\n",
        "  return output"
      ]
    },
    {
      "cell_type": "code",
      "execution_count": null,
      "id": "Ylo2zwg0DvDy",
      "metadata": {
        "colab": {
          "base_uri": "https://localhost:8080/",
          "height": 113,
          "referenced_widgets": [
            "c1774f1abcb948a0b65f7d12a6b2b55b",
            "2a44065d8c13403189286639abb716cb",
            "bf6db999625a458ab8d06764ee09dee5",
            "7ec5f0e9687440dcbbf026e25a7d9db9",
            "5de2f013895c415da0b00bc930e35c22",
            "bd579771f6a24a6b830dcddf5b226eca",
            "fc59bd2af0b14954acc127a508bf08d0",
            "3de9817a88e14dbf918e07d518019553",
            "343cfe36582840ad9fbbbc5e3c67ea34",
            "1d6dce7850ad48b48db0e4815cfb5beb",
            "7ba869570c234c4894ac8e6ddbdd71a2",
            "15a268bf92f94494adf325769932973d",
            "e815db084a8544218ef6df6ec56acb18",
            "736a8712f444435fb01ba9dca34608cb",
            "bc24c6236e7241198dbfdc3b1bcb9b80",
            "eff0c39355b74ff0ac084143a602fb03",
            "552ddf6705a347e1b836ddaebad7449e",
            "6c3acaeb2e41409fa8128b3af88da67f",
            "a2e53a7fd05448a89bfc35a963571823",
            "8e88820d74d3489998df4db34e38f962",
            "a1de5fb4234f4b54a8e6ec772119d5dd",
            "55f8d31c29d447538508660e8db85b47",
            "8d6c6bc814cb44aba8f490f18721d785",
            "060357e7e7094e80a47dca83b3ac89e3",
            "89422f7b0aa14709aa1dc95ac5755cbb",
            "0c1503d62a15404da3b3a1bc00b0c205"
          ]
        },
        "id": "Ylo2zwg0DvDy",
        "outputId": "50c0a8e9-07ac-4ad8-d784-c933a446a37c"
      },
      "outputs": [
        {
          "data": {
            "application/vnd.jupyter.widget-view+json": {
              "model_id": "c1774f1abcb948a0b65f7d12a6b2b55b",
              "version_major": 2,
              "version_minor": 0
            },
            "text/plain": [
              "VBox(children=(HBox(children=(IntProgress(value=0, description='0.00%', max=170154), Label(value='0 / 170154')…"
            ]
          },
          "metadata": {},
          "output_type": "display_data"
        }
      ],
      "source": [
        "data['primaryTitleTokenizedStemmed'] = data['primaryTitleTokenizeStopWords'].parallel_apply(lemmatizeList)"
      ]
    },
    {
      "cell_type": "markdown",
      "id": "S5lahtIJnJ6A",
      "metadata": {
        "id": "S5lahtIJnJ6A"
      },
      "source": [
        "We must detokenize for vectorization"
      ]
    },
    {
      "cell_type": "code",
      "execution_count": null,
      "id": "a9r1a6-KRBwB",
      "metadata": {
        "colab": {
          "base_uri": "https://localhost:8080/",
          "height": 113,
          "referenced_widgets": [
            "f3fbcfaf660f4a5b9ede5558f1134c07",
            "7a5042fad9ec485ba04a95b0ed181b6b",
            "05618a59f72140818d246fce478aba76",
            "146093c61fe94ab6bf271348ba4d21e9",
            "c1025cdf6d07424491fcb7253f3c510d",
            "00cb34c30df449ec99613120666c36d3",
            "712330c5388f43d0b3012917810d115f",
            "d59417a96db34d63bf2af6cae04cc74f",
            "96f00a5d53254c1ea07241553f6f0edb",
            "83066229ac78411081c13787cf558e0e",
            "137564443e0244969d10b08298424df2",
            "25bfa714074b4575be00827b32285207",
            "cad9c98d7e604e94b828420ab37c8308",
            "f3909bae62cd4d558746efdcf969dcd3",
            "b83921ca1b624145a1b301228e2c52b1",
            "d1443ed915d44aaf86afa5e2da2b8cf9",
            "42a25593ebae44e7ae8b5e23a760b74e",
            "8e22f364fc4944edab918c86cf842f53",
            "9d978fe8c51746fc86cf7f1185152ca8",
            "bec20409a9964e1b82d0c7813a09307f",
            "1f5a1c531d8e41e5ad14274c7fda18b2",
            "0ed283f34aaa4a21bcea6a62b9853181",
            "d6f03baea724410dba76922e46d785ff",
            "e7108dc8188a4725976afe4d7bf4b135",
            "10c4cdfd638a4c8db6a774faff967767",
            "cec2147d053049c69ed03f8ff4e02cce"
          ]
        },
        "id": "a9r1a6-KRBwB",
        "outputId": "d4cee80b-a08c-4d1d-a96a-653c2cc2b317"
      },
      "outputs": [
        {
          "data": {
            "application/vnd.jupyter.widget-view+json": {
              "model_id": "f3fbcfaf660f4a5b9ede5558f1134c07",
              "version_major": 2,
              "version_minor": 0
            },
            "text/plain": [
              "VBox(children=(HBox(children=(IntProgress(value=0, description='0.00%', max=170154), Label(value='0 / 170154')…"
            ]
          },
          "metadata": {},
          "output_type": "display_data"
        }
      ],
      "source": [
        "from nltk.tokenize.treebank import TreebankWordDetokenizer\n",
        "data[\"primaryTitle\"] = data['primaryTitleTokenizeStopWords'].parallel_apply(TreebankWordDetokenizer().detokenize)"
      ]
    },
    {
      "cell_type": "code",
      "execution_count": null,
      "id": "LhW8_u_FZ2GV",
      "metadata": {
        "colab": {
          "base_uri": "https://localhost:8080/"
        },
        "id": "LhW8_u_FZ2GV",
        "outputId": "b57a5d39-fde0-49e2-8413-eb8d3d90cd39"
      },
      "outputs": [
        {
          "name": "stdout",
          "output_type": "stream",
          "text": [
            "Titles with 1 genres:  289980\n",
            "Titles with 2 genres:  134546\n",
            "Titles with 3 genres:  85935\n"
          ]
        }
      ],
      "source": [
        "dfCount_1s = data[data.genres.apply(len) == 1]\n",
        "print(\"Titles with 1 genres: \", len(dfCount_1s.index))\n",
        "\n",
        "dfCount_2s = data[data.genres.apply(len) == 2]\n",
        "print(\"Titles with 2 genres: \", len(dfCount_2s.index))\n",
        "\n",
        "dfCount_3s = data[data.genres.apply(len) == 3]\n",
        "print(\"Titles with 3 genres: \", len(dfCount_3s.index))\n",
        "\n"
      ]
    },
    {
      "cell_type": "markdown",
      "id": "GUcimVAlZIJl",
      "metadata": {
        "id": "GUcimVAlZIJl"
      },
      "source": [
        "### Data conclusion\n",
        "We involved feature engineering to select and create relevant features from the available data to improve the accuracy of our model. Our project's target value is the genres and the features are the words found in the title. However, since many titles are tagged by multiple genres (2 Genres: 134546, 3 Genres: 85935), decisions are needed to determine how we would handle test entries with multiple genres. One option is to list multiple movies, each with the same name, one for each genre to train the model that the words in this movie’s title could correspond to any of these 2 or 3 genres. Another option we have is to run a process which randomly selects one of the 2/3 genres, and then trains the model on the randomized selection. Both options present their own difficulties in training and testing. One other alternative is to limit the number of genres in our model to minimize the number of multi-genre entries and improve the accuracy and functionality of the model.\n",
        "\n",
        "Once the steps used to clean, transform, and feature engineer date, the dataset was now suitable for applying a number of different ML models to successfully predict the genre(s) of a movie based on a title\n"
      ]
    },
    {
      "cell_type": "markdown",
      "id": "d94FADwBlf1-",
      "metadata": {
        "id": "d94FADwBlf1-"
      },
      "source": [
        "# Machine Learning\n",
        "With the data now prepared for running the model, a new layer of complication has been added to the fold due to the issues encountered with multiple genres being assigned to movies. What this means however, with multiple ways of handling this issue in our arsenal, is that we had more options to consider, and hopefully, better results. In totality, we built and tested eight different models, four using the naive bayes algorithm, and four using multinomial regression. These models were chosen as they are both highly used in classification problems, and their structure works with the the fact that our only feature was the title.\n",
        "\n",
        "### Model 1 & 2 (Note: Model 2 takes almost 40min to train so do not run it unless you want to wait)\n",
        " For each of these supervised learning algorithms, we first attempted the “duplication method” - duplicating titles in the entries in order to have an entry per genre which was listed for the film, and kept the complete list of 27 genres which were in the dataset. This would guide our next steps in the process and hopefully give us some insight.\n"
      ]
    },
    {
      "cell_type": "code",
      "execution_count": null,
      "id": "0E1uX8SqlzNh",
      "metadata": {
        "id": "0E1uX8SqlzNh"
      },
      "outputs": [],
      "source": [
        "dataExploded = data.explode('genres', ignore_index=True)"
      ]
    },
    {
      "cell_type": "markdown",
      "id": "2aCmsrZKEyR0",
      "metadata": {
        "id": "2aCmsrZKEyR0"
      },
      "source": [
        "Convert Text Classes Labels to Numeric Class Labels"
      ]
    },
    {
      "cell_type": "code",
      "execution_count": null,
      "id": "aJ9j4NCVoQ-c",
      "metadata": {
        "id": "aJ9j4NCVoQ-c"
      },
      "outputs": [],
      "source": [
        "dataExploded['genresNumbered'] = p.factorize(dataExploded['genres'])[0] + 1"
      ]
    },
    {
      "cell_type": "markdown",
      "id": "h1yBsMdmT8CO",
      "metadata": {
        "id": "h1yBsMdmT8CO"
      },
      "source": [
        "Test Train Split"
      ]
    },
    {
      "cell_type": "code",
      "execution_count": null,
      "id": "TBlpeq9CTwUr",
      "metadata": {
        "id": "TBlpeq9CTwUr"
      },
      "outputs": [],
      "source": [
        "from sklearn.model_selection import train_test_split\n",
        "\n",
        "X_train, X_test, y_train, y_test = train_test_split(dataExploded['primaryTitle'], dataExploded['genresNumbered'])"
      ]
    },
    {
      "cell_type": "markdown",
      "id": "9k8mXToCRFDO",
      "metadata": {
        "id": "9k8mXToCRFDO"
      },
      "source": [
        "Vectorizing Primary Title"
      ]
    },
    {
      "cell_type": "code",
      "execution_count": null,
      "id": "CZ_V3-oporQ-",
      "metadata": {
        "id": "CZ_V3-oporQ-"
      },
      "outputs": [],
      "source": [
        "from sklearn.feature_extraction.text import CountVectorizer\n",
        "# Instantiate the CountVectorizer method\n",
        "count_vector = CountVectorizer()\n",
        "\n",
        "# Fit the training data and then return the matrix\n",
        "training_data = count_vector.fit_transform(X_train)\n",
        "\n",
        "# Transform testing data and return the matrix. Note we are not fitting the testing data into the CountVectorizer()\n",
        "testing_data = count_vector.transform(X_test)"
      ]
    },
    {
      "cell_type": "markdown",
      "id": "oYF5xDaspBXo",
      "metadata": {
        "id": "oYF5xDaspBXo"
      },
      "source": [
        "Training Model"
      ]
    },
    {
      "cell_type": "code",
      "execution_count": null,
      "id": "lMix6F5kpAqr",
      "metadata": {
        "colab": {
          "base_uri": "https://localhost:8080/",
          "height": 74
        },
        "id": "lMix6F5kpAqr",
        "outputId": "5a5a5bd9-0cd9-4463-b43d-82e1c9757fb4"
      },
      "outputs": [
        {
          "data": {
            "text/html": [
              "<style>#sk-container-id-5 {color: black;background-color: white;}#sk-container-id-5 pre{padding: 0;}#sk-container-id-5 div.sk-toggleable {background-color: white;}#sk-container-id-5 label.sk-toggleable__label {cursor: pointer;display: block;width: 100%;margin-bottom: 0;padding: 0.3em;box-sizing: border-box;text-align: center;}#sk-container-id-5 label.sk-toggleable__label-arrow:before {content: \"▸\";float: left;margin-right: 0.25em;color: #696969;}#sk-container-id-5 label.sk-toggleable__label-arrow:hover:before {color: black;}#sk-container-id-5 div.sk-estimator:hover label.sk-toggleable__label-arrow:before {color: black;}#sk-container-id-5 div.sk-toggleable__content {max-height: 0;max-width: 0;overflow: hidden;text-align: left;background-color: #f0f8ff;}#sk-container-id-5 div.sk-toggleable__content pre {margin: 0.2em;color: black;border-radius: 0.25em;background-color: #f0f8ff;}#sk-container-id-5 input.sk-toggleable__control:checked~div.sk-toggleable__content {max-height: 200px;max-width: 100%;overflow: auto;}#sk-container-id-5 input.sk-toggleable__control:checked~label.sk-toggleable__label-arrow:before {content: \"▾\";}#sk-container-id-5 div.sk-estimator input.sk-toggleable__control:checked~label.sk-toggleable__label {background-color: #d4ebff;}#sk-container-id-5 div.sk-label input.sk-toggleable__control:checked~label.sk-toggleable__label {background-color: #d4ebff;}#sk-container-id-5 input.sk-hidden--visually {border: 0;clip: rect(1px 1px 1px 1px);clip: rect(1px, 1px, 1px, 1px);height: 1px;margin: -1px;overflow: hidden;padding: 0;position: absolute;width: 1px;}#sk-container-id-5 div.sk-estimator {font-family: monospace;background-color: #f0f8ff;border: 1px dotted black;border-radius: 0.25em;box-sizing: border-box;margin-bottom: 0.5em;}#sk-container-id-5 div.sk-estimator:hover {background-color: #d4ebff;}#sk-container-id-5 div.sk-parallel-item::after {content: \"\";width: 100%;border-bottom: 1px solid gray;flex-grow: 1;}#sk-container-id-5 div.sk-label:hover label.sk-toggleable__label {background-color: #d4ebff;}#sk-container-id-5 div.sk-serial::before {content: \"\";position: absolute;border-left: 1px solid gray;box-sizing: border-box;top: 0;bottom: 0;left: 50%;z-index: 0;}#sk-container-id-5 div.sk-serial {display: flex;flex-direction: column;align-items: center;background-color: white;padding-right: 0.2em;padding-left: 0.2em;position: relative;}#sk-container-id-5 div.sk-item {position: relative;z-index: 1;}#sk-container-id-5 div.sk-parallel {display: flex;align-items: stretch;justify-content: center;background-color: white;position: relative;}#sk-container-id-5 div.sk-item::before, #sk-container-id-5 div.sk-parallel-item::before {content: \"\";position: absolute;border-left: 1px solid gray;box-sizing: border-box;top: 0;bottom: 0;left: 50%;z-index: -1;}#sk-container-id-5 div.sk-parallel-item {display: flex;flex-direction: column;z-index: 1;position: relative;background-color: white;}#sk-container-id-5 div.sk-parallel-item:first-child::after {align-self: flex-end;width: 50%;}#sk-container-id-5 div.sk-parallel-item:last-child::after {align-self: flex-start;width: 50%;}#sk-container-id-5 div.sk-parallel-item:only-child::after {width: 0;}#sk-container-id-5 div.sk-dashed-wrapped {border: 1px dashed gray;margin: 0 0.4em 0.5em 0.4em;box-sizing: border-box;padding-bottom: 0.4em;background-color: white;}#sk-container-id-5 div.sk-label label {font-family: monospace;font-weight: bold;display: inline-block;line-height: 1.2em;}#sk-container-id-5 div.sk-label-container {text-align: center;}#sk-container-id-5 div.sk-container {/* jupyter's `normalize.less` sets `[hidden] { display: none; }` but bootstrap.min.css set `[hidden] { display: none !important; }` so we also need the `!important` here to be able to override the default hidden behavior on the sphinx rendered scikit-learn.org. See: https://github.com/scikit-learn/scikit-learn/issues/21755 */display: inline-block !important;position: relative;}#sk-container-id-5 div.sk-text-repr-fallback {display: none;}</style><div id=\"sk-container-id-5\" class=\"sk-top-container\"><div class=\"sk-text-repr-fallback\"><pre>MultinomialNB()</pre><b>In a Jupyter environment, please rerun this cell to show the HTML representation or trust the notebook. <br />On GitHub, the HTML representation is unable to render, please try loading this page with nbviewer.org.</b></div><div class=\"sk-container\" hidden><div class=\"sk-item\"><div class=\"sk-estimator sk-toggleable\"><input class=\"sk-toggleable__control sk-hidden--visually\" id=\"sk-estimator-id-5\" type=\"checkbox\" checked><label for=\"sk-estimator-id-5\" class=\"sk-toggleable__label sk-toggleable__label-arrow\">MultinomialNB</label><div class=\"sk-toggleable__content\"><pre>MultinomialNB()</pre></div></div></div></div></div>"
            ],
            "text/plain": [
              "MultinomialNB()"
            ]
          },
          "execution_count": 171,
          "metadata": {},
          "output_type": "execute_result"
        }
      ],
      "source": [
        "from sklearn.naive_bayes import MultinomialNB\n",
        "naive_bayes_1 = MultinomialNB()\n",
        "naive_bayes_1.fit(training_data,y_train)"
      ]
    },
    {
      "cell_type": "markdown",
      "id": "Rzk6GRy_EeHA",
      "metadata": {
        "id": "Rzk6GRy_EeHA"
      },
      "source": [
        "Predict Test Data"
      ]
    },
    {
      "cell_type": "code",
      "execution_count": null,
      "id": "GJKK2rVJpHYV",
      "metadata": {
        "id": "GJKK2rVJpHYV"
      },
      "outputs": [],
      "source": [
        "predictions = naive_bayes_1.predict(testing_data)\n"
      ]
    },
    {
      "cell_type": "markdown",
      "id": "RwqrzqZ2Ej2a",
      "metadata": {
        "id": "RwqrzqZ2Ej2a"
      },
      "source": [
        "Get Accuracy Metrics"
      ]
    },
    {
      "cell_type": "code",
      "execution_count": null,
      "id": "SwzuwU9YpJ8U",
      "metadata": {
        "colab": {
          "base_uri": "https://localhost:8080/"
        },
        "id": "SwzuwU9YpJ8U",
        "outputId": "05e0f447-a8b6-47f2-b294-7e680c2fac01"
      },
      "outputs": [
        {
          "name": "stdout",
          "output_type": "stream",
          "text": [
            "Accuracy Score 0.2654881990010773\n",
            "Precision Score 0.26093601581035347\n"
          ]
        },
        {
          "name": "stderr",
          "output_type": "stream",
          "text": [
            "/usr/local/lib/python3.9/dist-packages/sklearn/metrics/_classification.py:1344: UndefinedMetricWarning: Precision is ill-defined and being set to 0.0 in labels with no predicted samples. Use `zero_division` parameter to control this behavior.\n",
            "  _warn_prf(average, modifier, msg_start, len(result))\n"
          ]
        },
        {
          "name": "stdout",
          "output_type": "stream",
          "text": [
            "Recall Score 0.2654881990010773\n",
            "F1 Score 0.214648691149659\n"
          ]
        }
      ],
      "source": [
        "from sklearn.metrics import accuracy_score,precision_score,recall_score,f1_score\n",
        "print('Accuracy Score',accuracy_score(y_test,predictions))\n",
        "print('Precision Score',precision_score(y_test,predictions, average='weighted'))\n",
        "print('Recall Score',recall_score(y_test,predictions, average='weighted'))\n",
        "print('F1 Score',f1_score(y_test,predictions, average='weighted'))"
      ]
    },
    {
      "cell_type": "code",
      "execution_count": null,
      "id": "_kZ74BNlVtoE",
      "metadata": {
        "colab": {
          "base_uri": "https://localhost:8080/",
          "height": 74
        },
        "id": "_kZ74BNlVtoE",
        "outputId": "7061fc33-a545-44ff-e6d6-63083f816827"
      },
      "outputs": [
        {
          "data": {
            "text/html": [
              "<style>#sk-container-id-6 {color: black;background-color: white;}#sk-container-id-6 pre{padding: 0;}#sk-container-id-6 div.sk-toggleable {background-color: white;}#sk-container-id-6 label.sk-toggleable__label {cursor: pointer;display: block;width: 100%;margin-bottom: 0;padding: 0.3em;box-sizing: border-box;text-align: center;}#sk-container-id-6 label.sk-toggleable__label-arrow:before {content: \"▸\";float: left;margin-right: 0.25em;color: #696969;}#sk-container-id-6 label.sk-toggleable__label-arrow:hover:before {color: black;}#sk-container-id-6 div.sk-estimator:hover label.sk-toggleable__label-arrow:before {color: black;}#sk-container-id-6 div.sk-toggleable__content {max-height: 0;max-width: 0;overflow: hidden;text-align: left;background-color: #f0f8ff;}#sk-container-id-6 div.sk-toggleable__content pre {margin: 0.2em;color: black;border-radius: 0.25em;background-color: #f0f8ff;}#sk-container-id-6 input.sk-toggleable__control:checked~div.sk-toggleable__content {max-height: 200px;max-width: 100%;overflow: auto;}#sk-container-id-6 input.sk-toggleable__control:checked~label.sk-toggleable__label-arrow:before {content: \"▾\";}#sk-container-id-6 div.sk-estimator input.sk-toggleable__control:checked~label.sk-toggleable__label {background-color: #d4ebff;}#sk-container-id-6 div.sk-label input.sk-toggleable__control:checked~label.sk-toggleable__label {background-color: #d4ebff;}#sk-container-id-6 input.sk-hidden--visually {border: 0;clip: rect(1px 1px 1px 1px);clip: rect(1px, 1px, 1px, 1px);height: 1px;margin: -1px;overflow: hidden;padding: 0;position: absolute;width: 1px;}#sk-container-id-6 div.sk-estimator {font-family: monospace;background-color: #f0f8ff;border: 1px dotted black;border-radius: 0.25em;box-sizing: border-box;margin-bottom: 0.5em;}#sk-container-id-6 div.sk-estimator:hover {background-color: #d4ebff;}#sk-container-id-6 div.sk-parallel-item::after {content: \"\";width: 100%;border-bottom: 1px solid gray;flex-grow: 1;}#sk-container-id-6 div.sk-label:hover label.sk-toggleable__label {background-color: #d4ebff;}#sk-container-id-6 div.sk-serial::before {content: \"\";position: absolute;border-left: 1px solid gray;box-sizing: border-box;top: 0;bottom: 0;left: 50%;z-index: 0;}#sk-container-id-6 div.sk-serial {display: flex;flex-direction: column;align-items: center;background-color: white;padding-right: 0.2em;padding-left: 0.2em;position: relative;}#sk-container-id-6 div.sk-item {position: relative;z-index: 1;}#sk-container-id-6 div.sk-parallel {display: flex;align-items: stretch;justify-content: center;background-color: white;position: relative;}#sk-container-id-6 div.sk-item::before, #sk-container-id-6 div.sk-parallel-item::before {content: \"\";position: absolute;border-left: 1px solid gray;box-sizing: border-box;top: 0;bottom: 0;left: 50%;z-index: -1;}#sk-container-id-6 div.sk-parallel-item {display: flex;flex-direction: column;z-index: 1;position: relative;background-color: white;}#sk-container-id-6 div.sk-parallel-item:first-child::after {align-self: flex-end;width: 50%;}#sk-container-id-6 div.sk-parallel-item:last-child::after {align-self: flex-start;width: 50%;}#sk-container-id-6 div.sk-parallel-item:only-child::after {width: 0;}#sk-container-id-6 div.sk-dashed-wrapped {border: 1px dashed gray;margin: 0 0.4em 0.5em 0.4em;box-sizing: border-box;padding-bottom: 0.4em;background-color: white;}#sk-container-id-6 div.sk-label label {font-family: monospace;font-weight: bold;display: inline-block;line-height: 1.2em;}#sk-container-id-6 div.sk-label-container {text-align: center;}#sk-container-id-6 div.sk-container {/* jupyter's `normalize.less` sets `[hidden] { display: none; }` but bootstrap.min.css set `[hidden] { display: none !important; }` so we also need the `!important` here to be able to override the default hidden behavior on the sphinx rendered scikit-learn.org. See: https://github.com/scikit-learn/scikit-learn/issues/21755 */display: inline-block !important;position: relative;}#sk-container-id-6 div.sk-text-repr-fallback {display: none;}</style><div id=\"sk-container-id-6\" class=\"sk-top-container\"><div class=\"sk-text-repr-fallback\"><pre>LogisticRegression(max_iter=10000, random_state=1, solver=&#x27;newton-cg&#x27;)</pre><b>In a Jupyter environment, please rerun this cell to show the HTML representation or trust the notebook. <br />On GitHub, the HTML representation is unable to render, please try loading this page with nbviewer.org.</b></div><div class=\"sk-container\" hidden><div class=\"sk-item\"><div class=\"sk-estimator sk-toggleable\"><input class=\"sk-toggleable__control sk-hidden--visually\" id=\"sk-estimator-id-6\" type=\"checkbox\" checked><label for=\"sk-estimator-id-6\" class=\"sk-toggleable__label sk-toggleable__label-arrow\">LogisticRegression</label><div class=\"sk-toggleable__content\"><pre>LogisticRegression(max_iter=10000, random_state=1, solver=&#x27;newton-cg&#x27;)</pre></div></div></div></div></div>"
            ],
            "text/plain": [
              "LogisticRegression(max_iter=10000, random_state=1, solver='newton-cg')"
            ]
          },
          "execution_count": 174,
          "metadata": {},
          "output_type": "execute_result"
        }
      ],
      "source": [
        "from sklearn.linear_model import LogisticRegression\n",
        "\n",
        "# Make a new log_model\n",
        "log_model_1 = LogisticRegression(random_state=1, solver = \"newton-cg\", max_iter=10000)\n",
        "\n",
        "# Now fit the new model (This takes 32 minutes)\n",
        "log_model_1.fit(training_data,y_train)"
      ]
    },
    {
      "cell_type": "code",
      "execution_count": null,
      "id": "COai5ZcaVtoF",
      "metadata": {
        "colab": {
          "base_uri": "https://localhost:8080/"
        },
        "id": "COai5ZcaVtoF",
        "outputId": "448ed18c-cfab-4308-cee7-0f2117080273"
      },
      "outputs": [
        {
          "name": "stdout",
          "output_type": "stream",
          "text": [
            "Accuracy Score 0.2722994809519146\n"
          ]
        }
      ],
      "source": [
        "# For evaluating our ML results\n",
        "from sklearn import metrics\n",
        "\n",
        "# Predict the classes of the testing data set\n",
        "class_predict = log_model_1.predict(testing_data)\n",
        "\n",
        "\n",
        "# Compare the predicted classes to the actual test classes\n",
        "print('Accuracy Score',accuracy_score(y_test,class_predict))"
      ]
    },
    {
      "cell_type": "markdown",
      "id": "KJoXcVM9srLN",
      "metadata": {
        "id": "KJoXcVM9srLN"
      },
      "source": [
        "### Intial Findings\n",
        "After running the Naive Bayes model using Scikit Learn, and testing using a test-train split dataset, with the default Scikit Learn setting of 25% of the total dataset used for our testing data, our 27 genre classifier model returned 26.4% accuracy. When run through multinomial regression, it returned a small improvement, but still not a strong result, with 27.2% accuracy. Multinomial regression, as it essentially needs to build a model for each genre, took exponentially longer to train, 3-4 minutes, in comparison with seconds for Naive Bayes. This led to discussions about why and how this occurred. On the testing side, we found a fundamental flaw limiting our maximal possible accuracy. If we list duplicated titles for each genre, given there are two genres, even if we select one of the correct genres, it will not be correct for the other entry and we are limited to 50% accuracy for this title. Another factor however, could be that there truly are too many genres and the model is having trouble distinguishing between them. Some are very limited in the amount of entries they have, and we made the decision to try limiting the genres to 9 from the 27 which were initially listed. This decision was based on not only what were the most common genres, but also eliminating those we thought could be aptly described by one of the others. With two new theories in hand, we set out to test these hypotheses with new models."
      ]
    },
    {
      "cell_type": "markdown",
      "id": "5q32CcvOVTUs",
      "metadata": {
        "id": "5q32CcvOVTUs"
      },
      "source": [
        "### Model 3 & 4\n",
        "\n",
        "Using our still flawed testing criteria, in order to measure just how much this reduction in genres could truly affect our accuracy on its own, we filtered our dataset down to the 9 aforementioned genres. This reduced the total number of entries to 328,187 and reduced the number of entries with two or three genres listed to 90,773. Although fewer entries will hurt the training of the model we still have 64.3% of the data, and the number of available categories for prediction has decreased to 33% of its previous total.\n"
      ]
    },
    {
      "cell_type": "code",
      "execution_count": null,
      "id": "8Yfh8MQ8VaHv",
      "metadata": {
        "id": "8Yfh8MQ8VaHv"
      },
      "outputs": [],
      "source": [
        "genres_to_keep = ['Drama', 'Documentary', 'Comedy', 'Action', 'Romance', 'Adventure', 'Family', 'Thriller', 'Horror']\n",
        "dataExplodedRemovedGenres = dataExploded[dataExploded.genres.isin(genres_to_keep)]"
      ]
    },
    {
      "cell_type": "code",
      "execution_count": null,
      "id": "NXLoLliHDm3q",
      "metadata": {
        "colab": {
          "base_uri": "https://localhost:8080/"
        },
        "id": "NXLoLliHDm3q",
        "outputId": "6df240f0-8b0f-4589-9195-cb23f7e5abf0"
      },
      "outputs": [
        {
          "name": "stdout",
          "output_type": "stream",
          "text": [
            "Length of New Dataset:  328187\n",
            "Count of Multiple Genres in New Dataset:  90773\n",
            "% of Rows kept in New Dataset:  0.6429227698100345\n"
          ]
        }
      ],
      "source": [
        "df_genres = dataExplodedRemovedGenres.groupby('primaryTitle')['genres'].apply(list).reset_index(name=\"genres\")\n",
        "df_count = dataExplodedRemovedGenres.groupby('primaryTitle')['genres'].count().reset_index()\n",
        "df_count = df_count[df_count.genres != 1]\n",
        "\n",
        "print('Length of New Dataset: ', len(df_genres))\n",
        "print('Count of Multiple Genres in New Dataset: ',len(df_count))\n",
        "print('% of Rows kept in New Dataset: ', len(df_genres)/len(data))"
      ]
    },
    {
      "cell_type": "code",
      "execution_count": null,
      "id": "OC7qysF5ZLew",
      "metadata": {
        "id": "OC7qysF5ZLew"
      },
      "outputs": [],
      "source": [
        "from sklearn.model_selection import train_test_split\n",
        "\n",
        "X_train, X_test, y_train, y_test = train_test_split(dataExplodedRemovedGenres['primaryTitle'], dataExplodedRemovedGenres['genresNumbered'])"
      ]
    },
    {
      "cell_type": "code",
      "execution_count": null,
      "id": "mlezEHWfZOTr",
      "metadata": {
        "id": "mlezEHWfZOTr"
      },
      "outputs": [],
      "source": [
        "from sklearn.feature_extraction.text import CountVectorizer\n",
        "# Instantiate the CountVectorizer method\n",
        "count_vector = CountVectorizer()\n",
        "\n",
        "# Fit the training data and then return the matrix\n",
        "training_data = count_vector.fit_transform(X_train)\n",
        "\n",
        "# Transform testing data and return the matrix. Note we are not fitting the testing data into the CountVectorizer()\n",
        "testing_data = count_vector.transform(X_test)"
      ]
    },
    {
      "cell_type": "code",
      "execution_count": null,
      "id": "vUaYrzHpZSQw",
      "metadata": {
        "colab": {
          "base_uri": "https://localhost:8080/",
          "height": 74
        },
        "id": "vUaYrzHpZSQw",
        "outputId": "e2cb5506-6f3e-4edb-99e4-2156b0f5d664"
      },
      "outputs": [
        {
          "data": {
            "text/html": [
              "<style>#sk-container-id-7 {color: black;background-color: white;}#sk-container-id-7 pre{padding: 0;}#sk-container-id-7 div.sk-toggleable {background-color: white;}#sk-container-id-7 label.sk-toggleable__label {cursor: pointer;display: block;width: 100%;margin-bottom: 0;padding: 0.3em;box-sizing: border-box;text-align: center;}#sk-container-id-7 label.sk-toggleable__label-arrow:before {content: \"▸\";float: left;margin-right: 0.25em;color: #696969;}#sk-container-id-7 label.sk-toggleable__label-arrow:hover:before {color: black;}#sk-container-id-7 div.sk-estimator:hover label.sk-toggleable__label-arrow:before {color: black;}#sk-container-id-7 div.sk-toggleable__content {max-height: 0;max-width: 0;overflow: hidden;text-align: left;background-color: #f0f8ff;}#sk-container-id-7 div.sk-toggleable__content pre {margin: 0.2em;color: black;border-radius: 0.25em;background-color: #f0f8ff;}#sk-container-id-7 input.sk-toggleable__control:checked~div.sk-toggleable__content {max-height: 200px;max-width: 100%;overflow: auto;}#sk-container-id-7 input.sk-toggleable__control:checked~label.sk-toggleable__label-arrow:before {content: \"▾\";}#sk-container-id-7 div.sk-estimator input.sk-toggleable__control:checked~label.sk-toggleable__label {background-color: #d4ebff;}#sk-container-id-7 div.sk-label input.sk-toggleable__control:checked~label.sk-toggleable__label {background-color: #d4ebff;}#sk-container-id-7 input.sk-hidden--visually {border: 0;clip: rect(1px 1px 1px 1px);clip: rect(1px, 1px, 1px, 1px);height: 1px;margin: -1px;overflow: hidden;padding: 0;position: absolute;width: 1px;}#sk-container-id-7 div.sk-estimator {font-family: monospace;background-color: #f0f8ff;border: 1px dotted black;border-radius: 0.25em;box-sizing: border-box;margin-bottom: 0.5em;}#sk-container-id-7 div.sk-estimator:hover {background-color: #d4ebff;}#sk-container-id-7 div.sk-parallel-item::after {content: \"\";width: 100%;border-bottom: 1px solid gray;flex-grow: 1;}#sk-container-id-7 div.sk-label:hover label.sk-toggleable__label {background-color: #d4ebff;}#sk-container-id-7 div.sk-serial::before {content: \"\";position: absolute;border-left: 1px solid gray;box-sizing: border-box;top: 0;bottom: 0;left: 50%;z-index: 0;}#sk-container-id-7 div.sk-serial {display: flex;flex-direction: column;align-items: center;background-color: white;padding-right: 0.2em;padding-left: 0.2em;position: relative;}#sk-container-id-7 div.sk-item {position: relative;z-index: 1;}#sk-container-id-7 div.sk-parallel {display: flex;align-items: stretch;justify-content: center;background-color: white;position: relative;}#sk-container-id-7 div.sk-item::before, #sk-container-id-7 div.sk-parallel-item::before {content: \"\";position: absolute;border-left: 1px solid gray;box-sizing: border-box;top: 0;bottom: 0;left: 50%;z-index: -1;}#sk-container-id-7 div.sk-parallel-item {display: flex;flex-direction: column;z-index: 1;position: relative;background-color: white;}#sk-container-id-7 div.sk-parallel-item:first-child::after {align-self: flex-end;width: 50%;}#sk-container-id-7 div.sk-parallel-item:last-child::after {align-self: flex-start;width: 50%;}#sk-container-id-7 div.sk-parallel-item:only-child::after {width: 0;}#sk-container-id-7 div.sk-dashed-wrapped {border: 1px dashed gray;margin: 0 0.4em 0.5em 0.4em;box-sizing: border-box;padding-bottom: 0.4em;background-color: white;}#sk-container-id-7 div.sk-label label {font-family: monospace;font-weight: bold;display: inline-block;line-height: 1.2em;}#sk-container-id-7 div.sk-label-container {text-align: center;}#sk-container-id-7 div.sk-container {/* jupyter's `normalize.less` sets `[hidden] { display: none; }` but bootstrap.min.css set `[hidden] { display: none !important; }` so we also need the `!important` here to be able to override the default hidden behavior on the sphinx rendered scikit-learn.org. See: https://github.com/scikit-learn/scikit-learn/issues/21755 */display: inline-block !important;position: relative;}#sk-container-id-7 div.sk-text-repr-fallback {display: none;}</style><div id=\"sk-container-id-7\" class=\"sk-top-container\"><div class=\"sk-text-repr-fallback\"><pre>MultinomialNB()</pre><b>In a Jupyter environment, please rerun this cell to show the HTML representation or trust the notebook. <br />On GitHub, the HTML representation is unable to render, please try loading this page with nbviewer.org.</b></div><div class=\"sk-container\" hidden><div class=\"sk-item\"><div class=\"sk-estimator sk-toggleable\"><input class=\"sk-toggleable__control sk-hidden--visually\" id=\"sk-estimator-id-7\" type=\"checkbox\" checked><label for=\"sk-estimator-id-7\" class=\"sk-toggleable__label sk-toggleable__label-arrow\">MultinomialNB</label><div class=\"sk-toggleable__content\"><pre>MultinomialNB()</pre></div></div></div></div></div>"
            ],
            "text/plain": [
              "MultinomialNB()"
            ]
          },
          "execution_count": 180,
          "metadata": {},
          "output_type": "execute_result"
        }
      ],
      "source": [
        "from sklearn.naive_bayes import MultinomialNB\n",
        "naive_bayes_2 = MultinomialNB()\n",
        "naive_bayes_2.fit(training_data,y_train)"
      ]
    },
    {
      "cell_type": "code",
      "execution_count": null,
      "id": "2N90dszxZSWP",
      "metadata": {
        "id": "2N90dszxZSWP"
      },
      "outputs": [],
      "source": [
        "predictions = naive_bayes_2.predict(testing_data)\n",
        "prediction2 = naive_bayes_2.predict(training_data)"
      ]
    },
    {
      "cell_type": "markdown",
      "id": "Qn6wyA1NL1x_",
      "metadata": {
        "id": "Qn6wyA1NL1x_"
      },
      "source": [
        "Naive Bayes Round 1"
      ]
    },
    {
      "cell_type": "code",
      "execution_count": null,
      "id": "irTZ4mvBZVq5",
      "metadata": {
        "colab": {
          "base_uri": "https://localhost:8080/"
        },
        "id": "irTZ4mvBZVq5",
        "outputId": "1e2e5b3a-9a59-4d9e-bba1-d9f744ecb419"
      },
      "outputs": [
        {
          "name": "stdout",
          "output_type": "stream",
          "text": [
            "Accuracy Score Train 0.4873727855258198\n",
            "Precision Score Train 0.5189746952518604\n",
            "Recall Score Train 0.4873727855258198\n",
            "F1 Score Train 0.448669447179177\n",
            "Accuracy Score Test 0.4000790763877906\n",
            "Precision Score Test 0.38219778881850375\n",
            "Recall Score Test 0.4000790763877906\n",
            "F1 Score Test 0.35815377250341274\n"
          ]
        }
      ],
      "source": [
        "from sklearn.metrics import accuracy_score,precision_score,recall_score,f1_score\n",
        "print('Accuracy Score Train',accuracy_score(y_train,prediction2))\n",
        "print('Precision Score Train',precision_score(y_train,prediction2, average='weighted'))\n",
        "print('Recall Score Train',recall_score(y_train,prediction2, average='weighted'))\n",
        "print('F1 Score Train',f1_score(y_train,prediction2, average='weighted'))\n",
        "print('Accuracy Score Test',accuracy_score(y_test,predictions))\n",
        "print('Precision Score Test',precision_score(y_test,predictions, average='weighted'))\n",
        "print('Recall Score Test',recall_score(y_test,predictions, average='weighted'))\n",
        "print('F1 Score Test',f1_score(y_test,predictions, average='weighted'))"
      ]
    },
    {
      "cell_type": "code",
      "execution_count": null,
      "id": "MgxU5ZqNVLdA",
      "metadata": {
        "colab": {
          "base_uri": "https://localhost:8080/",
          "height": 74
        },
        "id": "MgxU5ZqNVLdA",
        "outputId": "e05522af-c658-469c-e7cc-a521a6a4ddfc"
      },
      "outputs": [
        {
          "data": {
            "text/html": [
              "<style>#sk-container-id-8 {color: black;background-color: white;}#sk-container-id-8 pre{padding: 0;}#sk-container-id-8 div.sk-toggleable {background-color: white;}#sk-container-id-8 label.sk-toggleable__label {cursor: pointer;display: block;width: 100%;margin-bottom: 0;padding: 0.3em;box-sizing: border-box;text-align: center;}#sk-container-id-8 label.sk-toggleable__label-arrow:before {content: \"▸\";float: left;margin-right: 0.25em;color: #696969;}#sk-container-id-8 label.sk-toggleable__label-arrow:hover:before {color: black;}#sk-container-id-8 div.sk-estimator:hover label.sk-toggleable__label-arrow:before {color: black;}#sk-container-id-8 div.sk-toggleable__content {max-height: 0;max-width: 0;overflow: hidden;text-align: left;background-color: #f0f8ff;}#sk-container-id-8 div.sk-toggleable__content pre {margin: 0.2em;color: black;border-radius: 0.25em;background-color: #f0f8ff;}#sk-container-id-8 input.sk-toggleable__control:checked~div.sk-toggleable__content {max-height: 200px;max-width: 100%;overflow: auto;}#sk-container-id-8 input.sk-toggleable__control:checked~label.sk-toggleable__label-arrow:before {content: \"▾\";}#sk-container-id-8 div.sk-estimator input.sk-toggleable__control:checked~label.sk-toggleable__label {background-color: #d4ebff;}#sk-container-id-8 div.sk-label input.sk-toggleable__control:checked~label.sk-toggleable__label {background-color: #d4ebff;}#sk-container-id-8 input.sk-hidden--visually {border: 0;clip: rect(1px 1px 1px 1px);clip: rect(1px, 1px, 1px, 1px);height: 1px;margin: -1px;overflow: hidden;padding: 0;position: absolute;width: 1px;}#sk-container-id-8 div.sk-estimator {font-family: monospace;background-color: #f0f8ff;border: 1px dotted black;border-radius: 0.25em;box-sizing: border-box;margin-bottom: 0.5em;}#sk-container-id-8 div.sk-estimator:hover {background-color: #d4ebff;}#sk-container-id-8 div.sk-parallel-item::after {content: \"\";width: 100%;border-bottom: 1px solid gray;flex-grow: 1;}#sk-container-id-8 div.sk-label:hover label.sk-toggleable__label {background-color: #d4ebff;}#sk-container-id-8 div.sk-serial::before {content: \"\";position: absolute;border-left: 1px solid gray;box-sizing: border-box;top: 0;bottom: 0;left: 50%;z-index: 0;}#sk-container-id-8 div.sk-serial {display: flex;flex-direction: column;align-items: center;background-color: white;padding-right: 0.2em;padding-left: 0.2em;position: relative;}#sk-container-id-8 div.sk-item {position: relative;z-index: 1;}#sk-container-id-8 div.sk-parallel {display: flex;align-items: stretch;justify-content: center;background-color: white;position: relative;}#sk-container-id-8 div.sk-item::before, #sk-container-id-8 div.sk-parallel-item::before {content: \"\";position: absolute;border-left: 1px solid gray;box-sizing: border-box;top: 0;bottom: 0;left: 50%;z-index: -1;}#sk-container-id-8 div.sk-parallel-item {display: flex;flex-direction: column;z-index: 1;position: relative;background-color: white;}#sk-container-id-8 div.sk-parallel-item:first-child::after {align-self: flex-end;width: 50%;}#sk-container-id-8 div.sk-parallel-item:last-child::after {align-self: flex-start;width: 50%;}#sk-container-id-8 div.sk-parallel-item:only-child::after {width: 0;}#sk-container-id-8 div.sk-dashed-wrapped {border: 1px dashed gray;margin: 0 0.4em 0.5em 0.4em;box-sizing: border-box;padding-bottom: 0.4em;background-color: white;}#sk-container-id-8 div.sk-label label {font-family: monospace;font-weight: bold;display: inline-block;line-height: 1.2em;}#sk-container-id-8 div.sk-label-container {text-align: center;}#sk-container-id-8 div.sk-container {/* jupyter's `normalize.less` sets `[hidden] { display: none; }` but bootstrap.min.css set `[hidden] { display: none !important; }` so we also need the `!important` here to be able to override the default hidden behavior on the sphinx rendered scikit-learn.org. See: https://github.com/scikit-learn/scikit-learn/issues/21755 */display: inline-block !important;position: relative;}#sk-container-id-8 div.sk-text-repr-fallback {display: none;}</style><div id=\"sk-container-id-8\" class=\"sk-top-container\"><div class=\"sk-text-repr-fallback\"><pre>LogisticRegression(max_iter=10000, random_state=1, solver=&#x27;newton-cg&#x27;)</pre><b>In a Jupyter environment, please rerun this cell to show the HTML representation or trust the notebook. <br />On GitHub, the HTML representation is unable to render, please try loading this page with nbviewer.org.</b></div><div class=\"sk-container\" hidden><div class=\"sk-item\"><div class=\"sk-estimator sk-toggleable\"><input class=\"sk-toggleable__control sk-hidden--visually\" id=\"sk-estimator-id-8\" type=\"checkbox\" checked><label for=\"sk-estimator-id-8\" class=\"sk-toggleable__label sk-toggleable__label-arrow\">LogisticRegression</label><div class=\"sk-toggleable__content\"><pre>LogisticRegression(max_iter=10000, random_state=1, solver=&#x27;newton-cg&#x27;)</pre></div></div></div></div></div>"
            ],
            "text/plain": [
              "LogisticRegression(max_iter=10000, random_state=1, solver='newton-cg')"
            ]
          },
          "execution_count": 183,
          "metadata": {},
          "output_type": "execute_result"
        }
      ],
      "source": [
        "from sklearn.linear_model import LogisticRegression\n",
        "\n",
        "# Make a new log_model\n",
        "log_model_2 = LogisticRegression(random_state=1, solver = \"newton-cg\", max_iter=10000)\n",
        "\n",
        "# Now fit the new model\n",
        "log_model_2.fit(training_data,y_train)"
      ]
    },
    {
      "cell_type": "markdown",
      "id": "CgB9XM2vL52C",
      "metadata": {
        "id": "CgB9XM2vL52C"
      },
      "source": [
        "Log Round 1"
      ]
    },
    {
      "cell_type": "code",
      "execution_count": null,
      "id": "uIg5qJoRVLdA",
      "metadata": {
        "colab": {
          "base_uri": "https://localhost:8080/"
        },
        "id": "uIg5qJoRVLdA",
        "outputId": "59bb4963-a5ff-4d6c-8c2d-a18324288942"
      },
      "outputs": [
        {
          "name": "stdout",
          "output_type": "stream",
          "text": [
            "Accuracy Score Train 0.5286850352813414\n",
            "Accuracy Score Test 0.40973430333702354\n"
          ]
        }
      ],
      "source": [
        "# For evaluating our ML results\n",
        "from sklearn import metrics\n",
        "\n",
        "# Predict the classes of the testing data set\n",
        "class_predict = log_model_2.predict(testing_data)\n",
        "class_predict2 = log_model_2.predict(training_data)\n",
        "\n",
        "# Compare the predicted classes to the actual test classes\n",
        "print('Accuracy Score Train',accuracy_score(y_train,class_predict2))\n",
        "print('Accuracy Score Test',accuracy_score(y_test,class_predict))"
      ]
    },
    {
      "cell_type": "markdown",
      "id": "0NId67jvs-qa",
      "metadata": {
        "id": "0NId67jvs-qa"
      },
      "source": [
        "### Model 3 & 4 Findings\n",
        "When ran, our hypothesis was proven correct, as the multinomial regression model returned 40.9% accuracy, and the Naive Bayes model returned 39.8%, even with the suspectedly flawed testing criteria. This is a substantial increase, and also caused large improvements in training time for the multinomial regression model, as it only took ~2 minutes to train with 9 genres. These factors reinforced our belief that this change was needed. However, how much more could this be improved with an updated testing criteria, or perhaps by randomly selecting the genre of multi-genre entries?"
      ]
    },
    {
      "cell_type": "markdown",
      "id": "uZiGiGXwDcWG",
      "metadata": {
        "id": "uZiGiGXwDcWG"
      },
      "source": [
        "### Model 5 & 6\n",
        "\n",
        "Our solution to the testing issue was to change our criteria for success. We decided to leave the testing data as is, rather than duplicate the titles for each genre as we have done for the training data. This allows us, for the multiple genre entries, to run the entry through the model, return a genre from our model, and then check to see if it is one of the two or three listed. This then would be considered a success."
      ]
    },
    {
      "cell_type": "code",
      "execution_count": null,
      "id": "yCUBO2HW7-Lc",
      "metadata": {
        "id": "yCUBO2HW7-Lc"
      },
      "outputs": [],
      "source": [
        "def accuracy_custom(actual, predicted):\n",
        "  num_of_correct = 0\n",
        "  if(len(actual) != len(predicted)):\n",
        "    raise Exception(\"Actual and Predicted must have the same number of entries\")\n",
        "  for i in range(len(actual)):\n",
        "    if predicted[i] in actual[i]:\n",
        "      num_of_correct+=1\n",
        "\n",
        "  output = num_of_correct/len(actual)\n",
        "  return output"
      ]
    },
    {
      "cell_type": "code",
      "execution_count": null,
      "id": "jU4Qg9KuDhko",
      "metadata": {
        "id": "jU4Qg9KuDhko"
      },
      "outputs": [],
      "source": [
        "from sklearn.model_selection import train_test_split\n",
        "\n",
        "X_train, X_test, y_train, y_test = train_test_split(data['primaryTitle'], data['genres'])"
      ]
    },
    {
      "cell_type": "code",
      "execution_count": null,
      "id": "alJDf-M--j1t",
      "metadata": {
        "id": "alJDf-M--j1t"
      },
      "outputs": [],
      "source": [
        "#Group test\n",
        "df_test = p.DataFrame({\"X_test\": X_test, \"y_test\": y_test})\n",
        "df_train = p.DataFrame({\"X_train\": X_train, \"y_train\": y_train})"
      ]
    },
    {
      "cell_type": "code",
      "execution_count": null,
      "id": "kcRKak6uFYa8",
      "metadata": {
        "id": "kcRKak6uFYa8"
      },
      "outputs": [],
      "source": [
        "df_train = df_train.explode('y_train', ignore_index=True)\n",
        "genres_to_keep = ['Drama', 'Documentary', 'Comedy', 'Action', 'Romance', 'Adventure', 'Family', 'Thriller', 'Horror']\n",
        "df_train = df_train[df_train.y_train.isin(genres_to_keep)]\n",
        "df_train['y_train'] = p.factorize(df_train['y_train'], sort=True)[0] + 1"
      ]
    },
    {
      "cell_type": "code",
      "execution_count": null,
      "id": "E4YvySMaGxov",
      "metadata": {
        "id": "E4YvySMaGxov"
      },
      "outputs": [],
      "source": [
        "df_test = df_test.explode('y_test', ignore_index=True)\n",
        "genres_to_keep = ['Drama', 'Documentary', 'Comedy', 'Action', 'Romance', 'Adventure', 'Family', 'Thriller', 'Horror']\n",
        "df_test = df_test[df_test.y_test.isin(genres_to_keep)]\n",
        "df_test['y_test'] = p.factorize(df_test['y_test'], sort=True)[0] + 1"
      ]
    },
    {
      "cell_type": "code",
      "execution_count": null,
      "id": "ZQ8c7bKuOfQz",
      "metadata": {
        "id": "ZQ8c7bKuOfQz"
      },
      "outputs": [],
      "source": [
        "df_test = df_test.groupby('X_test')['y_test'].apply(list).reset_index(name=\"y_test\")"
      ]
    },
    {
      "cell_type": "code",
      "execution_count": null,
      "id": "U-31-BD56xdp",
      "metadata": {
        "colab": {
          "base_uri": "https://localhost:8080/"
        },
        "id": "U-31-BD56xdp",
        "outputId": "f6fe271b-f49f-411e-fe8b-98ae786cd77d"
      },
      "outputs": [
        {
          "name": "stdout",
          "output_type": "stream",
          "text": [
            "The top category shows up: 0.26177361825699946 in our testing data\n"
          ]
        }
      ],
      "source": [
        "import numpy\n",
        "\n",
        "counts = to_1D(df_test['y_test']).value_counts().values\n",
        "# to_1D(data['genres']).value_counts().values\n",
        "genres = to_1D(df_test['y_test']).value_counts().index.tolist()\n",
        "sumcount = numpy.sum(counts)\n",
        "percentages = []\n",
        "for i in range(len(counts)):\n",
        "  percentages.append(counts[i]/sumcount)\n",
        "\n",
        "print('The top category shows up: ' + str(percentages[0]) + \" in our testing data\")"
      ]
    },
    {
      "cell_type": "code",
      "execution_count": null,
      "id": "0o0d9pzQJsQj",
      "metadata": {
        "id": "0o0d9pzQJsQj"
      },
      "outputs": [],
      "source": [
        "from sklearn.feature_extraction.text import CountVectorizer\n",
        "# Instantiate the CountVectorizer method\n",
        "count_vector = CountVectorizer()\n",
        "\n",
        "# Fit the training data and then return the matrix\n",
        "training_data = count_vector.fit_transform(df_train['X_train'])\n",
        "\n",
        "# Transform testing data and return the matrix. Note we are not fitting the testing data into the CountVectorizer()\n",
        "testing_data = count_vector.transform(df_test['X_test'])"
      ]
    },
    {
      "cell_type": "code",
      "execution_count": null,
      "id": "GjklBZIHJ5Rv",
      "metadata": {
        "colab": {
          "base_uri": "https://localhost:8080/",
          "height": 74
        },
        "id": "GjklBZIHJ5Rv",
        "outputId": "1e4b29b1-b390-4153-d9f1-889ff5dad544"
      },
      "outputs": [
        {
          "data": {
            "text/html": [
              "<style>#sk-container-id-9 {color: black;background-color: white;}#sk-container-id-9 pre{padding: 0;}#sk-container-id-9 div.sk-toggleable {background-color: white;}#sk-container-id-9 label.sk-toggleable__label {cursor: pointer;display: block;width: 100%;margin-bottom: 0;padding: 0.3em;box-sizing: border-box;text-align: center;}#sk-container-id-9 label.sk-toggleable__label-arrow:before {content: \"▸\";float: left;margin-right: 0.25em;color: #696969;}#sk-container-id-9 label.sk-toggleable__label-arrow:hover:before {color: black;}#sk-container-id-9 div.sk-estimator:hover label.sk-toggleable__label-arrow:before {color: black;}#sk-container-id-9 div.sk-toggleable__content {max-height: 0;max-width: 0;overflow: hidden;text-align: left;background-color: #f0f8ff;}#sk-container-id-9 div.sk-toggleable__content pre {margin: 0.2em;color: black;border-radius: 0.25em;background-color: #f0f8ff;}#sk-container-id-9 input.sk-toggleable__control:checked~div.sk-toggleable__content {max-height: 200px;max-width: 100%;overflow: auto;}#sk-container-id-9 input.sk-toggleable__control:checked~label.sk-toggleable__label-arrow:before {content: \"▾\";}#sk-container-id-9 div.sk-estimator input.sk-toggleable__control:checked~label.sk-toggleable__label {background-color: #d4ebff;}#sk-container-id-9 div.sk-label input.sk-toggleable__control:checked~label.sk-toggleable__label {background-color: #d4ebff;}#sk-container-id-9 input.sk-hidden--visually {border: 0;clip: rect(1px 1px 1px 1px);clip: rect(1px, 1px, 1px, 1px);height: 1px;margin: -1px;overflow: hidden;padding: 0;position: absolute;width: 1px;}#sk-container-id-9 div.sk-estimator {font-family: monospace;background-color: #f0f8ff;border: 1px dotted black;border-radius: 0.25em;box-sizing: border-box;margin-bottom: 0.5em;}#sk-container-id-9 div.sk-estimator:hover {background-color: #d4ebff;}#sk-container-id-9 div.sk-parallel-item::after {content: \"\";width: 100%;border-bottom: 1px solid gray;flex-grow: 1;}#sk-container-id-9 div.sk-label:hover label.sk-toggleable__label {background-color: #d4ebff;}#sk-container-id-9 div.sk-serial::before {content: \"\";position: absolute;border-left: 1px solid gray;box-sizing: border-box;top: 0;bottom: 0;left: 50%;z-index: 0;}#sk-container-id-9 div.sk-serial {display: flex;flex-direction: column;align-items: center;background-color: white;padding-right: 0.2em;padding-left: 0.2em;position: relative;}#sk-container-id-9 div.sk-item {position: relative;z-index: 1;}#sk-container-id-9 div.sk-parallel {display: flex;align-items: stretch;justify-content: center;background-color: white;position: relative;}#sk-container-id-9 div.sk-item::before, #sk-container-id-9 div.sk-parallel-item::before {content: \"\";position: absolute;border-left: 1px solid gray;box-sizing: border-box;top: 0;bottom: 0;left: 50%;z-index: -1;}#sk-container-id-9 div.sk-parallel-item {display: flex;flex-direction: column;z-index: 1;position: relative;background-color: white;}#sk-container-id-9 div.sk-parallel-item:first-child::after {align-self: flex-end;width: 50%;}#sk-container-id-9 div.sk-parallel-item:last-child::after {align-self: flex-start;width: 50%;}#sk-container-id-9 div.sk-parallel-item:only-child::after {width: 0;}#sk-container-id-9 div.sk-dashed-wrapped {border: 1px dashed gray;margin: 0 0.4em 0.5em 0.4em;box-sizing: border-box;padding-bottom: 0.4em;background-color: white;}#sk-container-id-9 div.sk-label label {font-family: monospace;font-weight: bold;display: inline-block;line-height: 1.2em;}#sk-container-id-9 div.sk-label-container {text-align: center;}#sk-container-id-9 div.sk-container {/* jupyter's `normalize.less` sets `[hidden] { display: none; }` but bootstrap.min.css set `[hidden] { display: none !important; }` so we also need the `!important` here to be able to override the default hidden behavior on the sphinx rendered scikit-learn.org. See: https://github.com/scikit-learn/scikit-learn/issues/21755 */display: inline-block !important;position: relative;}#sk-container-id-9 div.sk-text-repr-fallback {display: none;}</style><div id=\"sk-container-id-9\" class=\"sk-top-container\"><div class=\"sk-text-repr-fallback\"><pre>MultinomialNB()</pre><b>In a Jupyter environment, please rerun this cell to show the HTML representation or trust the notebook. <br />On GitHub, the HTML representation is unable to render, please try loading this page with nbviewer.org.</b></div><div class=\"sk-container\" hidden><div class=\"sk-item\"><div class=\"sk-estimator sk-toggleable\"><input class=\"sk-toggleable__control sk-hidden--visually\" id=\"sk-estimator-id-9\" type=\"checkbox\" checked><label for=\"sk-estimator-id-9\" class=\"sk-toggleable__label sk-toggleable__label-arrow\">MultinomialNB</label><div class=\"sk-toggleable__content\"><pre>MultinomialNB()</pre></div></div></div></div></div>"
            ],
            "text/plain": [
              "MultinomialNB()"
            ]
          },
          "execution_count": 193,
          "metadata": {},
          "output_type": "execute_result"
        }
      ],
      "source": [
        "from sklearn.naive_bayes import MultinomialNB\n",
        "naive_bayes_3 = MultinomialNB()\n",
        "naive_bayes_3.fit(training_data,df_train['y_train'])"
      ]
    },
    {
      "cell_type": "code",
      "execution_count": null,
      "id": "rRZZatR1J58f",
      "metadata": {
        "id": "rRZZatR1J58f"
      },
      "outputs": [],
      "source": [
        "predictions_test = naive_bayes_3.predict(testing_data)\n",
        "predictions_train = naive_bayes_3.predict(training_data)"
      ]
    },
    {
      "cell_type": "code",
      "execution_count": null,
      "id": "OrD7Zx0cJ6KC",
      "metadata": {
        "colab": {
          "base_uri": "https://localhost:8080/"
        },
        "id": "OrD7Zx0cJ6KC",
        "outputId": "69f5895f-53ff-4383-8ce0-0fedd6d460f9"
      },
      "outputs": [
        {
          "name": "stdout",
          "output_type": "stream",
          "text": [
            "Accuracy of test data:  0.5409801318593055\n",
            "Accuracy of train data:  0.4846867045619403\n"
          ]
        }
      ],
      "source": [
        "from sklearn.metrics import accuracy_score,precision_score,recall_score,f1_score\n",
        "\n",
        "print('Accuracy of test data: ', accuracy_custom(df_test['y_test'], predictions_test))\n",
        "print('Accuracy of train data: ', accuracy_score(df_train['y_train'], predictions_train))"
      ]
    },
    {
      "cell_type": "code",
      "execution_count": null,
      "id": "RtX3TS0hS5kf",
      "metadata": {
        "colab": {
          "base_uri": "https://localhost:8080/",
          "height": 74
        },
        "id": "RtX3TS0hS5kf",
        "outputId": "2d81502a-0248-453e-dede-ab11c088a051"
      },
      "outputs": [
        {
          "data": {
            "text/html": [
              "<style>#sk-container-id-10 {color: black;background-color: white;}#sk-container-id-10 pre{padding: 0;}#sk-container-id-10 div.sk-toggleable {background-color: white;}#sk-container-id-10 label.sk-toggleable__label {cursor: pointer;display: block;width: 100%;margin-bottom: 0;padding: 0.3em;box-sizing: border-box;text-align: center;}#sk-container-id-10 label.sk-toggleable__label-arrow:before {content: \"▸\";float: left;margin-right: 0.25em;color: #696969;}#sk-container-id-10 label.sk-toggleable__label-arrow:hover:before {color: black;}#sk-container-id-10 div.sk-estimator:hover label.sk-toggleable__label-arrow:before {color: black;}#sk-container-id-10 div.sk-toggleable__content {max-height: 0;max-width: 0;overflow: hidden;text-align: left;background-color: #f0f8ff;}#sk-container-id-10 div.sk-toggleable__content pre {margin: 0.2em;color: black;border-radius: 0.25em;background-color: #f0f8ff;}#sk-container-id-10 input.sk-toggleable__control:checked~div.sk-toggleable__content {max-height: 200px;max-width: 100%;overflow: auto;}#sk-container-id-10 input.sk-toggleable__control:checked~label.sk-toggleable__label-arrow:before {content: \"▾\";}#sk-container-id-10 div.sk-estimator input.sk-toggleable__control:checked~label.sk-toggleable__label {background-color: #d4ebff;}#sk-container-id-10 div.sk-label input.sk-toggleable__control:checked~label.sk-toggleable__label {background-color: #d4ebff;}#sk-container-id-10 input.sk-hidden--visually {border: 0;clip: rect(1px 1px 1px 1px);clip: rect(1px, 1px, 1px, 1px);height: 1px;margin: -1px;overflow: hidden;padding: 0;position: absolute;width: 1px;}#sk-container-id-10 div.sk-estimator {font-family: monospace;background-color: #f0f8ff;border: 1px dotted black;border-radius: 0.25em;box-sizing: border-box;margin-bottom: 0.5em;}#sk-container-id-10 div.sk-estimator:hover {background-color: #d4ebff;}#sk-container-id-10 div.sk-parallel-item::after {content: \"\";width: 100%;border-bottom: 1px solid gray;flex-grow: 1;}#sk-container-id-10 div.sk-label:hover label.sk-toggleable__label {background-color: #d4ebff;}#sk-container-id-10 div.sk-serial::before {content: \"\";position: absolute;border-left: 1px solid gray;box-sizing: border-box;top: 0;bottom: 0;left: 50%;z-index: 0;}#sk-container-id-10 div.sk-serial {display: flex;flex-direction: column;align-items: center;background-color: white;padding-right: 0.2em;padding-left: 0.2em;position: relative;}#sk-container-id-10 div.sk-item {position: relative;z-index: 1;}#sk-container-id-10 div.sk-parallel {display: flex;align-items: stretch;justify-content: center;background-color: white;position: relative;}#sk-container-id-10 div.sk-item::before, #sk-container-id-10 div.sk-parallel-item::before {content: \"\";position: absolute;border-left: 1px solid gray;box-sizing: border-box;top: 0;bottom: 0;left: 50%;z-index: -1;}#sk-container-id-10 div.sk-parallel-item {display: flex;flex-direction: column;z-index: 1;position: relative;background-color: white;}#sk-container-id-10 div.sk-parallel-item:first-child::after {align-self: flex-end;width: 50%;}#sk-container-id-10 div.sk-parallel-item:last-child::after {align-self: flex-start;width: 50%;}#sk-container-id-10 div.sk-parallel-item:only-child::after {width: 0;}#sk-container-id-10 div.sk-dashed-wrapped {border: 1px dashed gray;margin: 0 0.4em 0.5em 0.4em;box-sizing: border-box;padding-bottom: 0.4em;background-color: white;}#sk-container-id-10 div.sk-label label {font-family: monospace;font-weight: bold;display: inline-block;line-height: 1.2em;}#sk-container-id-10 div.sk-label-container {text-align: center;}#sk-container-id-10 div.sk-container {/* jupyter's `normalize.less` sets `[hidden] { display: none; }` but bootstrap.min.css set `[hidden] { display: none !important; }` so we also need the `!important` here to be able to override the default hidden behavior on the sphinx rendered scikit-learn.org. See: https://github.com/scikit-learn/scikit-learn/issues/21755 */display: inline-block !important;position: relative;}#sk-container-id-10 div.sk-text-repr-fallback {display: none;}</style><div id=\"sk-container-id-10\" class=\"sk-top-container\"><div class=\"sk-text-repr-fallback\"><pre>LogisticRegression(max_iter=10000, random_state=1, solver=&#x27;newton-cg&#x27;)</pre><b>In a Jupyter environment, please rerun this cell to show the HTML representation or trust the notebook. <br />On GitHub, the HTML representation is unable to render, please try loading this page with nbviewer.org.</b></div><div class=\"sk-container\" hidden><div class=\"sk-item\"><div class=\"sk-estimator sk-toggleable\"><input class=\"sk-toggleable__control sk-hidden--visually\" id=\"sk-estimator-id-10\" type=\"checkbox\" checked><label for=\"sk-estimator-id-10\" class=\"sk-toggleable__label sk-toggleable__label-arrow\">LogisticRegression</label><div class=\"sk-toggleable__content\"><pre>LogisticRegression(max_iter=10000, random_state=1, solver=&#x27;newton-cg&#x27;)</pre></div></div></div></div></div>"
            ],
            "text/plain": [
              "LogisticRegression(max_iter=10000, random_state=1, solver='newton-cg')"
            ]
          },
          "execution_count": 196,
          "metadata": {},
          "output_type": "execute_result"
        }
      ],
      "source": [
        "from sklearn.linear_model import LogisticRegression\n",
        "\n",
        "# Make a new log_model\n",
        "log_model_3 = LogisticRegression(random_state=1, solver = \"newton-cg\", max_iter=10000)\n",
        "\n",
        "# Now fit the new model\n",
        "log_model_3.fit(training_data,df_train['y_train'])"
      ]
    },
    {
      "cell_type": "code",
      "execution_count": null,
      "id": "VlXR4GfDS5kf",
      "metadata": {
        "colab": {
          "base_uri": "https://localhost:8080/"
        },
        "id": "VlXR4GfDS5kf",
        "outputId": "9e7fb04a-1750-4c3c-e477-103b6d3e6d44"
      },
      "outputs": [
        {
          "name": "stdout",
          "output_type": "stream",
          "text": [
            "Accuracy of test data:  0.5634921520286476\n",
            "Accuracy of train data:  0.5226250609973228\n"
          ]
        }
      ],
      "source": [
        "# For evaluating our ML results\n",
        "from sklearn import metrics\n",
        "\n",
        "# Predict the classes of the testing data set\n",
        "class_predict = log_model_3.predict(testing_data)\n",
        "class_predict2 = log_model_3.predict(training_data)\n",
        "\n",
        "# Compare the predicted classes to the actual test classes\n",
        "print('Accuracy of test data: ', accuracy_custom(df_test['y_test'], class_predict))\n",
        "print('Accuracy of train data: ', accuracy_score(df_train['y_train'], class_predict2))"
      ]
    },
    {
      "cell_type": "code",
      "execution_count": null,
      "id": "YEl6p6tLNJ3Z",
      "metadata": {
        "id": "YEl6p6tLNJ3Z"
      },
      "outputs": [],
      "source": [
        "code = ['Action', 'Adventure', 'Comedy', 'Documentary', 'Drama', 'Family', 'Horror', 'Romance', 'Thriller']\n",
        "def decode_prediction(prediction):\n",
        "  return code[prediction - 1]"
      ]
    },
    {
      "cell_type": "code",
      "execution_count": null,
      "id": "fFeHgPN66xpU",
      "metadata": {
        "id": "fFeHgPN66xpU"
      },
      "outputs": [],
      "source": [
        "def decode_genre_list(genre_num_list):\n",
        "  output = []\n",
        "  for i in range(len(genre_num_list)):\n",
        "    output.append(decode_prediction(genre_num_list[i]))\n",
        "\n",
        "  return output"
      ]
    },
    {
      "cell_type": "markdown",
      "id": "m1_oNIFetRZd",
      "metadata": {
        "id": "m1_oNIFetRZd"
      },
      "source": [
        "### Model 5 & 6 Findings\n",
        "With the same 9 genre data used in the previous model, we made another attempt with the two algorithms, and our new testing criteria improved the accuracy from 40.9% to 56.4% for multinomial regression, and from 39.8%, to 54.2% for Naive Bayes. These two hypothesized changes from our initial models were able to more than double our original accuracy, proving our earlier hypotheses as true."
      ]
    },
    {
      "cell_type": "markdown",
      "id": "1k7ZfGdZJhlw",
      "metadata": {
        "id": "1k7ZfGdZJhlw"
      },
      "source": [
        "### Model 7 & 8\n",
        "With these learnings in mind, could the other method of handling multi-genre entries, randomized genre selection, improve this further? This was a method which we were hesitant to start off with, as we were unsure how we could test it accurately. With our original method of testing, we would enact this randomized genre selection on all entries in the dataset, but this caused issues. If the randomly selected genre for a training entry wasn’t the one which our model has found to be associated with the words in its title, this would result in a failure, even if this was originally in the list of genres for this entry. With the total number of genres being limited to 9 however, this could be less of a concern, but it would still limit the maximal possible accuracy of this method."
      ]
    },
    {
      "cell_type": "code",
      "execution_count": null,
      "id": "RQZfxSB2OQI5",
      "metadata": {
        "id": "RQZfxSB2OQI5"
      },
      "outputs": [],
      "source": [
        "X_train, X_test, y_train, y_test = train_test_split(data['primaryTitle'], data['genres'])"
      ]
    },
    {
      "cell_type": "code",
      "execution_count": null,
      "id": "q9pwbO8N4w1q",
      "metadata": {
        "id": "q9pwbO8N4w1q"
      },
      "outputs": [],
      "source": [
        "df_test = p.DataFrame({\"X_test\": X_test, \"y_test\": y_test})\n",
        "df_train = p.DataFrame({\"X_train\": X_train, \"y_train\": y_train})"
      ]
    },
    {
      "cell_type": "code",
      "execution_count": null,
      "id": "AlivMyoM48HH",
      "metadata": {
        "id": "AlivMyoM48HH"
      },
      "outputs": [],
      "source": [
        "import random\n",
        "\n",
        "df_train['y_train'] = df_train['y_train'].apply(random.choice)\n",
        "genres_to_keep = ['Drama', 'Documentary', 'Comedy', 'Action', 'Romance', 'Adventure', 'Family', 'Thriller', 'Horror']\n",
        "df_train = df_train[df_train.y_train.isin(genres_to_keep)]\n",
        "df_train['y_train'] = p.factorize(df_train['y_train'], sort=True)[0] + 1\n"
      ]
    },
    {
      "cell_type": "code",
      "execution_count": null,
      "id": "KRDoj5CF48Pd",
      "metadata": {
        "id": "KRDoj5CF48Pd"
      },
      "outputs": [],
      "source": [
        "df_test = df_test.explode('y_test', ignore_index=True)\n",
        "genres_to_keep = ['Drama', 'Documentary', 'Comedy', 'Action', 'Romance', 'Adventure', 'Family', 'Thriller', 'Horror']\n",
        "df_test = df_test[df_test.y_test.isin(genres_to_keep)]\n",
        "df_test['y_test'] = p.factorize(df_test['y_test'], sort=True)[0] + 1\n",
        "\n",
        "df_test = df_test.groupby('X_test')['y_test'].apply(list).reset_index(name=\"y_test\")"
      ]
    },
    {
      "cell_type": "code",
      "execution_count": null,
      "id": "3eN2W2HD48UW",
      "metadata": {
        "id": "3eN2W2HD48UW"
      },
      "outputs": [],
      "source": [
        "from sklearn.feature_extraction.text import CountVectorizer\n",
        "# Instantiate the CountVectorizer method\n",
        "count_vector = CountVectorizer()\n",
        "\n",
        "# Fit the training data and then return the matrix\n",
        "training_data = count_vector.fit_transform(df_train['X_train'])\n",
        "\n",
        "# Transform testing data and return the matrix. Note we are not fitting the testing data into the CountVectorizer()\n",
        "testing_data = count_vector.transform(df_test['X_test'])"
      ]
    },
    {
      "cell_type": "code",
      "execution_count": null,
      "id": "8W8q9aAv48Ws",
      "metadata": {
        "colab": {
          "base_uri": "https://localhost:8080/",
          "height": 75
        },
        "id": "8W8q9aAv48Ws",
        "outputId": "6b792107-125e-4eb3-f9b4-efe87087622d"
      },
      "outputs": [
        {
          "data": {
            "text/html": [
              "<style>#sk-container-id-11 {color: black;background-color: white;}#sk-container-id-11 pre{padding: 0;}#sk-container-id-11 div.sk-toggleable {background-color: white;}#sk-container-id-11 label.sk-toggleable__label {cursor: pointer;display: block;width: 100%;margin-bottom: 0;padding: 0.3em;box-sizing: border-box;text-align: center;}#sk-container-id-11 label.sk-toggleable__label-arrow:before {content: \"▸\";float: left;margin-right: 0.25em;color: #696969;}#sk-container-id-11 label.sk-toggleable__label-arrow:hover:before {color: black;}#sk-container-id-11 div.sk-estimator:hover label.sk-toggleable__label-arrow:before {color: black;}#sk-container-id-11 div.sk-toggleable__content {max-height: 0;max-width: 0;overflow: hidden;text-align: left;background-color: #f0f8ff;}#sk-container-id-11 div.sk-toggleable__content pre {margin: 0.2em;color: black;border-radius: 0.25em;background-color: #f0f8ff;}#sk-container-id-11 input.sk-toggleable__control:checked~div.sk-toggleable__content {max-height: 200px;max-width: 100%;overflow: auto;}#sk-container-id-11 input.sk-toggleable__control:checked~label.sk-toggleable__label-arrow:before {content: \"▾\";}#sk-container-id-11 div.sk-estimator input.sk-toggleable__control:checked~label.sk-toggleable__label {background-color: #d4ebff;}#sk-container-id-11 div.sk-label input.sk-toggleable__control:checked~label.sk-toggleable__label {background-color: #d4ebff;}#sk-container-id-11 input.sk-hidden--visually {border: 0;clip: rect(1px 1px 1px 1px);clip: rect(1px, 1px, 1px, 1px);height: 1px;margin: -1px;overflow: hidden;padding: 0;position: absolute;width: 1px;}#sk-container-id-11 div.sk-estimator {font-family: monospace;background-color: #f0f8ff;border: 1px dotted black;border-radius: 0.25em;box-sizing: border-box;margin-bottom: 0.5em;}#sk-container-id-11 div.sk-estimator:hover {background-color: #d4ebff;}#sk-container-id-11 div.sk-parallel-item::after {content: \"\";width: 100%;border-bottom: 1px solid gray;flex-grow: 1;}#sk-container-id-11 div.sk-label:hover label.sk-toggleable__label {background-color: #d4ebff;}#sk-container-id-11 div.sk-serial::before {content: \"\";position: absolute;border-left: 1px solid gray;box-sizing: border-box;top: 0;bottom: 0;left: 50%;z-index: 0;}#sk-container-id-11 div.sk-serial {display: flex;flex-direction: column;align-items: center;background-color: white;padding-right: 0.2em;padding-left: 0.2em;position: relative;}#sk-container-id-11 div.sk-item {position: relative;z-index: 1;}#sk-container-id-11 div.sk-parallel {display: flex;align-items: stretch;justify-content: center;background-color: white;position: relative;}#sk-container-id-11 div.sk-item::before, #sk-container-id-11 div.sk-parallel-item::before {content: \"\";position: absolute;border-left: 1px solid gray;box-sizing: border-box;top: 0;bottom: 0;left: 50%;z-index: -1;}#sk-container-id-11 div.sk-parallel-item {display: flex;flex-direction: column;z-index: 1;position: relative;background-color: white;}#sk-container-id-11 div.sk-parallel-item:first-child::after {align-self: flex-end;width: 50%;}#sk-container-id-11 div.sk-parallel-item:last-child::after {align-self: flex-start;width: 50%;}#sk-container-id-11 div.sk-parallel-item:only-child::after {width: 0;}#sk-container-id-11 div.sk-dashed-wrapped {border: 1px dashed gray;margin: 0 0.4em 0.5em 0.4em;box-sizing: border-box;padding-bottom: 0.4em;background-color: white;}#sk-container-id-11 div.sk-label label {font-family: monospace;font-weight: bold;display: inline-block;line-height: 1.2em;}#sk-container-id-11 div.sk-label-container {text-align: center;}#sk-container-id-11 div.sk-container {/* jupyter's `normalize.less` sets `[hidden] { display: none; }` but bootstrap.min.css set `[hidden] { display: none !important; }` so we also need the `!important` here to be able to override the default hidden behavior on the sphinx rendered scikit-learn.org. See: https://github.com/scikit-learn/scikit-learn/issues/21755 */display: inline-block !important;position: relative;}#sk-container-id-11 div.sk-text-repr-fallback {display: none;}</style><div id=\"sk-container-id-11\" class=\"sk-top-container\"><div class=\"sk-text-repr-fallback\"><pre>MultinomialNB()</pre><b>In a Jupyter environment, please rerun this cell to show the HTML representation or trust the notebook. <br />On GitHub, the HTML representation is unable to render, please try loading this page with nbviewer.org.</b></div><div class=\"sk-container\" hidden><div class=\"sk-item\"><div class=\"sk-estimator sk-toggleable\"><input class=\"sk-toggleable__control sk-hidden--visually\" id=\"sk-estimator-id-11\" type=\"checkbox\" checked><label for=\"sk-estimator-id-11\" class=\"sk-toggleable__label sk-toggleable__label-arrow\">MultinomialNB</label><div class=\"sk-toggleable__content\"><pre>MultinomialNB()</pre></div></div></div></div></div>"
            ],
            "text/plain": [
              "MultinomialNB()"
            ]
          },
          "execution_count": 206,
          "metadata": {},
          "output_type": "execute_result"
        }
      ],
      "source": [
        "from sklearn.naive_bayes import MultinomialNB\n",
        "naive_bayes_4 = MultinomialNB()\n",
        "naive_bayes_4.fit(training_data,df_train['y_train'])"
      ]
    },
    {
      "cell_type": "code",
      "execution_count": null,
      "id": "o10h-JTQ48ZI",
      "metadata": {
        "id": "o10h-JTQ48ZI"
      },
      "outputs": [],
      "source": [
        "predictions_test_4 = naive_bayes_4.predict(testing_data)\n",
        "predictions_train = naive_bayes_4.predict(training_data)"
      ]
    },
    {
      "cell_type": "code",
      "execution_count": null,
      "id": "YakRXbDY48be",
      "metadata": {
        "colab": {
          "base_uri": "https://localhost:8080/"
        },
        "id": "YakRXbDY48be",
        "outputId": "523a9b8a-d27a-42a0-d743-fd43eb2ddefc"
      },
      "outputs": [
        {
          "name": "stdout",
          "output_type": "stream",
          "text": [
            "Accuracy of test data:  0.5208784341732319\n",
            "Accuracy of train data:  0.5408487965894152\n"
          ]
        }
      ],
      "source": [
        "print('Accuracy of test data: ', accuracy_custom(df_test['y_test'], predictions_test_4))\n",
        "print('Accuracy of train data: ', accuracy_score(df_train['y_train'], predictions_train))"
      ]
    },
    {
      "cell_type": "code",
      "execution_count": null,
      "id": "t8sBkuB0Ft3E",
      "metadata": {
        "colab": {
          "base_uri": "https://localhost:8080/",
          "height": 75
        },
        "id": "t8sBkuB0Ft3E",
        "outputId": "00f0b6e4-8d0d-4240-8791-59407d9840fe"
      },
      "outputs": [
        {
          "data": {
            "text/html": [
              "<style>#sk-container-id-12 {color: black;background-color: white;}#sk-container-id-12 pre{padding: 0;}#sk-container-id-12 div.sk-toggleable {background-color: white;}#sk-container-id-12 label.sk-toggleable__label {cursor: pointer;display: block;width: 100%;margin-bottom: 0;padding: 0.3em;box-sizing: border-box;text-align: center;}#sk-container-id-12 label.sk-toggleable__label-arrow:before {content: \"▸\";float: left;margin-right: 0.25em;color: #696969;}#sk-container-id-12 label.sk-toggleable__label-arrow:hover:before {color: black;}#sk-container-id-12 div.sk-estimator:hover label.sk-toggleable__label-arrow:before {color: black;}#sk-container-id-12 div.sk-toggleable__content {max-height: 0;max-width: 0;overflow: hidden;text-align: left;background-color: #f0f8ff;}#sk-container-id-12 div.sk-toggleable__content pre {margin: 0.2em;color: black;border-radius: 0.25em;background-color: #f0f8ff;}#sk-container-id-12 input.sk-toggleable__control:checked~div.sk-toggleable__content {max-height: 200px;max-width: 100%;overflow: auto;}#sk-container-id-12 input.sk-toggleable__control:checked~label.sk-toggleable__label-arrow:before {content: \"▾\";}#sk-container-id-12 div.sk-estimator input.sk-toggleable__control:checked~label.sk-toggleable__label {background-color: #d4ebff;}#sk-container-id-12 div.sk-label input.sk-toggleable__control:checked~label.sk-toggleable__label {background-color: #d4ebff;}#sk-container-id-12 input.sk-hidden--visually {border: 0;clip: rect(1px 1px 1px 1px);clip: rect(1px, 1px, 1px, 1px);height: 1px;margin: -1px;overflow: hidden;padding: 0;position: absolute;width: 1px;}#sk-container-id-12 div.sk-estimator {font-family: monospace;background-color: #f0f8ff;border: 1px dotted black;border-radius: 0.25em;box-sizing: border-box;margin-bottom: 0.5em;}#sk-container-id-12 div.sk-estimator:hover {background-color: #d4ebff;}#sk-container-id-12 div.sk-parallel-item::after {content: \"\";width: 100%;border-bottom: 1px solid gray;flex-grow: 1;}#sk-container-id-12 div.sk-label:hover label.sk-toggleable__label {background-color: #d4ebff;}#sk-container-id-12 div.sk-serial::before {content: \"\";position: absolute;border-left: 1px solid gray;box-sizing: border-box;top: 0;bottom: 0;left: 50%;z-index: 0;}#sk-container-id-12 div.sk-serial {display: flex;flex-direction: column;align-items: center;background-color: white;padding-right: 0.2em;padding-left: 0.2em;position: relative;}#sk-container-id-12 div.sk-item {position: relative;z-index: 1;}#sk-container-id-12 div.sk-parallel {display: flex;align-items: stretch;justify-content: center;background-color: white;position: relative;}#sk-container-id-12 div.sk-item::before, #sk-container-id-12 div.sk-parallel-item::before {content: \"\";position: absolute;border-left: 1px solid gray;box-sizing: border-box;top: 0;bottom: 0;left: 50%;z-index: -1;}#sk-container-id-12 div.sk-parallel-item {display: flex;flex-direction: column;z-index: 1;position: relative;background-color: white;}#sk-container-id-12 div.sk-parallel-item:first-child::after {align-self: flex-end;width: 50%;}#sk-container-id-12 div.sk-parallel-item:last-child::after {align-self: flex-start;width: 50%;}#sk-container-id-12 div.sk-parallel-item:only-child::after {width: 0;}#sk-container-id-12 div.sk-dashed-wrapped {border: 1px dashed gray;margin: 0 0.4em 0.5em 0.4em;box-sizing: border-box;padding-bottom: 0.4em;background-color: white;}#sk-container-id-12 div.sk-label label {font-family: monospace;font-weight: bold;display: inline-block;line-height: 1.2em;}#sk-container-id-12 div.sk-label-container {text-align: center;}#sk-container-id-12 div.sk-container {/* jupyter's `normalize.less` sets `[hidden] { display: none; }` but bootstrap.min.css set `[hidden] { display: none !important; }` so we also need the `!important` here to be able to override the default hidden behavior on the sphinx rendered scikit-learn.org. See: https://github.com/scikit-learn/scikit-learn/issues/21755 */display: inline-block !important;position: relative;}#sk-container-id-12 div.sk-text-repr-fallback {display: none;}</style><div id=\"sk-container-id-12\" class=\"sk-top-container\"><div class=\"sk-text-repr-fallback\"><pre>LogisticRegression(max_iter=10000, random_state=1, solver=&#x27;newton-cg&#x27;)</pre><b>In a Jupyter environment, please rerun this cell to show the HTML representation or trust the notebook. <br />On GitHub, the HTML representation is unable to render, please try loading this page with nbviewer.org.</b></div><div class=\"sk-container\" hidden><div class=\"sk-item\"><div class=\"sk-estimator sk-toggleable\"><input class=\"sk-toggleable__control sk-hidden--visually\" id=\"sk-estimator-id-12\" type=\"checkbox\" checked><label for=\"sk-estimator-id-12\" class=\"sk-toggleable__label sk-toggleable__label-arrow\">LogisticRegression</label><div class=\"sk-toggleable__content\"><pre>LogisticRegression(max_iter=10000, random_state=1, solver=&#x27;newton-cg&#x27;)</pre></div></div></div></div></div>"
            ],
            "text/plain": [
              "LogisticRegression(max_iter=10000, random_state=1, solver='newton-cg')"
            ]
          },
          "execution_count": 209,
          "metadata": {},
          "output_type": "execute_result"
        }
      ],
      "source": [
        "from sklearn.linear_model import LogisticRegression\n",
        "\n",
        "# Make a new log_model\n",
        "log_model_4 = LogisticRegression(random_state=1, solver = \"newton-cg\", max_iter=10000)\n",
        "\n",
        "# Now fit the new model\n",
        "log_model_4.fit(training_data,df_train['y_train'])"
      ]
    },
    {
      "cell_type": "code",
      "execution_count": null,
      "id": "Jf5eyuhkFljB",
      "metadata": {
        "colab": {
          "base_uri": "https://localhost:8080/"
        },
        "id": "Jf5eyuhkFljB",
        "outputId": "323108e7-4bad-4966-c594-b8ed82c82fa9"
      },
      "outputs": [
        {
          "name": "stdout",
          "output_type": "stream",
          "text": [
            "Accuracy of test data:  0.5509964960832013\n",
            "Accuracy of train data:  0.5965451857433625\n"
          ]
        }
      ],
      "source": [
        "# For evaluating our ML results\n",
        "from sklearn import metrics\n",
        "\n",
        "# Predict the classes of the testing data set\n",
        "class_predict_4 = log_model_4.predict(testing_data)\n",
        "class_predict2 = log_model_4.predict(training_data)\n",
        "\n",
        "\n",
        "# Compare the predicted classes to the actual test classes\n",
        "print('Accuracy of test data: ', accuracy_custom(df_test['y_test'], class_predict_4))\n",
        "print('Accuracy of train data: ', accuracy_score(df_train['y_train'], class_predict2))"
      ]
    },
    {
      "cell_type": "markdown",
      "id": "u2QoegEztmoh",
      "metadata": {
        "id": "u2QoegEztmoh"
      },
      "source": [
        "### Model 7 & 8 Findings\n",
        "With multinomial regression, we returned 55.1% accuracy, which is still much better than some of our previous iterations, but not better than the incumbent method. This pattern was matched by the Naive Bayes algorithm, as it returned 52.2% accuracy, just short of its previous mark."
      ]
    },
    {
      "cell_type": "markdown",
      "id": "1JcaohdUro9f",
      "metadata": {
        "id": "1JcaohdUro9f"
      },
      "source": [
        "# Conclusions\n",
        "\n",
        "After all the iteration shown above, the solution which we found most suitable was to classify between nine general genres (drama, documentary, comedy, action, romance, adventure, family, thriller, horror) using the multinomial regression algorithm, which returned an accuracy of 56.4%. Across the board, with every change that was made to the data or to the definition of a successful test, the multinomial regression model performed slightly better than the Naive Bayes model. This makes sense for two core reasons: the amount of training data which we had available, and the distribution of this data across the nine genres. The Naive Bayes model has been shown to train well on smaller amounts of data, but reach its performance asymptote sooner than logistic or multinomial regression, which performs better the more data it has (Ng & Jordan). We had a very large amount of data, with hundreds of thousands of entries and the charts below show the distribution of entries across genres is highly centralized in three genres. The Naive Bayes model is also known to have more bias, and less variance, than logistic or multinomial regression (EDUCBA), and because of this, centralizes its predictions even more towards these three genres. This is shown in the charts below.\n"
      ]
    },
    {
      "cell_type": "code",
      "execution_count": null,
      "id": "jB_xXdUA0h23",
      "metadata": {
        "colab": {
          "base_uri": "https://localhost:8080/",
          "height": 1000
        },
        "id": "jB_xXdUA0h23",
        "outputId": "dae41f6b-dce5-49df-f118-e1065b67b398"
      },
      "outputs": [
        {
          "data": {
            "image/png": "[encoded data removed]",
            "text/plain": [
              "<Figure size 3000x900 with 3 Axes>"
            ]
          },
          "metadata": {},
          "output_type": "display_data"
        },
        {
          "data": {
            "image/png": "[encoded data removed]",
            "text/plain": [
              "<Figure size 3000x900 with 3 Axes>"
            ]
          },
          "metadata": {},
          "output_type": "display_data"
        }
      ],
      "source": [
        "#Actual Genre Plot\n",
        "fig, ax = plt.subplots(1, 3, figsize=(30,9))\n",
        "genres = decode_genre_list(to_1D(df_test['y_test']).value_counts().index.tolist())\n",
        "count = to_1D(df_test['y_test']).value_counts().values\n",
        "ax[0].bar(genres,count)\n",
        "ax[0].set_title('Actual Data Model 5/6')\n",
        "# plt.xticks(rotation='vertical')\n",
        "# plt.xlabel('Genre')\n",
        "# plt.ylabel('# of Titles')\n",
        "\n",
        "from collections import Counter\n",
        "\n",
        "#Naive Bayes Plot\n",
        "genresNB =  decode_genre_list([*Counter(predictions_test)])\n",
        "countNB = Counter(predictions_test).values()\n",
        "df_nb = p.DataFrame(\n",
        "   dict(\n",
        "      genres=genresNB,\n",
        "      count=countNB\n",
        "   )\n",
        ")\n",
        "df_nb = df_nb.sort_values('count', ascending=False)\n",
        "ax[1].bar('genres','count', data=df_nb)\n",
        "ax[1].set_title('Naive Bayes Predictions Model 5')\n",
        "\n",
        "\n",
        "genresLog =  decode_genre_list([*Counter(class_predict)])\n",
        "countLog = Counter(class_predict).values()\n",
        "df_log = p.DataFrame(\n",
        "   dict(\n",
        "      genres=genresLog,\n",
        "      count=countLog\n",
        "   )\n",
        ")\n",
        "df_log = df_log.sort_values('count', ascending=False)\n",
        "ax[2].bar('genres','count', data=df_log)\n",
        "ax[2].set_title('Log Predictions Model 6')\n",
        "\n",
        "plt.show()\n",
        "\n",
        "#Actual Genre Plot\n",
        "fig, ax = plt.subplots(1, 3, figsize=(30,9))\n",
        "genres = decode_genre_list(to_1D(df_test['y_test']).value_counts().index.tolist())\n",
        "count = to_1D(df_test['y_test']).value_counts().values\n",
        "ax[0].bar(genres,count)\n",
        "ax[0].set_title('Actual Data Model 7/8')\n",
        "# plt.xticks(rotation='vertical')\n",
        "# plt.xlabel('Genre')\n",
        "# plt.ylabel('# of Titles')\n",
        "\n",
        "from collections import Counter\n",
        "\n",
        "#Naive Bayes Plot\n",
        "genresNB =  decode_genre_list([*Counter(predictions_test_4)])\n",
        "countNB = Counter(predictions_test).values()\n",
        "df_nb = p.DataFrame(\n",
        "   dict(\n",
        "      genres=genresNB,\n",
        "      count=countNB\n",
        "   )\n",
        ")\n",
        "df_nb = df_nb.sort_values('count', ascending=False)\n",
        "ax[1].bar('genres','count', data=df_nb)\n",
        "ax[1].set_title('Naive Bayes Predictions Model 7')\n",
        "\n",
        "\n",
        "genresLog =  decode_genre_list([*Counter(class_predict_4)])\n",
        "countLog = Counter(class_predict).values()\n",
        "df_log = p.DataFrame(\n",
        "   dict(\n",
        "      genres=genresLog,\n",
        "      count=countLog\n",
        "   )\n",
        ")\n",
        "df_log = df_log.sort_values('count', ascending=False)\n",
        "ax[2].bar('genres','count', data=df_log)\n",
        "ax[2].set_title('Log Predictions Model 8')\n",
        "\n",
        "plt.show()"
      ]
    },
    {
      "cell_type": "markdown",
      "id": "bXnwFuVartRp",
      "metadata": {
        "id": "bXnwFuVartRp"
      },
      "source": [
        "### Limitations\n",
        "There are a few core limitations to our chosen model, and most are related to just how limited the input is to the model. This affects not only the ability to train the model properly, but also its practicality and application. In training, it caused many issues with less common genres, and even with the smaller chosen list of nine genres, it still causes a heavy tendency towards the most popular genres due to the ambiguity which many titles contain. Many inputs may result in the model returning one of the two most popular genres, drama and documentary, due to the titles being too ambiguous (e.g. “This is us”), short (e.g. “Holes”), or containing unique words such as names of people or places (e.g. “Mrs. Robinson”). Given these factors it is easy to see how our accuracy is lower even given the relatively small number of classes.\n",
        "\n",
        "### Real World Applications\n",
        "How does this model project to the real world, given these statistics and limitations? To film-makers, writers, production companies, agents, and anyone else, it allows for a preliminary look into how the name of their movie will be perceived. This applies not only to the average consumer, but also by many search engines or social media platforms which classify content across the internet. With nine possible genres, and 56.4% accuracy, the model is much better than just choosing the most common genre, and depending on the length and ambiguity of the input, the model can give reliable predictions as to how this title will be perceived. Keeping the above listed limitations in mind, and using descriptive words, it should give a result which the average person would have a hard time disagreeing with.\n",
        "### Learning\n",
        "This project taught all of us just how much of the machine learning process truly is about the data. In reflection, the majority of our time was spent making data-centered decisions. We needed to decide what to filter out, how we would handle other languages, ambiguous words, and what to do with the difficulties with our class variable, genre. Determining how to enact these changes took time as well, and even running some of them took hours! We also found that any manipulation of data had a large effect on the way we needed to test when running the model, especially because a lot of the manipulations we needed to make were with our target variable. This relationship was evident as the project progressed. The steps in data preparation were many, as well as in testing, whereas the steps in running the model were relatively few. This makes sense however, as a model that cannot be tested, cannot be used, at least not with any confidence! These are the less glorified aspects of machine learning which made all the difference in our ability to complete this project and improve the accuracy of our model.\n",
        "### Next Steps\n",
        "Next steps for this project would be to try a pre-built natural language processing model of some kind to perform this classification. This model would preferably be able to take not only the frequency of the words themselves into account, but their meaning, and even better, their meaning in context if possible. This would undoubtedly improve the model significantly, and if trained on the cleaned data which we have, it would be very interesting to see just how much of an improvement could be made. The previously mentioned issues with ambiguity, unique words, and short titles would all still apply, but how much of an effect these things would have on a more sophisticated model would be an interesting experiment to undergo."
      ]
    },
    {
      "cell_type": "markdown",
      "id": "xWVvxW5gJrO8",
      "metadata": {
        "id": "xWVvxW5gJrO8"
      },
      "source": [
        "# Optimal Model in Production\n",
        "\n",
        "Try the model out yourself! (The model works better with longer inputs)"
      ]
    },
    {
      "cell_type": "code",
      "execution_count": null,
      "id": "4V6I9Ev6kSRk",
      "metadata": {
        "colab": {
          "base_uri": "https://localhost:8080/"
        },
        "id": "4V6I9Ev6kSRk",
        "outputId": "c28a6cdf-eb49-4a5f-9ffa-0fdade997d0e"
      },
      "outputs": [
        {
          "name": "stdout",
          "output_type": "stream",
          "text": [
            "Please Input a Movie Title: Pirate Quest Stolen Treasure\n",
            "Adventure\n"
          ]
        }
      ],
      "source": [
        "userInput = input(\"Please Input a Movie Title: \" )\n",
        "\n",
        "userInput = word_tokenize(userInput)\n",
        "userInput = remove_stop_word(userInput)\n",
        "userInput = lemmatizeList(userInput)\n",
        "userInput = TreebankWordDetokenizer().detokenize(userInput)\n",
        "\n",
        "userInput = count_vector.transform([userInput])\n",
        "prediction = log_model_4.predict(userInput)\n",
        "output = decode_prediction(prediction[0])\n",
        "\n",
        "print(output)"
      ]
    },
    {
      "cell_type": "markdown",
      "id": "Q2zUUjP2Hapo",
      "metadata": {
        "id": "Q2zUUjP2Hapo"
      },
      "source": [
        "### Bibliography\n",
        "EDUCBA. (2023, March 8). Naive Bayes vs logistic regression: Top 5 differences you should\n",
        "know. EDUCBA. Retrieved April 6, 2023, from\n",
        "https://www.educba.com/naive-bayes-vs-logistic-regression/\n",
        "\n",
        "Ng, A. Y., & Jordan, M. I. (2001, January 1). On discriminative vs. Generative Classifiers:\n",
        "Proceedings of the 14th International Conference on Neural Information Processing\n",
        "Systems: Natural and synthetic. Guide Proceedings. Retrieved April 6, 2023, from\n",
        "https://dl.acm.org/doi/10.5555/2980539.2980648\n"
      ]
    }
  ],
  "metadata": {
    "colab": {
      "provenance": []
    },
    "kernelspec": {
      "display_name": "Python 3 (ipykernel)",
      "language": "python",
      "name": "python3"
    },
    "language_info": {
      "codemirror_mode": {
        "name": "ipython",
        "version": 3
      },
      "file_extension": ".py",
      "mimetype": "text/x-python",
      "name": "python",
      "nbconvert_exporter": "python",
      "pygments_lexer": "ipython3",
      "version": "3.9.0"
    },
    "widgets": {
      "application/vnd.jupyter.widget-state+json": {
        "00cb34c30df449ec99613120666c36d3": {
          "model_module": "@jupyter-widgets/controls",
          "model_module_version": "1.5.0",
          "model_name": "IntProgressModel",
          "state": {
            "_dom_classes": [],
            "_model_module": "@jupyter-widgets/controls",
            "_model_module_version": "1.5.0",
            "_model_name": "IntProgressModel",
            "_view_count": null,
            "_view_module": "@jupyter-widgets/controls",
            "_view_module_version": "1.5.0",
            "_view_name": "ProgressView",
            "bar_style": "success",
            "description": "100.00%",
            "description_tooltip": null,
            "layout": "IPY_MODEL_b83921ca1b624145a1b301228e2c52b1",
            "max": 170154,
            "min": 0,
            "orientation": "horizontal",
            "style": "IPY_MODEL_d1443ed915d44aaf86afa5e2da2b8cf9",
            "value": 170154
          }
        },
        "04b32db5cf124f36b2327f98d2b16d1b": {
          "model_module": "@jupyter-widgets/base",
          "model_module_version": "1.2.0",
          "model_name": "LayoutModel",
          "state": {
            "_model_module": "@jupyter-widgets/base",
            "_model_module_version": "1.2.0",
            "_model_name": "LayoutModel",
            "_view_count": null,
            "_view_module": "@jupyter-widgets/base",
            "_view_module_version": "1.2.0",
            "_view_name": "LayoutView",
            "align_content": null,
            "align_items": null,
            "align_self": null,
            "border": null,
            "bottom": null,
            "display": null,
            "flex": null,
            "flex_flow": null,
            "grid_area": null,
            "grid_auto_columns": null,
            "grid_auto_flow": null,
            "grid_auto_rows": null,
            "grid_column": null,
            "grid_gap": null,
            "grid_row": null,
            "grid_template_areas": null,
            "grid_template_columns": null,
            "grid_template_rows": null,
            "height": null,
            "justify_content": null,
            "justify_items": null,
            "left": null,
            "margin": null,
            "max_height": null,
            "max_width": null,
            "min_height": null,
            "min_width": null,
            "object_fit": null,
            "object_position": null,
            "order": null,
            "overflow": null,
            "overflow_x": null,
            "overflow_y": null,
            "padding": null,
            "right": null,
            "top": null,
            "visibility": null,
            "width": null
          }
        },
        "05618a59f72140818d246fce478aba76": {
          "model_module": "@jupyter-widgets/controls",
          "model_module_version": "1.5.0",
          "model_name": "HBoxModel",
          "state": {
            "_dom_classes": [],
            "_model_module": "@jupyter-widgets/controls",
            "_model_module_version": "1.5.0",
            "_model_name": "HBoxModel",
            "_view_count": null,
            "_view_module": "@jupyter-widgets/controls",
            "_view_module_version": "1.5.0",
            "_view_name": "HBoxView",
            "box_style": "",
            "children": [
              "IPY_MODEL_96f00a5d53254c1ea07241553f6f0edb",
              "IPY_MODEL_83066229ac78411081c13787cf558e0e"
            ],
            "layout": "IPY_MODEL_137564443e0244969d10b08298424df2"
          }
        },
        "060357e7e7094e80a47dca83b3ac89e3": {
          "model_module": "@jupyter-widgets/controls",
          "model_module_version": "1.5.0",
          "model_name": "ProgressStyleModel",
          "state": {
            "_model_module": "@jupyter-widgets/controls",
            "_model_module_version": "1.5.0",
            "_model_name": "ProgressStyleModel",
            "_view_count": null,
            "_view_module": "@jupyter-widgets/base",
            "_view_module_version": "1.2.0",
            "_view_name": "StyleView",
            "bar_color": null,
            "description_width": ""
          }
        },
        "0b11f2aab3f54b5ba802ae38adf07cc8": {
          "model_module": "@jupyter-widgets/controls",
          "model_module_version": "1.5.0",
          "model_name": "IntProgressModel",
          "state": {
            "_dom_classes": [],
            "_model_module": "@jupyter-widgets/controls",
            "_model_module_version": "1.5.0",
            "_model_name": "IntProgressModel",
            "_view_count": null,
            "_view_module": "@jupyter-widgets/controls",
            "_view_module_version": "1.5.0",
            "_view_name": "ProgressView",
            "bar_style": "success",
            "description": "100.00%",
            "description_tooltip": null,
            "layout": "IPY_MODEL_19b4ce9eb0df46ed9042a7f7190455c5",
            "max": 170154,
            "min": 0,
            "orientation": "horizontal",
            "style": "IPY_MODEL_b2a018e684a14a32ad6b4b5b1b78b030",
            "value": 170154
          }
        },
        "0c1503d62a15404da3b3a1bc00b0c205": {
          "model_module": "@jupyter-widgets/controls",
          "model_module_version": "1.5.0",
          "model_name": "DescriptionStyleModel",
          "state": {
            "_model_module": "@jupyter-widgets/controls",
            "_model_module_version": "1.5.0",
            "_model_name": "DescriptionStyleModel",
            "_view_count": null,
            "_view_module": "@jupyter-widgets/base",
            "_view_module_version": "1.2.0",
            "_view_name": "StyleView",
            "description_width": ""
          }
        },
        "0ed283f34aaa4a21bcea6a62b9853181": {
          "model_module": "@jupyter-widgets/controls",
          "model_module_version": "1.5.0",
          "model_name": "DescriptionStyleModel",
          "state": {
            "_model_module": "@jupyter-widgets/controls",
            "_model_module_version": "1.5.0",
            "_model_name": "DescriptionStyleModel",
            "_view_count": null,
            "_view_module": "@jupyter-widgets/base",
            "_view_module_version": "1.2.0",
            "_view_name": "StyleView",
            "description_width": ""
          }
        },
        "10c4cdfd638a4c8db6a774faff967767": {
          "model_module": "@jupyter-widgets/base",
          "model_module_version": "1.2.0",
          "model_name": "LayoutModel",
          "state": {
            "_model_module": "@jupyter-widgets/base",
            "_model_module_version": "1.2.0",
            "_model_name": "LayoutModel",
            "_view_count": null,
            "_view_module": "@jupyter-widgets/base",
            "_view_module_version": "1.2.0",
            "_view_name": "LayoutView",
            "align_content": null,
            "align_items": null,
            "align_self": null,
            "border": null,
            "bottom": null,
            "display": null,
            "flex": null,
            "flex_flow": null,
            "grid_area": null,
            "grid_auto_columns": null,
            "grid_auto_flow": null,
            "grid_auto_rows": null,
            "grid_column": null,
            "grid_gap": null,
            "grid_row": null,
            "grid_template_areas": null,
            "grid_template_columns": null,
            "grid_template_rows": null,
            "height": null,
            "justify_content": null,
            "justify_items": null,
            "left": null,
            "margin": null,
            "max_height": null,
            "max_width": null,
            "min_height": null,
            "min_width": null,
            "object_fit": null,
            "object_position": null,
            "order": null,
            "overflow": null,
            "overflow_x": null,
            "overflow_y": null,
            "padding": null,
            "right": null,
            "top": null,
            "visibility": null,
            "width": null
          }
        },
        "11768e4fee984b0696bd9e0865df6ad9": {
          "model_module": "@jupyter-widgets/controls",
          "model_module_version": "1.5.0",
          "model_name": "IntProgressModel",
          "state": {
            "_dom_classes": [],
            "_model_module": "@jupyter-widgets/controls",
            "_model_module_version": "1.5.0",
            "_model_name": "IntProgressModel",
            "_view_count": null,
            "_view_module": "@jupyter-widgets/controls",
            "_view_module_version": "1.5.0",
            "_view_name": "ProgressView",
            "bar_style": "success",
            "description": "100.00%",
            "description_tooltip": null,
            "layout": "IPY_MODEL_94c3ae0ce68d422d96e372894ae8e063",
            "max": 170154,
            "min": 0,
            "orientation": "horizontal",
            "style": "IPY_MODEL_8e1dfbe5d4d941758df4e197d5f74ba6",
            "value": 170154
          }
        },
        "1272847fcde646268f4d65dbf8717a00": {
          "model_module": "@jupyter-widgets/controls",
          "model_module_version": "1.5.0",
          "model_name": "LabelModel",
          "state": {
            "_dom_classes": [],
            "_model_module": "@jupyter-widgets/controls",
            "_model_module_version": "1.5.0",
            "_model_name": "LabelModel",
            "_view_count": null,
            "_view_module": "@jupyter-widgets/controls",
            "_view_module_version": "1.5.0",
            "_view_name": "LabelView",
            "description": "",
            "description_tooltip": null,
            "layout": "IPY_MODEL_e67a2d1e4fb24a29bd8ac99b1f3894d7",
            "placeholder": "​",
            "style": "IPY_MODEL_ac14e736eaa74b76a06bc6db58cb9e8f",
            "value": "170154 / 170154"
          }
        },
        "137564443e0244969d10b08298424df2": {
          "model_module": "@jupyter-widgets/base",
          "model_module_version": "1.2.0",
          "model_name": "LayoutModel",
          "state": {
            "_model_module": "@jupyter-widgets/base",
            "_model_module_version": "1.2.0",
            "_model_name": "LayoutModel",
            "_view_count": null,
            "_view_module": "@jupyter-widgets/base",
            "_view_module_version": "1.2.0",
            "_view_name": "LayoutView",
            "align_content": null,
            "align_items": null,
            "align_self": null,
            "border": null,
            "bottom": null,
            "display": null,
            "flex": null,
            "flex_flow": null,
            "grid_area": null,
            "grid_auto_columns": null,
            "grid_auto_flow": null,
            "grid_auto_rows": null,
            "grid_column": null,
            "grid_gap": null,
            "grid_row": null,
            "grid_template_areas": null,
            "grid_template_columns": null,
            "grid_template_rows": null,
            "height": null,
            "justify_content": null,
            "justify_items": null,
            "left": null,
            "margin": null,
            "max_height": null,
            "max_width": null,
            "min_height": null,
            "min_width": null,
            "object_fit": null,
            "object_position": null,
            "order": null,
            "overflow": null,
            "overflow_x": null,
            "overflow_y": null,
            "padding": null,
            "right": null,
            "top": null,
            "visibility": null,
            "width": null
          }
        },
        "146093c61fe94ab6bf271348ba4d21e9": {
          "model_module": "@jupyter-widgets/controls",
          "model_module_version": "1.5.0",
          "model_name": "HBoxModel",
          "state": {
            "_dom_classes": [],
            "_model_module": "@jupyter-widgets/controls",
            "_model_module_version": "1.5.0",
            "_model_name": "HBoxModel",
            "_view_count": null,
            "_view_module": "@jupyter-widgets/controls",
            "_view_module_version": "1.5.0",
            "_view_name": "HBoxView",
            "box_style": "",
            "children": [
              "IPY_MODEL_25bfa714074b4575be00827b32285207",
              "IPY_MODEL_cad9c98d7e604e94b828420ab37c8308"
            ],
            "layout": "IPY_MODEL_f3909bae62cd4d558746efdcf969dcd3"
          }
        },
        "15a268bf92f94494adf325769932973d": {
          "model_module": "@jupyter-widgets/controls",
          "model_module_version": "1.5.0",
          "model_name": "IntProgressModel",
          "state": {
            "_dom_classes": [],
            "_model_module": "@jupyter-widgets/controls",
            "_model_module_version": "1.5.0",
            "_model_name": "IntProgressModel",
            "_view_count": null,
            "_view_module": "@jupyter-widgets/controls",
            "_view_module_version": "1.5.0",
            "_view_name": "ProgressView",
            "bar_style": "success",
            "description": "100.00%",
            "description_tooltip": null,
            "layout": "IPY_MODEL_8d6c6bc814cb44aba8f490f18721d785",
            "max": 170153,
            "min": 0,
            "orientation": "horizontal",
            "style": "IPY_MODEL_060357e7e7094e80a47dca83b3ac89e3",
            "value": 170153
          }
        },
        "176756bb43424e4593149e68efac8a4c": {
          "model_module": "@jupyter-widgets/controls",
          "model_module_version": "1.5.0",
          "model_name": "HBoxModel",
          "state": {
            "_dom_classes": [],
            "_model_module": "@jupyter-widgets/controls",
            "_model_module_version": "1.5.0",
            "_model_name": "HBoxModel",
            "_view_count": null,
            "_view_module": "@jupyter-widgets/controls",
            "_view_module_version": "1.5.0",
            "_view_name": "HBoxView",
            "box_style": "",
            "children": [
              "IPY_MODEL_49fab2252e47407faa2f59756678e902",
              "IPY_MODEL_74cdd86ae5834f95ac12e8f615f5a59a"
            ],
            "layout": "IPY_MODEL_6e4319730fbb484c817c3a55a4a8fd61"
          }
        },
        "19b4ce9eb0df46ed9042a7f7190455c5": {
          "model_module": "@jupyter-widgets/base",
          "model_module_version": "1.2.0",
          "model_name": "LayoutModel",
          "state": {
            "_model_module": "@jupyter-widgets/base",
            "_model_module_version": "1.2.0",
            "_model_name": "LayoutModel",
            "_view_count": null,
            "_view_module": "@jupyter-widgets/base",
            "_view_module_version": "1.2.0",
            "_view_name": "LayoutView",
            "align_content": null,
            "align_items": null,
            "align_self": null,
            "border": null,
            "bottom": null,
            "display": null,
            "flex": null,
            "flex_flow": null,
            "grid_area": null,
            "grid_auto_columns": null,
            "grid_auto_flow": null,
            "grid_auto_rows": null,
            "grid_column": null,
            "grid_gap": null,
            "grid_row": null,
            "grid_template_areas": null,
            "grid_template_columns": null,
            "grid_template_rows": null,
            "height": null,
            "justify_content": null,
            "justify_items": null,
            "left": null,
            "margin": null,
            "max_height": null,
            "max_width": null,
            "min_height": null,
            "min_width": null,
            "object_fit": null,
            "object_position": null,
            "order": null,
            "overflow": null,
            "overflow_x": null,
            "overflow_y": null,
            "padding": null,
            "right": null,
            "top": null,
            "visibility": null,
            "width": null
          }
        },
        "1a28dd8e51c04aa0819b29e4f99f1bcf": {
          "model_module": "@jupyter-widgets/base",
          "model_module_version": "1.2.0",
          "model_name": "LayoutModel",
          "state": {
            "_model_module": "@jupyter-widgets/base",
            "_model_module_version": "1.2.0",
            "_model_name": "LayoutModel",
            "_view_count": null,
            "_view_module": "@jupyter-widgets/base",
            "_view_module_version": "1.2.0",
            "_view_name": "LayoutView",
            "align_content": null,
            "align_items": null,
            "align_self": null,
            "border": null,
            "bottom": null,
            "display": null,
            "flex": null,
            "flex_flow": null,
            "grid_area": null,
            "grid_auto_columns": null,
            "grid_auto_flow": null,
            "grid_auto_rows": null,
            "grid_column": null,
            "grid_gap": null,
            "grid_row": null,
            "grid_template_areas": null,
            "grid_template_columns": null,
            "grid_template_rows": null,
            "height": null,
            "justify_content": null,
            "justify_items": null,
            "left": null,
            "margin": null,
            "max_height": null,
            "max_width": null,
            "min_height": null,
            "min_width": null,
            "object_fit": null,
            "object_position": null,
            "order": null,
            "overflow": null,
            "overflow_x": null,
            "overflow_y": null,
            "padding": null,
            "right": null,
            "top": null,
            "visibility": null,
            "width": null
          }
        },
        "1d6dce7850ad48b48db0e4815cfb5beb": {
          "model_module": "@jupyter-widgets/controls",
          "model_module_version": "1.5.0",
          "model_name": "LabelModel",
          "state": {
            "_dom_classes": [],
            "_model_module": "@jupyter-widgets/controls",
            "_model_module_version": "1.5.0",
            "_model_name": "LabelModel",
            "_view_count": null,
            "_view_module": "@jupyter-widgets/controls",
            "_view_module_version": "1.5.0",
            "_view_name": "LabelView",
            "description": "",
            "description_tooltip": null,
            "layout": "IPY_MODEL_a1de5fb4234f4b54a8e6ec772119d5dd",
            "placeholder": "​",
            "style": "IPY_MODEL_55f8d31c29d447538508660e8db85b47",
            "value": "170154 / 170154"
          }
        },
        "1f5a1c531d8e41e5ad14274c7fda18b2": {
          "model_module": "@jupyter-widgets/base",
          "model_module_version": "1.2.0",
          "model_name": "LayoutModel",
          "state": {
            "_model_module": "@jupyter-widgets/base",
            "_model_module_version": "1.2.0",
            "_model_name": "LayoutModel",
            "_view_count": null,
            "_view_module": "@jupyter-widgets/base",
            "_view_module_version": "1.2.0",
            "_view_name": "LayoutView",
            "align_content": null,
            "align_items": null,
            "align_self": null,
            "border": null,
            "bottom": null,
            "display": null,
            "flex": null,
            "flex_flow": null,
            "grid_area": null,
            "grid_auto_columns": null,
            "grid_auto_flow": null,
            "grid_auto_rows": null,
            "grid_column": null,
            "grid_gap": null,
            "grid_row": null,
            "grid_template_areas": null,
            "grid_template_columns": null,
            "grid_template_rows": null,
            "height": null,
            "justify_content": null,
            "justify_items": null,
            "left": null,
            "margin": null,
            "max_height": null,
            "max_width": null,
            "min_height": null,
            "min_width": null,
            "object_fit": null,
            "object_position": null,
            "order": null,
            "overflow": null,
            "overflow_x": null,
            "overflow_y": null,
            "padding": null,
            "right": null,
            "top": null,
            "visibility": null,
            "width": null
          }
        },
        "25bfa714074b4575be00827b32285207": {
          "model_module": "@jupyter-widgets/controls",
          "model_module_version": "1.5.0",
          "model_name": "IntProgressModel",
          "state": {
            "_dom_classes": [],
            "_model_module": "@jupyter-widgets/controls",
            "_model_module_version": "1.5.0",
            "_model_name": "IntProgressModel",
            "_view_count": null,
            "_view_module": "@jupyter-widgets/controls",
            "_view_module_version": "1.5.0",
            "_view_name": "ProgressView",
            "bar_style": "success",
            "description": "100.00%",
            "description_tooltip": null,
            "layout": "IPY_MODEL_d6f03baea724410dba76922e46d785ff",
            "max": 170153,
            "min": 0,
            "orientation": "horizontal",
            "style": "IPY_MODEL_e7108dc8188a4725976afe4d7bf4b135",
            "value": 170153
          }
        },
        "2a44065d8c13403189286639abb716cb": {
          "model_module": "@jupyter-widgets/controls",
          "model_module_version": "1.5.0",
          "model_name": "HBoxModel",
          "state": {
            "_dom_classes": [],
            "_model_module": "@jupyter-widgets/controls",
            "_model_module_version": "1.5.0",
            "_model_name": "HBoxModel",
            "_view_count": null,
            "_view_module": "@jupyter-widgets/controls",
            "_view_module_version": "1.5.0",
            "_view_name": "HBoxView",
            "box_style": "",
            "children": [
              "IPY_MODEL_bd579771f6a24a6b830dcddf5b226eca",
              "IPY_MODEL_fc59bd2af0b14954acc127a508bf08d0"
            ],
            "layout": "IPY_MODEL_3de9817a88e14dbf918e07d518019553"
          }
        },
        "2a7baba304464fb0959a97a0bc073b9a": {
          "model_module": "@jupyter-widgets/controls",
          "model_module_version": "1.5.0",
          "model_name": "LabelModel",
          "state": {
            "_dom_classes": [],
            "_model_module": "@jupyter-widgets/controls",
            "_model_module_version": "1.5.0",
            "_model_name": "LabelModel",
            "_view_count": null,
            "_view_module": "@jupyter-widgets/controls",
            "_view_module_version": "1.5.0",
            "_view_name": "LabelView",
            "description": "",
            "description_tooltip": null,
            "layout": "IPY_MODEL_63f736168e0b4cd4a33668ba192558bb",
            "placeholder": "​",
            "style": "IPY_MODEL_c400d3e512ad434bb7fdc909bcc11e04",
            "value": "170154 / 170154"
          }
        },
        "2b5e75761e7a487ab2018edc4fff1acd": {
          "model_module": "@jupyter-widgets/controls",
          "model_module_version": "1.5.0",
          "model_name": "DescriptionStyleModel",
          "state": {
            "_model_module": "@jupyter-widgets/controls",
            "_model_module_version": "1.5.0",
            "_model_name": "DescriptionStyleModel",
            "_view_count": null,
            "_view_module": "@jupyter-widgets/base",
            "_view_module_version": "1.2.0",
            "_view_name": "StyleView",
            "description_width": ""
          }
        },
        "30fa1cfff38d450ea87f5f2c5c89053f": {
          "model_module": "@jupyter-widgets/controls",
          "model_module_version": "1.5.0",
          "model_name": "DescriptionStyleModel",
          "state": {
            "_model_module": "@jupyter-widgets/controls",
            "_model_module_version": "1.5.0",
            "_model_name": "DescriptionStyleModel",
            "_view_count": null,
            "_view_module": "@jupyter-widgets/base",
            "_view_module_version": "1.2.0",
            "_view_name": "StyleView",
            "description_width": ""
          }
        },
        "33355a7d2d5a49108c55d5f696ce2e99": {
          "model_module": "@jupyter-widgets/base",
          "model_module_version": "1.2.0",
          "model_name": "LayoutModel",
          "state": {
            "_model_module": "@jupyter-widgets/base",
            "_model_module_version": "1.2.0",
            "_model_name": "LayoutModel",
            "_view_count": null,
            "_view_module": "@jupyter-widgets/base",
            "_view_module_version": "1.2.0",
            "_view_name": "LayoutView",
            "align_content": null,
            "align_items": null,
            "align_self": null,
            "border": null,
            "bottom": null,
            "display": null,
            "flex": null,
            "flex_flow": null,
            "grid_area": null,
            "grid_auto_columns": null,
            "grid_auto_flow": null,
            "grid_auto_rows": null,
            "grid_column": null,
            "grid_gap": null,
            "grid_row": null,
            "grid_template_areas": null,
            "grid_template_columns": null,
            "grid_template_rows": null,
            "height": null,
            "justify_content": null,
            "justify_items": null,
            "left": null,
            "margin": null,
            "max_height": null,
            "max_width": null,
            "min_height": null,
            "min_width": null,
            "object_fit": null,
            "object_position": null,
            "order": null,
            "overflow": null,
            "overflow_x": null,
            "overflow_y": null,
            "padding": null,
            "right": null,
            "top": null,
            "visibility": null,
            "width": null
          }
        },
        "343cfe36582840ad9fbbbc5e3c67ea34": {
          "model_module": "@jupyter-widgets/controls",
          "model_module_version": "1.5.0",
          "model_name": "IntProgressModel",
          "state": {
            "_dom_classes": [],
            "_model_module": "@jupyter-widgets/controls",
            "_model_module_version": "1.5.0",
            "_model_name": "IntProgressModel",
            "_view_count": null,
            "_view_module": "@jupyter-widgets/controls",
            "_view_module_version": "1.5.0",
            "_view_name": "ProgressView",
            "bar_style": "success",
            "description": "100.00%",
            "description_tooltip": null,
            "layout": "IPY_MODEL_a2e53a7fd05448a89bfc35a963571823",
            "max": 170154,
            "min": 0,
            "orientation": "horizontal",
            "style": "IPY_MODEL_8e88820d74d3489998df4db34e38f962",
            "value": 170154
          }
        },
        "37b6480c11904cb29b8224c94fe7fcdf": {
          "model_module": "@jupyter-widgets/base",
          "model_module_version": "1.2.0",
          "model_name": "LayoutModel",
          "state": {
            "_model_module": "@jupyter-widgets/base",
            "_model_module_version": "1.2.0",
            "_model_name": "LayoutModel",
            "_view_count": null,
            "_view_module": "@jupyter-widgets/base",
            "_view_module_version": "1.2.0",
            "_view_name": "LayoutView",
            "align_content": null,
            "align_items": null,
            "align_self": null,
            "border": null,
            "bottom": null,
            "display": null,
            "flex": null,
            "flex_flow": null,
            "grid_area": null,
            "grid_auto_columns": null,
            "grid_auto_flow": null,
            "grid_auto_rows": null,
            "grid_column": null,
            "grid_gap": null,
            "grid_row": null,
            "grid_template_areas": null,
            "grid_template_columns": null,
            "grid_template_rows": null,
            "height": null,
            "justify_content": null,
            "justify_items": null,
            "left": null,
            "margin": null,
            "max_height": null,
            "max_width": null,
            "min_height": null,
            "min_width": null,
            "object_fit": null,
            "object_position": null,
            "order": null,
            "overflow": null,
            "overflow_x": null,
            "overflow_y": null,
            "padding": null,
            "right": null,
            "top": null,
            "visibility": null,
            "width": null
          }
        },
        "39011ad6216b478e8a3f6a0aadbfb321": {
          "model_module": "@jupyter-widgets/base",
          "model_module_version": "1.2.0",
          "model_name": "LayoutModel",
          "state": {
            "_model_module": "@jupyter-widgets/base",
            "_model_module_version": "1.2.0",
            "_model_name": "LayoutModel",
            "_view_count": null,
            "_view_module": "@jupyter-widgets/base",
            "_view_module_version": "1.2.0",
            "_view_name": "LayoutView",
            "align_content": null,
            "align_items": null,
            "align_self": null,
            "border": null,
            "bottom": null,
            "display": null,
            "flex": null,
            "flex_flow": null,
            "grid_area": null,
            "grid_auto_columns": null,
            "grid_auto_flow": null,
            "grid_auto_rows": null,
            "grid_column": null,
            "grid_gap": null,
            "grid_row": null,
            "grid_template_areas": null,
            "grid_template_columns": null,
            "grid_template_rows": null,
            "height": null,
            "justify_content": null,
            "justify_items": null,
            "left": null,
            "margin": null,
            "max_height": null,
            "max_width": null,
            "min_height": null,
            "min_width": null,
            "object_fit": null,
            "object_position": null,
            "order": null,
            "overflow": null,
            "overflow_x": null,
            "overflow_y": null,
            "padding": null,
            "right": null,
            "top": null,
            "visibility": null,
            "width": null
          }
        },
        "396f21f81a724a84854401b641ea66c5": {
          "model_module": "@jupyter-widgets/base",
          "model_module_version": "1.2.0",
          "model_name": "LayoutModel",
          "state": {
            "_model_module": "@jupyter-widgets/base",
            "_model_module_version": "1.2.0",
            "_model_name": "LayoutModel",
            "_view_count": null,
            "_view_module": "@jupyter-widgets/base",
            "_view_module_version": "1.2.0",
            "_view_name": "LayoutView",
            "align_content": null,
            "align_items": null,
            "align_self": null,
            "border": null,
            "bottom": null,
            "display": null,
            "flex": null,
            "flex_flow": null,
            "grid_area": null,
            "grid_auto_columns": null,
            "grid_auto_flow": null,
            "grid_auto_rows": null,
            "grid_column": null,
            "grid_gap": null,
            "grid_row": null,
            "grid_template_areas": null,
            "grid_template_columns": null,
            "grid_template_rows": null,
            "height": null,
            "justify_content": null,
            "justify_items": null,
            "left": null,
            "margin": null,
            "max_height": null,
            "max_width": null,
            "min_height": null,
            "min_width": null,
            "object_fit": null,
            "object_position": null,
            "order": null,
            "overflow": null,
            "overflow_x": null,
            "overflow_y": null,
            "padding": null,
            "right": null,
            "top": null,
            "visibility": null,
            "width": null
          }
        },
        "3de9817a88e14dbf918e07d518019553": {
          "model_module": "@jupyter-widgets/base",
          "model_module_version": "1.2.0",
          "model_name": "LayoutModel",
          "state": {
            "_model_module": "@jupyter-widgets/base",
            "_model_module_version": "1.2.0",
            "_model_name": "LayoutModel",
            "_view_count": null,
            "_view_module": "@jupyter-widgets/base",
            "_view_module_version": "1.2.0",
            "_view_name": "LayoutView",
            "align_content": null,
            "align_items": null,
            "align_self": null,
            "border": null,
            "bottom": null,
            "display": null,
            "flex": null,
            "flex_flow": null,
            "grid_area": null,
            "grid_auto_columns": null,
            "grid_auto_flow": null,
            "grid_auto_rows": null,
            "grid_column": null,
            "grid_gap": null,
            "grid_row": null,
            "grid_template_areas": null,
            "grid_template_columns": null,
            "grid_template_rows": null,
            "height": null,
            "justify_content": null,
            "justify_items": null,
            "left": null,
            "margin": null,
            "max_height": null,
            "max_width": null,
            "min_height": null,
            "min_width": null,
            "object_fit": null,
            "object_position": null,
            "order": null,
            "overflow": null,
            "overflow_x": null,
            "overflow_y": null,
            "padding": null,
            "right": null,
            "top": null,
            "visibility": null,
            "width": null
          }
        },
        "42a25593ebae44e7ae8b5e23a760b74e": {
          "model_module": "@jupyter-widgets/base",
          "model_module_version": "1.2.0",
          "model_name": "LayoutModel",
          "state": {
            "_model_module": "@jupyter-widgets/base",
            "_model_module_version": "1.2.0",
            "_model_name": "LayoutModel",
            "_view_count": null,
            "_view_module": "@jupyter-widgets/base",
            "_view_module_version": "1.2.0",
            "_view_name": "LayoutView",
            "align_content": null,
            "align_items": null,
            "align_self": null,
            "border": null,
            "bottom": null,
            "display": null,
            "flex": null,
            "flex_flow": null,
            "grid_area": null,
            "grid_auto_columns": null,
            "grid_auto_flow": null,
            "grid_auto_rows": null,
            "grid_column": null,
            "grid_gap": null,
            "grid_row": null,
            "grid_template_areas": null,
            "grid_template_columns": null,
            "grid_template_rows": null,
            "height": null,
            "justify_content": null,
            "justify_items": null,
            "left": null,
            "margin": null,
            "max_height": null,
            "max_width": null,
            "min_height": null,
            "min_width": null,
            "object_fit": null,
            "object_position": null,
            "order": null,
            "overflow": null,
            "overflow_x": null,
            "overflow_y": null,
            "padding": null,
            "right": null,
            "top": null,
            "visibility": null,
            "width": null
          }
        },
        "45b1b0c99f764cff8e7d52996efcf116": {
          "model_module": "@jupyter-widgets/controls",
          "model_module_version": "1.5.0",
          "model_name": "HBoxModel",
          "state": {
            "_dom_classes": [],
            "_model_module": "@jupyter-widgets/controls",
            "_model_module_version": "1.5.0",
            "_model_name": "HBoxModel",
            "_view_count": null,
            "_view_module": "@jupyter-widgets/controls",
            "_view_module_version": "1.5.0",
            "_view_name": "HBoxView",
            "box_style": "",
            "children": [
              "IPY_MODEL_0b11f2aab3f54b5ba802ae38adf07cc8",
              "IPY_MODEL_1272847fcde646268f4d65dbf8717a00"
            ],
            "layout": "IPY_MODEL_a41f5ab0e5cb4e5aaaf76b6d94b1d110"
          }
        },
        "49571931b75f4ae083a8eaf03470ca48": {
          "model_module": "@jupyter-widgets/controls",
          "model_module_version": "1.5.0",
          "model_name": "DescriptionStyleModel",
          "state": {
            "_model_module": "@jupyter-widgets/controls",
            "_model_module_version": "1.5.0",
            "_model_name": "DescriptionStyleModel",
            "_view_count": null,
            "_view_module": "@jupyter-widgets/base",
            "_view_module_version": "1.2.0",
            "_view_name": "StyleView",
            "description_width": ""
          }
        },
        "49fab2252e47407faa2f59756678e902": {
          "model_module": "@jupyter-widgets/controls",
          "model_module_version": "1.5.0",
          "model_name": "IntProgressModel",
          "state": {
            "_dom_classes": [],
            "_model_module": "@jupyter-widgets/controls",
            "_model_module_version": "1.5.0",
            "_model_name": "IntProgressModel",
            "_view_count": null,
            "_view_module": "@jupyter-widgets/controls",
            "_view_module_version": "1.5.0",
            "_view_name": "ProgressView",
            "bar_style": "success",
            "description": "100.00%",
            "description_tooltip": null,
            "layout": "IPY_MODEL_39011ad6216b478e8a3f6a0aadbfb321",
            "max": 170153,
            "min": 0,
            "orientation": "horizontal",
            "style": "IPY_MODEL_c3715496292448b5af734b8c2371646f",
            "value": 170153
          }
        },
        "4b241d8fa5c24ddbbe7e0f43b62bbb5f": {
          "model_module": "@jupyter-widgets/base",
          "model_module_version": "1.2.0",
          "model_name": "LayoutModel",
          "state": {
            "_model_module": "@jupyter-widgets/base",
            "_model_module_version": "1.2.0",
            "_model_name": "LayoutModel",
            "_view_count": null,
            "_view_module": "@jupyter-widgets/base",
            "_view_module_version": "1.2.0",
            "_view_name": "LayoutView",
            "align_content": null,
            "align_items": null,
            "align_self": null,
            "border": null,
            "bottom": null,
            "display": null,
            "flex": null,
            "flex_flow": null,
            "grid_area": null,
            "grid_auto_columns": null,
            "grid_auto_flow": null,
            "grid_auto_rows": null,
            "grid_column": null,
            "grid_gap": null,
            "grid_row": null,
            "grid_template_areas": null,
            "grid_template_columns": null,
            "grid_template_rows": null,
            "height": null,
            "justify_content": null,
            "justify_items": null,
            "left": null,
            "margin": null,
            "max_height": null,
            "max_width": null,
            "min_height": null,
            "min_width": null,
            "object_fit": null,
            "object_position": null,
            "order": null,
            "overflow": null,
            "overflow_x": null,
            "overflow_y": null,
            "padding": null,
            "right": null,
            "top": null,
            "visibility": null,
            "width": null
          }
        },
        "4ed4bd6417c44b9da9bc2b1b652f6b55": {
          "model_module": "@jupyter-widgets/base",
          "model_module_version": "1.2.0",
          "model_name": "LayoutModel",
          "state": {
            "_model_module": "@jupyter-widgets/base",
            "_model_module_version": "1.2.0",
            "_model_name": "LayoutModel",
            "_view_count": null,
            "_view_module": "@jupyter-widgets/base",
            "_view_module_version": "1.2.0",
            "_view_name": "LayoutView",
            "align_content": null,
            "align_items": null,
            "align_self": null,
            "border": null,
            "bottom": null,
            "display": null,
            "flex": null,
            "flex_flow": null,
            "grid_area": null,
            "grid_auto_columns": null,
            "grid_auto_flow": null,
            "grid_auto_rows": null,
            "grid_column": null,
            "grid_gap": null,
            "grid_row": null,
            "grid_template_areas": null,
            "grid_template_columns": null,
            "grid_template_rows": null,
            "height": null,
            "justify_content": null,
            "justify_items": null,
            "left": null,
            "margin": null,
            "max_height": null,
            "max_width": null,
            "min_height": null,
            "min_width": null,
            "object_fit": null,
            "object_position": null,
            "order": null,
            "overflow": null,
            "overflow_x": null,
            "overflow_y": null,
            "padding": null,
            "right": null,
            "top": null,
            "visibility": null,
            "width": null
          }
        },
        "552ddf6705a347e1b836ddaebad7449e": {
          "model_module": "@jupyter-widgets/base",
          "model_module_version": "1.2.0",
          "model_name": "LayoutModel",
          "state": {
            "_model_module": "@jupyter-widgets/base",
            "_model_module_version": "1.2.0",
            "_model_name": "LayoutModel",
            "_view_count": null,
            "_view_module": "@jupyter-widgets/base",
            "_view_module_version": "1.2.0",
            "_view_name": "LayoutView",
            "align_content": null,
            "align_items": null,
            "align_self": null,
            "border": null,
            "bottom": null,
            "display": null,
            "flex": null,
            "flex_flow": null,
            "grid_area": null,
            "grid_auto_columns": null,
            "grid_auto_flow": null,
            "grid_auto_rows": null,
            "grid_column": null,
            "grid_gap": null,
            "grid_row": null,
            "grid_template_areas": null,
            "grid_template_columns": null,
            "grid_template_rows": null,
            "height": null,
            "justify_content": null,
            "justify_items": null,
            "left": null,
            "margin": null,
            "max_height": null,
            "max_width": null,
            "min_height": null,
            "min_width": null,
            "object_fit": null,
            "object_position": null,
            "order": null,
            "overflow": null,
            "overflow_x": null,
            "overflow_y": null,
            "padding": null,
            "right": null,
            "top": null,
            "visibility": null,
            "width": null
          }
        },
        "55f8d31c29d447538508660e8db85b47": {
          "model_module": "@jupyter-widgets/controls",
          "model_module_version": "1.5.0",
          "model_name": "DescriptionStyleModel",
          "state": {
            "_model_module": "@jupyter-widgets/controls",
            "_model_module_version": "1.5.0",
            "_model_name": "DescriptionStyleModel",
            "_view_count": null,
            "_view_module": "@jupyter-widgets/base",
            "_view_module_version": "1.2.0",
            "_view_name": "StyleView",
            "description_width": ""
          }
        },
        "575fe87b608145c8b8fa2d23e998e9d3": {
          "model_module": "@jupyter-widgets/controls",
          "model_module_version": "1.5.0",
          "model_name": "HBoxModel",
          "state": {
            "_dom_classes": [],
            "_model_module": "@jupyter-widgets/controls",
            "_model_module_version": "1.5.0",
            "_model_name": "HBoxModel",
            "_view_count": null,
            "_view_module": "@jupyter-widgets/controls",
            "_view_module_version": "1.5.0",
            "_view_name": "HBoxView",
            "box_style": "",
            "children": [
              "IPY_MODEL_f3fe583948fc43f1acb268b1a1c4ec84",
              "IPY_MODEL_85bf0dc9dc3a46829dcf65056e6d7695"
            ],
            "layout": "IPY_MODEL_33355a7d2d5a49108c55d5f696ce2e99"
          }
        },
        "5de2f013895c415da0b00bc930e35c22": {
          "model_module": "@jupyter-widgets/base",
          "model_module_version": "1.2.0",
          "model_name": "LayoutModel",
          "state": {
            "_model_module": "@jupyter-widgets/base",
            "_model_module_version": "1.2.0",
            "_model_name": "LayoutModel",
            "_view_count": null,
            "_view_module": "@jupyter-widgets/base",
            "_view_module_version": "1.2.0",
            "_view_name": "LayoutView",
            "align_content": null,
            "align_items": null,
            "align_self": null,
            "border": null,
            "bottom": null,
            "display": null,
            "flex": null,
            "flex_flow": null,
            "grid_area": null,
            "grid_auto_columns": null,
            "grid_auto_flow": null,
            "grid_auto_rows": null,
            "grid_column": null,
            "grid_gap": null,
            "grid_row": null,
            "grid_template_areas": null,
            "grid_template_columns": null,
            "grid_template_rows": null,
            "height": null,
            "justify_content": null,
            "justify_items": null,
            "left": null,
            "margin": null,
            "max_height": null,
            "max_width": null,
            "min_height": null,
            "min_width": null,
            "object_fit": null,
            "object_position": null,
            "order": null,
            "overflow": null,
            "overflow_x": null,
            "overflow_y": null,
            "padding": null,
            "right": null,
            "top": null,
            "visibility": null,
            "width": null
          }
        },
        "63f736168e0b4cd4a33668ba192558bb": {
          "model_module": "@jupyter-widgets/base",
          "model_module_version": "1.2.0",
          "model_name": "LayoutModel",
          "state": {
            "_model_module": "@jupyter-widgets/base",
            "_model_module_version": "1.2.0",
            "_model_name": "LayoutModel",
            "_view_count": null,
            "_view_module": "@jupyter-widgets/base",
            "_view_module_version": "1.2.0",
            "_view_name": "LayoutView",
            "align_content": null,
            "align_items": null,
            "align_self": null,
            "border": null,
            "bottom": null,
            "display": null,
            "flex": null,
            "flex_flow": null,
            "grid_area": null,
            "grid_auto_columns": null,
            "grid_auto_flow": null,
            "grid_auto_rows": null,
            "grid_column": null,
            "grid_gap": null,
            "grid_row": null,
            "grid_template_areas": null,
            "grid_template_columns": null,
            "grid_template_rows": null,
            "height": null,
            "justify_content": null,
            "justify_items": null,
            "left": null,
            "margin": null,
            "max_height": null,
            "max_width": null,
            "min_height": null,
            "min_width": null,
            "object_fit": null,
            "object_position": null,
            "order": null,
            "overflow": null,
            "overflow_x": null,
            "overflow_y": null,
            "padding": null,
            "right": null,
            "top": null,
            "visibility": null,
            "width": null
          }
        },
        "6c3acaeb2e41409fa8128b3af88da67f": {
          "model_module": "@jupyter-widgets/controls",
          "model_module_version": "1.5.0",
          "model_name": "DescriptionStyleModel",
          "state": {
            "_model_module": "@jupyter-widgets/controls",
            "_model_module_version": "1.5.0",
            "_model_name": "DescriptionStyleModel",
            "_view_count": null,
            "_view_module": "@jupyter-widgets/base",
            "_view_module_version": "1.2.0",
            "_view_name": "StyleView",
            "description_width": ""
          }
        },
        "6e4319730fbb484c817c3a55a4a8fd61": {
          "model_module": "@jupyter-widgets/base",
          "model_module_version": "1.2.0",
          "model_name": "LayoutModel",
          "state": {
            "_model_module": "@jupyter-widgets/base",
            "_model_module_version": "1.2.0",
            "_model_name": "LayoutModel",
            "_view_count": null,
            "_view_module": "@jupyter-widgets/base",
            "_view_module_version": "1.2.0",
            "_view_name": "LayoutView",
            "align_content": null,
            "align_items": null,
            "align_self": null,
            "border": null,
            "bottom": null,
            "display": null,
            "flex": null,
            "flex_flow": null,
            "grid_area": null,
            "grid_auto_columns": null,
            "grid_auto_flow": null,
            "grid_auto_rows": null,
            "grid_column": null,
            "grid_gap": null,
            "grid_row": null,
            "grid_template_areas": null,
            "grid_template_columns": null,
            "grid_template_rows": null,
            "height": null,
            "justify_content": null,
            "justify_items": null,
            "left": null,
            "margin": null,
            "max_height": null,
            "max_width": null,
            "min_height": null,
            "min_width": null,
            "object_fit": null,
            "object_position": null,
            "order": null,
            "overflow": null,
            "overflow_x": null,
            "overflow_y": null,
            "padding": null,
            "right": null,
            "top": null,
            "visibility": null,
            "width": null
          }
        },
        "712330c5388f43d0b3012917810d115f": {
          "model_module": "@jupyter-widgets/controls",
          "model_module_version": "1.5.0",
          "model_name": "LabelModel",
          "state": {
            "_dom_classes": [],
            "_model_module": "@jupyter-widgets/controls",
            "_model_module_version": "1.5.0",
            "_model_name": "LabelModel",
            "_view_count": null,
            "_view_module": "@jupyter-widgets/controls",
            "_view_module_version": "1.5.0",
            "_view_name": "LabelView",
            "description": "",
            "description_tooltip": null,
            "layout": "IPY_MODEL_42a25593ebae44e7ae8b5e23a760b74e",
            "placeholder": "​",
            "style": "IPY_MODEL_8e22f364fc4944edab918c86cf842f53",
            "value": "170154 / 170154"
          }
        },
        "736a8712f444435fb01ba9dca34608cb": {
          "model_module": "@jupyter-widgets/base",
          "model_module_version": "1.2.0",
          "model_name": "LayoutModel",
          "state": {
            "_model_module": "@jupyter-widgets/base",
            "_model_module_version": "1.2.0",
            "_model_name": "LayoutModel",
            "_view_count": null,
            "_view_module": "@jupyter-widgets/base",
            "_view_module_version": "1.2.0",
            "_view_name": "LayoutView",
            "align_content": null,
            "align_items": null,
            "align_self": null,
            "border": null,
            "bottom": null,
            "display": null,
            "flex": null,
            "flex_flow": null,
            "grid_area": null,
            "grid_auto_columns": null,
            "grid_auto_flow": null,
            "grid_auto_rows": null,
            "grid_column": null,
            "grid_gap": null,
            "grid_row": null,
            "grid_template_areas": null,
            "grid_template_columns": null,
            "grid_template_rows": null,
            "height": null,
            "justify_content": null,
            "justify_items": null,
            "left": null,
            "margin": null,
            "max_height": null,
            "max_width": null,
            "min_height": null,
            "min_width": null,
            "object_fit": null,
            "object_position": null,
            "order": null,
            "overflow": null,
            "overflow_x": null,
            "overflow_y": null,
            "padding": null,
            "right": null,
            "top": null,
            "visibility": null,
            "width": null
          }
        },
        "74cdd86ae5834f95ac12e8f615f5a59a": {
          "model_module": "@jupyter-widgets/controls",
          "model_module_version": "1.5.0",
          "model_name": "LabelModel",
          "state": {
            "_dom_classes": [],
            "_model_module": "@jupyter-widgets/controls",
            "_model_module_version": "1.5.0",
            "_model_name": "LabelModel",
            "_view_count": null,
            "_view_module": "@jupyter-widgets/controls",
            "_view_module_version": "1.5.0",
            "_view_name": "LabelView",
            "description": "",
            "description_tooltip": null,
            "layout": "IPY_MODEL_9c44e833d11d4d8784caabba50b56d38",
            "placeholder": "​",
            "style": "IPY_MODEL_30fa1cfff38d450ea87f5f2c5c89053f",
            "value": "170153 / 170153"
          }
        },
        "7a5042fad9ec485ba04a95b0ed181b6b": {
          "model_module": "@jupyter-widgets/controls",
          "model_module_version": "1.5.0",
          "model_name": "HBoxModel",
          "state": {
            "_dom_classes": [],
            "_model_module": "@jupyter-widgets/controls",
            "_model_module_version": "1.5.0",
            "_model_name": "HBoxModel",
            "_view_count": null,
            "_view_module": "@jupyter-widgets/controls",
            "_view_module_version": "1.5.0",
            "_view_name": "HBoxView",
            "box_style": "",
            "children": [
              "IPY_MODEL_00cb34c30df449ec99613120666c36d3",
              "IPY_MODEL_712330c5388f43d0b3012917810d115f"
            ],
            "layout": "IPY_MODEL_d59417a96db34d63bf2af6cae04cc74f"
          }
        },
        "7ba869570c234c4894ac8e6ddbdd71a2": {
          "model_module": "@jupyter-widgets/base",
          "model_module_version": "1.2.0",
          "model_name": "LayoutModel",
          "state": {
            "_model_module": "@jupyter-widgets/base",
            "_model_module_version": "1.2.0",
            "_model_name": "LayoutModel",
            "_view_count": null,
            "_view_module": "@jupyter-widgets/base",
            "_view_module_version": "1.2.0",
            "_view_name": "LayoutView",
            "align_content": null,
            "align_items": null,
            "align_self": null,
            "border": null,
            "bottom": null,
            "display": null,
            "flex": null,
            "flex_flow": null,
            "grid_area": null,
            "grid_auto_columns": null,
            "grid_auto_flow": null,
            "grid_auto_rows": null,
            "grid_column": null,
            "grid_gap": null,
            "grid_row": null,
            "grid_template_areas": null,
            "grid_template_columns": null,
            "grid_template_rows": null,
            "height": null,
            "justify_content": null,
            "justify_items": null,
            "left": null,
            "margin": null,
            "max_height": null,
            "max_width": null,
            "min_height": null,
            "min_width": null,
            "object_fit": null,
            "object_position": null,
            "order": null,
            "overflow": null,
            "overflow_x": null,
            "overflow_y": null,
            "padding": null,
            "right": null,
            "top": null,
            "visibility": null,
            "width": null
          }
        },
        "7ec5f0e9687440dcbbf026e25a7d9db9": {
          "model_module": "@jupyter-widgets/controls",
          "model_module_version": "1.5.0",
          "model_name": "HBoxModel",
          "state": {
            "_dom_classes": [],
            "_model_module": "@jupyter-widgets/controls",
            "_model_module_version": "1.5.0",
            "_model_name": "HBoxModel",
            "_view_count": null,
            "_view_module": "@jupyter-widgets/controls",
            "_view_module_version": "1.5.0",
            "_view_name": "HBoxView",
            "box_style": "",
            "children": [
              "IPY_MODEL_15a268bf92f94494adf325769932973d",
              "IPY_MODEL_e815db084a8544218ef6df6ec56acb18"
            ],
            "layout": "IPY_MODEL_736a8712f444435fb01ba9dca34608cb"
          }
        },
        "80e74f90e30748bfb77ccf684a0d5348": {
          "model_module": "@jupyter-widgets/base",
          "model_module_version": "1.2.0",
          "model_name": "LayoutModel",
          "state": {
            "_model_module": "@jupyter-widgets/base",
            "_model_module_version": "1.2.0",
            "_model_name": "LayoutModel",
            "_view_count": null,
            "_view_module": "@jupyter-widgets/base",
            "_view_module_version": "1.2.0",
            "_view_name": "LayoutView",
            "align_content": null,
            "align_items": null,
            "align_self": null,
            "border": null,
            "bottom": null,
            "display": null,
            "flex": null,
            "flex_flow": null,
            "grid_area": null,
            "grid_auto_columns": null,
            "grid_auto_flow": null,
            "grid_auto_rows": null,
            "grid_column": null,
            "grid_gap": null,
            "grid_row": null,
            "grid_template_areas": null,
            "grid_template_columns": null,
            "grid_template_rows": null,
            "height": null,
            "justify_content": null,
            "justify_items": null,
            "left": null,
            "margin": null,
            "max_height": null,
            "max_width": null,
            "min_height": null,
            "min_width": null,
            "object_fit": null,
            "object_position": null,
            "order": null,
            "overflow": null,
            "overflow_x": null,
            "overflow_y": null,
            "padding": null,
            "right": null,
            "top": null,
            "visibility": null,
            "width": null
          }
        },
        "83066229ac78411081c13787cf558e0e": {
          "model_module": "@jupyter-widgets/controls",
          "model_module_version": "1.5.0",
          "model_name": "LabelModel",
          "state": {
            "_dom_classes": [],
            "_model_module": "@jupyter-widgets/controls",
            "_model_module_version": "1.5.0",
            "_model_name": "LabelModel",
            "_view_count": null,
            "_view_module": "@jupyter-widgets/controls",
            "_view_module_version": "1.5.0",
            "_view_name": "LabelView",
            "description": "",
            "description_tooltip": null,
            "layout": "IPY_MODEL_1f5a1c531d8e41e5ad14274c7fda18b2",
            "placeholder": "​",
            "style": "IPY_MODEL_0ed283f34aaa4a21bcea6a62b9853181",
            "value": "170154 / 170154"
          }
        },
        "85bf0dc9dc3a46829dcf65056e6d7695": {
          "model_module": "@jupyter-widgets/controls",
          "model_module_version": "1.5.0",
          "model_name": "LabelModel",
          "state": {
            "_dom_classes": [],
            "_model_module": "@jupyter-widgets/controls",
            "_model_module_version": "1.5.0",
            "_model_name": "LabelModel",
            "_view_count": null,
            "_view_module": "@jupyter-widgets/controls",
            "_view_module_version": "1.5.0",
            "_view_name": "LabelView",
            "description": "",
            "description_tooltip": null,
            "layout": "IPY_MODEL_c46c4651afb7441983dc366d1bdbea4e",
            "placeholder": "​",
            "style": "IPY_MODEL_89939db075f24cc2ac450b9a5b0b4c0d",
            "value": "170154 / 170154"
          }
        },
        "89422f7b0aa14709aa1dc95ac5755cbb": {
          "model_module": "@jupyter-widgets/base",
          "model_module_version": "1.2.0",
          "model_name": "LayoutModel",
          "state": {
            "_model_module": "@jupyter-widgets/base",
            "_model_module_version": "1.2.0",
            "_model_name": "LayoutModel",
            "_view_count": null,
            "_view_module": "@jupyter-widgets/base",
            "_view_module_version": "1.2.0",
            "_view_name": "LayoutView",
            "align_content": null,
            "align_items": null,
            "align_self": null,
            "border": null,
            "bottom": null,
            "display": null,
            "flex": null,
            "flex_flow": null,
            "grid_area": null,
            "grid_auto_columns": null,
            "grid_auto_flow": null,
            "grid_auto_rows": null,
            "grid_column": null,
            "grid_gap": null,
            "grid_row": null,
            "grid_template_areas": null,
            "grid_template_columns": null,
            "grid_template_rows": null,
            "height": null,
            "justify_content": null,
            "justify_items": null,
            "left": null,
            "margin": null,
            "max_height": null,
            "max_width": null,
            "min_height": null,
            "min_width": null,
            "object_fit": null,
            "object_position": null,
            "order": null,
            "overflow": null,
            "overflow_x": null,
            "overflow_y": null,
            "padding": null,
            "right": null,
            "top": null,
            "visibility": null,
            "width": null
          }
        },
        "89939db075f24cc2ac450b9a5b0b4c0d": {
          "model_module": "@jupyter-widgets/controls",
          "model_module_version": "1.5.0",
          "model_name": "DescriptionStyleModel",
          "state": {
            "_model_module": "@jupyter-widgets/controls",
            "_model_module_version": "1.5.0",
            "_model_name": "DescriptionStyleModel",
            "_view_count": null,
            "_view_module": "@jupyter-widgets/base",
            "_view_module_version": "1.2.0",
            "_view_name": "StyleView",
            "description_width": ""
          }
        },
        "8d6c6bc814cb44aba8f490f18721d785": {
          "model_module": "@jupyter-widgets/base",
          "model_module_version": "1.2.0",
          "model_name": "LayoutModel",
          "state": {
            "_model_module": "@jupyter-widgets/base",
            "_model_module_version": "1.2.0",
            "_model_name": "LayoutModel",
            "_view_count": null,
            "_view_module": "@jupyter-widgets/base",
            "_view_module_version": "1.2.0",
            "_view_name": "LayoutView",
            "align_content": null,
            "align_items": null,
            "align_self": null,
            "border": null,
            "bottom": null,
            "display": null,
            "flex": null,
            "flex_flow": null,
            "grid_area": null,
            "grid_auto_columns": null,
            "grid_auto_flow": null,
            "grid_auto_rows": null,
            "grid_column": null,
            "grid_gap": null,
            "grid_row": null,
            "grid_template_areas": null,
            "grid_template_columns": null,
            "grid_template_rows": null,
            "height": null,
            "justify_content": null,
            "justify_items": null,
            "left": null,
            "margin": null,
            "max_height": null,
            "max_width": null,
            "min_height": null,
            "min_width": null,
            "object_fit": null,
            "object_position": null,
            "order": null,
            "overflow": null,
            "overflow_x": null,
            "overflow_y": null,
            "padding": null,
            "right": null,
            "top": null,
            "visibility": null,
            "width": null
          }
        },
        "8e1dfbe5d4d941758df4e197d5f74ba6": {
          "model_module": "@jupyter-widgets/controls",
          "model_module_version": "1.5.0",
          "model_name": "ProgressStyleModel",
          "state": {
            "_model_module": "@jupyter-widgets/controls",
            "_model_module_version": "1.5.0",
            "_model_name": "ProgressStyleModel",
            "_view_count": null,
            "_view_module": "@jupyter-widgets/base",
            "_view_module_version": "1.2.0",
            "_view_name": "StyleView",
            "bar_color": null,
            "description_width": ""
          }
        },
        "8e22f364fc4944edab918c86cf842f53": {
          "model_module": "@jupyter-widgets/controls",
          "model_module_version": "1.5.0",
          "model_name": "DescriptionStyleModel",
          "state": {
            "_model_module": "@jupyter-widgets/controls",
            "_model_module_version": "1.5.0",
            "_model_name": "DescriptionStyleModel",
            "_view_count": null,
            "_view_module": "@jupyter-widgets/base",
            "_view_module_version": "1.2.0",
            "_view_name": "StyleView",
            "description_width": ""
          }
        },
        "8e88820d74d3489998df4db34e38f962": {
          "model_module": "@jupyter-widgets/controls",
          "model_module_version": "1.5.0",
          "model_name": "ProgressStyleModel",
          "state": {
            "_model_module": "@jupyter-widgets/controls",
            "_model_module_version": "1.5.0",
            "_model_name": "ProgressStyleModel",
            "_view_count": null,
            "_view_module": "@jupyter-widgets/base",
            "_view_module_version": "1.2.0",
            "_view_name": "StyleView",
            "bar_color": null,
            "description_width": ""
          }
        },
        "94c3ae0ce68d422d96e372894ae8e063": {
          "model_module": "@jupyter-widgets/base",
          "model_module_version": "1.2.0",
          "model_name": "LayoutModel",
          "state": {
            "_model_module": "@jupyter-widgets/base",
            "_model_module_version": "1.2.0",
            "_model_name": "LayoutModel",
            "_view_count": null,
            "_view_module": "@jupyter-widgets/base",
            "_view_module_version": "1.2.0",
            "_view_name": "LayoutView",
            "align_content": null,
            "align_items": null,
            "align_self": null,
            "border": null,
            "bottom": null,
            "display": null,
            "flex": null,
            "flex_flow": null,
            "grid_area": null,
            "grid_auto_columns": null,
            "grid_auto_flow": null,
            "grid_auto_rows": null,
            "grid_column": null,
            "grid_gap": null,
            "grid_row": null,
            "grid_template_areas": null,
            "grid_template_columns": null,
            "grid_template_rows": null,
            "height": null,
            "justify_content": null,
            "justify_items": null,
            "left": null,
            "margin": null,
            "max_height": null,
            "max_width": null,
            "min_height": null,
            "min_width": null,
            "object_fit": null,
            "object_position": null,
            "order": null,
            "overflow": null,
            "overflow_x": null,
            "overflow_y": null,
            "padding": null,
            "right": null,
            "top": null,
            "visibility": null,
            "width": null
          }
        },
        "96f00a5d53254c1ea07241553f6f0edb": {
          "model_module": "@jupyter-widgets/controls",
          "model_module_version": "1.5.0",
          "model_name": "IntProgressModel",
          "state": {
            "_dom_classes": [],
            "_model_module": "@jupyter-widgets/controls",
            "_model_module_version": "1.5.0",
            "_model_name": "IntProgressModel",
            "_view_count": null,
            "_view_module": "@jupyter-widgets/controls",
            "_view_module_version": "1.5.0",
            "_view_name": "ProgressView",
            "bar_style": "success",
            "description": "100.00%",
            "description_tooltip": null,
            "layout": "IPY_MODEL_9d978fe8c51746fc86cf7f1185152ca8",
            "max": 170154,
            "min": 0,
            "orientation": "horizontal",
            "style": "IPY_MODEL_bec20409a9964e1b82d0c7813a09307f",
            "value": 170154
          }
        },
        "9bc7c665c56843789b02acd5a0d5d854": {
          "model_module": "@jupyter-widgets/controls",
          "model_module_version": "1.5.0",
          "model_name": "VBoxModel",
          "state": {
            "_dom_classes": [],
            "_model_module": "@jupyter-widgets/controls",
            "_model_module_version": "1.5.0",
            "_model_name": "VBoxModel",
            "_view_count": null,
            "_view_module": "@jupyter-widgets/controls",
            "_view_module_version": "1.5.0",
            "_view_name": "VBoxView",
            "box_style": "",
            "children": [
              "IPY_MODEL_575fe87b608145c8b8fa2d23e998e9d3",
              "IPY_MODEL_45b1b0c99f764cff8e7d52996efcf116",
              "IPY_MODEL_c628bc58856b4ca093350dde3feec6c3"
            ],
            "layout": "IPY_MODEL_4ed4bd6417c44b9da9bc2b1b652f6b55"
          }
        },
        "9c44e833d11d4d8784caabba50b56d38": {
          "model_module": "@jupyter-widgets/base",
          "model_module_version": "1.2.0",
          "model_name": "LayoutModel",
          "state": {
            "_model_module": "@jupyter-widgets/base",
            "_model_module_version": "1.2.0",
            "_model_name": "LayoutModel",
            "_view_count": null,
            "_view_module": "@jupyter-widgets/base",
            "_view_module_version": "1.2.0",
            "_view_name": "LayoutView",
            "align_content": null,
            "align_items": null,
            "align_self": null,
            "border": null,
            "bottom": null,
            "display": null,
            "flex": null,
            "flex_flow": null,
            "grid_area": null,
            "grid_auto_columns": null,
            "grid_auto_flow": null,
            "grid_auto_rows": null,
            "grid_column": null,
            "grid_gap": null,
            "grid_row": null,
            "grid_template_areas": null,
            "grid_template_columns": null,
            "grid_template_rows": null,
            "height": null,
            "justify_content": null,
            "justify_items": null,
            "left": null,
            "margin": null,
            "max_height": null,
            "max_width": null,
            "min_height": null,
            "min_width": null,
            "object_fit": null,
            "object_position": null,
            "order": null,
            "overflow": null,
            "overflow_x": null,
            "overflow_y": null,
            "padding": null,
            "right": null,
            "top": null,
            "visibility": null,
            "width": null
          }
        },
        "9d978fe8c51746fc86cf7f1185152ca8": {
          "model_module": "@jupyter-widgets/base",
          "model_module_version": "1.2.0",
          "model_name": "LayoutModel",
          "state": {
            "_model_module": "@jupyter-widgets/base",
            "_model_module_version": "1.2.0",
            "_model_name": "LayoutModel",
            "_view_count": null,
            "_view_module": "@jupyter-widgets/base",
            "_view_module_version": "1.2.0",
            "_view_name": "LayoutView",
            "align_content": null,
            "align_items": null,
            "align_self": null,
            "border": null,
            "bottom": null,
            "display": null,
            "flex": null,
            "flex_flow": null,
            "grid_area": null,
            "grid_auto_columns": null,
            "grid_auto_flow": null,
            "grid_auto_rows": null,
            "grid_column": null,
            "grid_gap": null,
            "grid_row": null,
            "grid_template_areas": null,
            "grid_template_columns": null,
            "grid_template_rows": null,
            "height": null,
            "justify_content": null,
            "justify_items": null,
            "left": null,
            "margin": null,
            "max_height": null,
            "max_width": null,
            "min_height": null,
            "min_width": null,
            "object_fit": null,
            "object_position": null,
            "order": null,
            "overflow": null,
            "overflow_x": null,
            "overflow_y": null,
            "padding": null,
            "right": null,
            "top": null,
            "visibility": null,
            "width": null
          }
        },
        "a1de5fb4234f4b54a8e6ec772119d5dd": {
          "model_module": "@jupyter-widgets/base",
          "model_module_version": "1.2.0",
          "model_name": "LayoutModel",
          "state": {
            "_model_module": "@jupyter-widgets/base",
            "_model_module_version": "1.2.0",
            "_model_name": "LayoutModel",
            "_view_count": null,
            "_view_module": "@jupyter-widgets/base",
            "_view_module_version": "1.2.0",
            "_view_name": "LayoutView",
            "align_content": null,
            "align_items": null,
            "align_self": null,
            "border": null,
            "bottom": null,
            "display": null,
            "flex": null,
            "flex_flow": null,
            "grid_area": null,
            "grid_auto_columns": null,
            "grid_auto_flow": null,
            "grid_auto_rows": null,
            "grid_column": null,
            "grid_gap": null,
            "grid_row": null,
            "grid_template_areas": null,
            "grid_template_columns": null,
            "grid_template_rows": null,
            "height": null,
            "justify_content": null,
            "justify_items": null,
            "left": null,
            "margin": null,
            "max_height": null,
            "max_width": null,
            "min_height": null,
            "min_width": null,
            "object_fit": null,
            "object_position": null,
            "order": null,
            "overflow": null,
            "overflow_x": null,
            "overflow_y": null,
            "padding": null,
            "right": null,
            "top": null,
            "visibility": null,
            "width": null
          }
        },
        "a2e53a7fd05448a89bfc35a963571823": {
          "model_module": "@jupyter-widgets/base",
          "model_module_version": "1.2.0",
          "model_name": "LayoutModel",
          "state": {
            "_model_module": "@jupyter-widgets/base",
            "_model_module_version": "1.2.0",
            "_model_name": "LayoutModel",
            "_view_count": null,
            "_view_module": "@jupyter-widgets/base",
            "_view_module_version": "1.2.0",
            "_view_name": "LayoutView",
            "align_content": null,
            "align_items": null,
            "align_self": null,
            "border": null,
            "bottom": null,
            "display": null,
            "flex": null,
            "flex_flow": null,
            "grid_area": null,
            "grid_auto_columns": null,
            "grid_auto_flow": null,
            "grid_auto_rows": null,
            "grid_column": null,
            "grid_gap": null,
            "grid_row": null,
            "grid_template_areas": null,
            "grid_template_columns": null,
            "grid_template_rows": null,
            "height": null,
            "justify_content": null,
            "justify_items": null,
            "left": null,
            "margin": null,
            "max_height": null,
            "max_width": null,
            "min_height": null,
            "min_width": null,
            "object_fit": null,
            "object_position": null,
            "order": null,
            "overflow": null,
            "overflow_x": null,
            "overflow_y": null,
            "padding": null,
            "right": null,
            "top": null,
            "visibility": null,
            "width": null
          }
        },
        "a41f5ab0e5cb4e5aaaf76b6d94b1d110": {
          "model_module": "@jupyter-widgets/base",
          "model_module_version": "1.2.0",
          "model_name": "LayoutModel",
          "state": {
            "_model_module": "@jupyter-widgets/base",
            "_model_module_version": "1.2.0",
            "_model_name": "LayoutModel",
            "_view_count": null,
            "_view_module": "@jupyter-widgets/base",
            "_view_module_version": "1.2.0",
            "_view_name": "LayoutView",
            "align_content": null,
            "align_items": null,
            "align_self": null,
            "border": null,
            "bottom": null,
            "display": null,
            "flex": null,
            "flex_flow": null,
            "grid_area": null,
            "grid_auto_columns": null,
            "grid_auto_flow": null,
            "grid_auto_rows": null,
            "grid_column": null,
            "grid_gap": null,
            "grid_row": null,
            "grid_template_areas": null,
            "grid_template_columns": null,
            "grid_template_rows": null,
            "height": null,
            "justify_content": null,
            "justify_items": null,
            "left": null,
            "margin": null,
            "max_height": null,
            "max_width": null,
            "min_height": null,
            "min_width": null,
            "object_fit": null,
            "object_position": null,
            "order": null,
            "overflow": null,
            "overflow_x": null,
            "overflow_y": null,
            "padding": null,
            "right": null,
            "top": null,
            "visibility": null,
            "width": null
          }
        },
        "a9185474b7bb4d3e968746a3f5349baf": {
          "model_module": "@jupyter-widgets/base",
          "model_module_version": "1.2.0",
          "model_name": "LayoutModel",
          "state": {
            "_model_module": "@jupyter-widgets/base",
            "_model_module_version": "1.2.0",
            "_model_name": "LayoutModel",
            "_view_count": null,
            "_view_module": "@jupyter-widgets/base",
            "_view_module_version": "1.2.0",
            "_view_name": "LayoutView",
            "align_content": null,
            "align_items": null,
            "align_self": null,
            "border": null,
            "bottom": null,
            "display": null,
            "flex": null,
            "flex_flow": null,
            "grid_area": null,
            "grid_auto_columns": null,
            "grid_auto_flow": null,
            "grid_auto_rows": null,
            "grid_column": null,
            "grid_gap": null,
            "grid_row": null,
            "grid_template_areas": null,
            "grid_template_columns": null,
            "grid_template_rows": null,
            "height": null,
            "justify_content": null,
            "justify_items": null,
            "left": null,
            "margin": null,
            "max_height": null,
            "max_width": null,
            "min_height": null,
            "min_width": null,
            "object_fit": null,
            "object_position": null,
            "order": null,
            "overflow": null,
            "overflow_x": null,
            "overflow_y": null,
            "padding": null,
            "right": null,
            "top": null,
            "visibility": null,
            "width": null
          }
        },
        "ac14e736eaa74b76a06bc6db58cb9e8f": {
          "model_module": "@jupyter-widgets/controls",
          "model_module_version": "1.5.0",
          "model_name": "DescriptionStyleModel",
          "state": {
            "_model_module": "@jupyter-widgets/controls",
            "_model_module_version": "1.5.0",
            "_model_name": "DescriptionStyleModel",
            "_view_count": null,
            "_view_module": "@jupyter-widgets/base",
            "_view_module_version": "1.2.0",
            "_view_name": "StyleView",
            "description_width": ""
          }
        },
        "b2a018e684a14a32ad6b4b5b1b78b030": {
          "model_module": "@jupyter-widgets/controls",
          "model_module_version": "1.5.0",
          "model_name": "ProgressStyleModel",
          "state": {
            "_model_module": "@jupyter-widgets/controls",
            "_model_module_version": "1.5.0",
            "_model_name": "ProgressStyleModel",
            "_view_count": null,
            "_view_module": "@jupyter-widgets/base",
            "_view_module_version": "1.2.0",
            "_view_name": "StyleView",
            "bar_color": null,
            "description_width": ""
          }
        },
        "b83921ca1b624145a1b301228e2c52b1": {
          "model_module": "@jupyter-widgets/base",
          "model_module_version": "1.2.0",
          "model_name": "LayoutModel",
          "state": {
            "_model_module": "@jupyter-widgets/base",
            "_model_module_version": "1.2.0",
            "_model_name": "LayoutModel",
            "_view_count": null,
            "_view_module": "@jupyter-widgets/base",
            "_view_module_version": "1.2.0",
            "_view_name": "LayoutView",
            "align_content": null,
            "align_items": null,
            "align_self": null,
            "border": null,
            "bottom": null,
            "display": null,
            "flex": null,
            "flex_flow": null,
            "grid_area": null,
            "grid_auto_columns": null,
            "grid_auto_flow": null,
            "grid_auto_rows": null,
            "grid_column": null,
            "grid_gap": null,
            "grid_row": null,
            "grid_template_areas": null,
            "grid_template_columns": null,
            "grid_template_rows": null,
            "height": null,
            "justify_content": null,
            "justify_items": null,
            "left": null,
            "margin": null,
            "max_height": null,
            "max_width": null,
            "min_height": null,
            "min_width": null,
            "object_fit": null,
            "object_position": null,
            "order": null,
            "overflow": null,
            "overflow_x": null,
            "overflow_y": null,
            "padding": null,
            "right": null,
            "top": null,
            "visibility": null,
            "width": null
          }
        },
        "bc24c6236e7241198dbfdc3b1bcb9b80": {
          "model_module": "@jupyter-widgets/base",
          "model_module_version": "1.2.0",
          "model_name": "LayoutModel",
          "state": {
            "_model_module": "@jupyter-widgets/base",
            "_model_module_version": "1.2.0",
            "_model_name": "LayoutModel",
            "_view_count": null,
            "_view_module": "@jupyter-widgets/base",
            "_view_module_version": "1.2.0",
            "_view_name": "LayoutView",
            "align_content": null,
            "align_items": null,
            "align_self": null,
            "border": null,
            "bottom": null,
            "display": null,
            "flex": null,
            "flex_flow": null,
            "grid_area": null,
            "grid_auto_columns": null,
            "grid_auto_flow": null,
            "grid_auto_rows": null,
            "grid_column": null,
            "grid_gap": null,
            "grid_row": null,
            "grid_template_areas": null,
            "grid_template_columns": null,
            "grid_template_rows": null,
            "height": null,
            "justify_content": null,
            "justify_items": null,
            "left": null,
            "margin": null,
            "max_height": null,
            "max_width": null,
            "min_height": null,
            "min_width": null,
            "object_fit": null,
            "object_position": null,
            "order": null,
            "overflow": null,
            "overflow_x": null,
            "overflow_y": null,
            "padding": null,
            "right": null,
            "top": null,
            "visibility": null,
            "width": null
          }
        },
        "bd579771f6a24a6b830dcddf5b226eca": {
          "model_module": "@jupyter-widgets/controls",
          "model_module_version": "1.5.0",
          "model_name": "IntProgressModel",
          "state": {
            "_dom_classes": [],
            "_model_module": "@jupyter-widgets/controls",
            "_model_module_version": "1.5.0",
            "_model_name": "IntProgressModel",
            "_view_count": null,
            "_view_module": "@jupyter-widgets/controls",
            "_view_module_version": "1.5.0",
            "_view_name": "ProgressView",
            "bar_style": "success",
            "description": "100.00%",
            "description_tooltip": null,
            "layout": "IPY_MODEL_bc24c6236e7241198dbfdc3b1bcb9b80",
            "max": 170154,
            "min": 0,
            "orientation": "horizontal",
            "style": "IPY_MODEL_eff0c39355b74ff0ac084143a602fb03",
            "value": 170154
          }
        },
        "bdb141a9bb474db7b5d041d533e9c74e": {
          "model_module": "@jupyter-widgets/controls",
          "model_module_version": "1.5.0",
          "model_name": "ProgressStyleModel",
          "state": {
            "_model_module": "@jupyter-widgets/controls",
            "_model_module_version": "1.5.0",
            "_model_name": "ProgressStyleModel",
            "_view_count": null,
            "_view_module": "@jupyter-widgets/base",
            "_view_module_version": "1.2.0",
            "_view_name": "StyleView",
            "bar_color": null,
            "description_width": ""
          }
        },
        "bec20409a9964e1b82d0c7813a09307f": {
          "model_module": "@jupyter-widgets/controls",
          "model_module_version": "1.5.0",
          "model_name": "ProgressStyleModel",
          "state": {
            "_model_module": "@jupyter-widgets/controls",
            "_model_module_version": "1.5.0",
            "_model_name": "ProgressStyleModel",
            "_view_count": null,
            "_view_module": "@jupyter-widgets/base",
            "_view_module_version": "1.2.0",
            "_view_name": "StyleView",
            "bar_color": null,
            "description_width": ""
          }
        },
        "bf43d3d0d19e4fea8f46158e6807fb8e": {
          "model_module": "@jupyter-widgets/controls",
          "model_module_version": "1.5.0",
          "model_name": "LabelModel",
          "state": {
            "_dom_classes": [],
            "_model_module": "@jupyter-widgets/controls",
            "_model_module_version": "1.5.0",
            "_model_name": "LabelModel",
            "_view_count": null,
            "_view_module": "@jupyter-widgets/controls",
            "_view_module_version": "1.5.0",
            "_view_name": "LabelView",
            "description": "",
            "description_tooltip": null,
            "layout": "IPY_MODEL_a9185474b7bb4d3e968746a3f5349baf",
            "placeholder": "​",
            "style": "IPY_MODEL_49571931b75f4ae083a8eaf03470ca48",
            "value": "170153 / 170153"
          }
        },
        "bf6db999625a458ab8d06764ee09dee5": {
          "model_module": "@jupyter-widgets/controls",
          "model_module_version": "1.5.0",
          "model_name": "HBoxModel",
          "state": {
            "_dom_classes": [],
            "_model_module": "@jupyter-widgets/controls",
            "_model_module_version": "1.5.0",
            "_model_name": "HBoxModel",
            "_view_count": null,
            "_view_module": "@jupyter-widgets/controls",
            "_view_module_version": "1.5.0",
            "_view_name": "HBoxView",
            "box_style": "",
            "children": [
              "IPY_MODEL_343cfe36582840ad9fbbbc5e3c67ea34",
              "IPY_MODEL_1d6dce7850ad48b48db0e4815cfb5beb"
            ],
            "layout": "IPY_MODEL_7ba869570c234c4894ac8e6ddbdd71a2"
          }
        },
        "c1025cdf6d07424491fcb7253f3c510d": {
          "model_module": "@jupyter-widgets/base",
          "model_module_version": "1.2.0",
          "model_name": "LayoutModel",
          "state": {
            "_model_module": "@jupyter-widgets/base",
            "_model_module_version": "1.2.0",
            "_model_name": "LayoutModel",
            "_view_count": null,
            "_view_module": "@jupyter-widgets/base",
            "_view_module_version": "1.2.0",
            "_view_name": "LayoutView",
            "align_content": null,
            "align_items": null,
            "align_self": null,
            "border": null,
            "bottom": null,
            "display": null,
            "flex": null,
            "flex_flow": null,
            "grid_area": null,
            "grid_auto_columns": null,
            "grid_auto_flow": null,
            "grid_auto_rows": null,
            "grid_column": null,
            "grid_gap": null,
            "grid_row": null,
            "grid_template_areas": null,
            "grid_template_columns": null,
            "grid_template_rows": null,
            "height": null,
            "justify_content": null,
            "justify_items": null,
            "left": null,
            "margin": null,
            "max_height": null,
            "max_width": null,
            "min_height": null,
            "min_width": null,
            "object_fit": null,
            "object_position": null,
            "order": null,
            "overflow": null,
            "overflow_x": null,
            "overflow_y": null,
            "padding": null,
            "right": null,
            "top": null,
            "visibility": null,
            "width": null
          }
        },
        "c1774f1abcb948a0b65f7d12a6b2b55b": {
          "model_module": "@jupyter-widgets/controls",
          "model_module_version": "1.5.0",
          "model_name": "VBoxModel",
          "state": {
            "_dom_classes": [],
            "_model_module": "@jupyter-widgets/controls",
            "_model_module_version": "1.5.0",
            "_model_name": "VBoxModel",
            "_view_count": null,
            "_view_module": "@jupyter-widgets/controls",
            "_view_module_version": "1.5.0",
            "_view_name": "VBoxView",
            "box_style": "",
            "children": [
              "IPY_MODEL_2a44065d8c13403189286639abb716cb",
              "IPY_MODEL_bf6db999625a458ab8d06764ee09dee5",
              "IPY_MODEL_7ec5f0e9687440dcbbf026e25a7d9db9"
            ],
            "layout": "IPY_MODEL_5de2f013895c415da0b00bc930e35c22"
          }
        },
        "c1b73508e66e420f917062cd9ec38127": {
          "model_module": "@jupyter-widgets/controls",
          "model_module_version": "1.5.0",
          "model_name": "HBoxModel",
          "state": {
            "_dom_classes": [],
            "_model_module": "@jupyter-widgets/controls",
            "_model_module_version": "1.5.0",
            "_model_name": "HBoxModel",
            "_view_count": null,
            "_view_module": "@jupyter-widgets/controls",
            "_view_module_version": "1.5.0",
            "_view_name": "HBoxView",
            "box_style": "",
            "children": [
              "IPY_MODEL_e583a079ee6e4216bb4d0cfe7111bd1f",
              "IPY_MODEL_d94b53dbd8e04697acac168649da6276"
            ],
            "layout": "IPY_MODEL_04b32db5cf124f36b2327f98d2b16d1b"
          }
        },
        "c3715496292448b5af734b8c2371646f": {
          "model_module": "@jupyter-widgets/controls",
          "model_module_version": "1.5.0",
          "model_name": "ProgressStyleModel",
          "state": {
            "_model_module": "@jupyter-widgets/controls",
            "_model_module_version": "1.5.0",
            "_model_name": "ProgressStyleModel",
            "_view_count": null,
            "_view_module": "@jupyter-widgets/base",
            "_view_module_version": "1.2.0",
            "_view_name": "StyleView",
            "bar_color": null,
            "description_width": ""
          }
        },
        "c400d3e512ad434bb7fdc909bcc11e04": {
          "model_module": "@jupyter-widgets/controls",
          "model_module_version": "1.5.0",
          "model_name": "DescriptionStyleModel",
          "state": {
            "_model_module": "@jupyter-widgets/controls",
            "_model_module_version": "1.5.0",
            "_model_name": "DescriptionStyleModel",
            "_view_count": null,
            "_view_module": "@jupyter-widgets/base",
            "_view_module_version": "1.2.0",
            "_view_name": "StyleView",
            "description_width": ""
          }
        },
        "c46c4651afb7441983dc366d1bdbea4e": {
          "model_module": "@jupyter-widgets/base",
          "model_module_version": "1.2.0",
          "model_name": "LayoutModel",
          "state": {
            "_model_module": "@jupyter-widgets/base",
            "_model_module_version": "1.2.0",
            "_model_name": "LayoutModel",
            "_view_count": null,
            "_view_module": "@jupyter-widgets/base",
            "_view_module_version": "1.2.0",
            "_view_name": "LayoutView",
            "align_content": null,
            "align_items": null,
            "align_self": null,
            "border": null,
            "bottom": null,
            "display": null,
            "flex": null,
            "flex_flow": null,
            "grid_area": null,
            "grid_auto_columns": null,
            "grid_auto_flow": null,
            "grid_auto_rows": null,
            "grid_column": null,
            "grid_gap": null,
            "grid_row": null,
            "grid_template_areas": null,
            "grid_template_columns": null,
            "grid_template_rows": null,
            "height": null,
            "justify_content": null,
            "justify_items": null,
            "left": null,
            "margin": null,
            "max_height": null,
            "max_width": null,
            "min_height": null,
            "min_width": null,
            "object_fit": null,
            "object_position": null,
            "order": null,
            "overflow": null,
            "overflow_x": null,
            "overflow_y": null,
            "padding": null,
            "right": null,
            "top": null,
            "visibility": null,
            "width": null
          }
        },
        "c628bc58856b4ca093350dde3feec6c3": {
          "model_module": "@jupyter-widgets/controls",
          "model_module_version": "1.5.0",
          "model_name": "HBoxModel",
          "state": {
            "_dom_classes": [],
            "_model_module": "@jupyter-widgets/controls",
            "_model_module_version": "1.5.0",
            "_model_name": "HBoxModel",
            "_view_count": null,
            "_view_module": "@jupyter-widgets/controls",
            "_view_module_version": "1.5.0",
            "_view_name": "HBoxView",
            "box_style": "",
            "children": [
              "IPY_MODEL_e6d6d26912e84e61b27d3eb93fcaa636",
              "IPY_MODEL_bf43d3d0d19e4fea8f46158e6807fb8e"
            ],
            "layout": "IPY_MODEL_ccf89f1be46b4379850a0389867df778"
          }
        },
        "cad9c98d7e604e94b828420ab37c8308": {
          "model_module": "@jupyter-widgets/controls",
          "model_module_version": "1.5.0",
          "model_name": "LabelModel",
          "state": {
            "_dom_classes": [],
            "_model_module": "@jupyter-widgets/controls",
            "_model_module_version": "1.5.0",
            "_model_name": "LabelModel",
            "_view_count": null,
            "_view_module": "@jupyter-widgets/controls",
            "_view_module_version": "1.5.0",
            "_view_name": "LabelView",
            "description": "",
            "description_tooltip": null,
            "layout": "IPY_MODEL_10c4cdfd638a4c8db6a774faff967767",
            "placeholder": "​",
            "style": "IPY_MODEL_cec2147d053049c69ed03f8ff4e02cce",
            "value": "170153 / 170153"
          }
        },
        "ccf89f1be46b4379850a0389867df778": {
          "model_module": "@jupyter-widgets/base",
          "model_module_version": "1.2.0",
          "model_name": "LayoutModel",
          "state": {
            "_model_module": "@jupyter-widgets/base",
            "_model_module_version": "1.2.0",
            "_model_name": "LayoutModel",
            "_view_count": null,
            "_view_module": "@jupyter-widgets/base",
            "_view_module_version": "1.2.0",
            "_view_name": "LayoutView",
            "align_content": null,
            "align_items": null,
            "align_self": null,
            "border": null,
            "bottom": null,
            "display": null,
            "flex": null,
            "flex_flow": null,
            "grid_area": null,
            "grid_auto_columns": null,
            "grid_auto_flow": null,
            "grid_auto_rows": null,
            "grid_column": null,
            "grid_gap": null,
            "grid_row": null,
            "grid_template_areas": null,
            "grid_template_columns": null,
            "grid_template_rows": null,
            "height": null,
            "justify_content": null,
            "justify_items": null,
            "left": null,
            "margin": null,
            "max_height": null,
            "max_width": null,
            "min_height": null,
            "min_width": null,
            "object_fit": null,
            "object_position": null,
            "order": null,
            "overflow": null,
            "overflow_x": null,
            "overflow_y": null,
            "padding": null,
            "right": null,
            "top": null,
            "visibility": null,
            "width": null
          }
        },
        "cec2147d053049c69ed03f8ff4e02cce": {
          "model_module": "@jupyter-widgets/controls",
          "model_module_version": "1.5.0",
          "model_name": "DescriptionStyleModel",
          "state": {
            "_model_module": "@jupyter-widgets/controls",
            "_model_module_version": "1.5.0",
            "_model_name": "DescriptionStyleModel",
            "_view_count": null,
            "_view_module": "@jupyter-widgets/base",
            "_view_module_version": "1.2.0",
            "_view_name": "StyleView",
            "description_width": ""
          }
        },
        "d1443ed915d44aaf86afa5e2da2b8cf9": {
          "model_module": "@jupyter-widgets/controls",
          "model_module_version": "1.5.0",
          "model_name": "ProgressStyleModel",
          "state": {
            "_model_module": "@jupyter-widgets/controls",
            "_model_module_version": "1.5.0",
            "_model_name": "ProgressStyleModel",
            "_view_count": null,
            "_view_module": "@jupyter-widgets/base",
            "_view_module_version": "1.2.0",
            "_view_name": "StyleView",
            "bar_color": null,
            "description_width": ""
          }
        },
        "d59417a96db34d63bf2af6cae04cc74f": {
          "model_module": "@jupyter-widgets/base",
          "model_module_version": "1.2.0",
          "model_name": "LayoutModel",
          "state": {
            "_model_module": "@jupyter-widgets/base",
            "_model_module_version": "1.2.0",
            "_model_name": "LayoutModel",
            "_view_count": null,
            "_view_module": "@jupyter-widgets/base",
            "_view_module_version": "1.2.0",
            "_view_name": "LayoutView",
            "align_content": null,
            "align_items": null,
            "align_self": null,
            "border": null,
            "bottom": null,
            "display": null,
            "flex": null,
            "flex_flow": null,
            "grid_area": null,
            "grid_auto_columns": null,
            "grid_auto_flow": null,
            "grid_auto_rows": null,
            "grid_column": null,
            "grid_gap": null,
            "grid_row": null,
            "grid_template_areas": null,
            "grid_template_columns": null,
            "grid_template_rows": null,
            "height": null,
            "justify_content": null,
            "justify_items": null,
            "left": null,
            "margin": null,
            "max_height": null,
            "max_width": null,
            "min_height": null,
            "min_width": null,
            "object_fit": null,
            "object_position": null,
            "order": null,
            "overflow": null,
            "overflow_x": null,
            "overflow_y": null,
            "padding": null,
            "right": null,
            "top": null,
            "visibility": null,
            "width": null
          }
        },
        "d6f03baea724410dba76922e46d785ff": {
          "model_module": "@jupyter-widgets/base",
          "model_module_version": "1.2.0",
          "model_name": "LayoutModel",
          "state": {
            "_model_module": "@jupyter-widgets/base",
            "_model_module_version": "1.2.0",
            "_model_name": "LayoutModel",
            "_view_count": null,
            "_view_module": "@jupyter-widgets/base",
            "_view_module_version": "1.2.0",
            "_view_name": "LayoutView",
            "align_content": null,
            "align_items": null,
            "align_self": null,
            "border": null,
            "bottom": null,
            "display": null,
            "flex": null,
            "flex_flow": null,
            "grid_area": null,
            "grid_auto_columns": null,
            "grid_auto_flow": null,
            "grid_auto_rows": null,
            "grid_column": null,
            "grid_gap": null,
            "grid_row": null,
            "grid_template_areas": null,
            "grid_template_columns": null,
            "grid_template_rows": null,
            "height": null,
            "justify_content": null,
            "justify_items": null,
            "left": null,
            "margin": null,
            "max_height": null,
            "max_width": null,
            "min_height": null,
            "min_width": null,
            "object_fit": null,
            "object_position": null,
            "order": null,
            "overflow": null,
            "overflow_x": null,
            "overflow_y": null,
            "padding": null,
            "right": null,
            "top": null,
            "visibility": null,
            "width": null
          }
        },
        "d94b53dbd8e04697acac168649da6276": {
          "model_module": "@jupyter-widgets/controls",
          "model_module_version": "1.5.0",
          "model_name": "LabelModel",
          "state": {
            "_dom_classes": [],
            "_model_module": "@jupyter-widgets/controls",
            "_model_module_version": "1.5.0",
            "_model_name": "LabelModel",
            "_view_count": null,
            "_view_module": "@jupyter-widgets/controls",
            "_view_module_version": "1.5.0",
            "_view_name": "LabelView",
            "description": "",
            "description_tooltip": null,
            "layout": "IPY_MODEL_396f21f81a724a84854401b641ea66c5",
            "placeholder": "​",
            "style": "IPY_MODEL_2b5e75761e7a487ab2018edc4fff1acd",
            "value": "170154 / 170154"
          }
        },
        "dbd2081bfb5b43778c74507aa719c9ba": {
          "model_module": "@jupyter-widgets/controls",
          "model_module_version": "1.5.0",
          "model_name": "ProgressStyleModel",
          "state": {
            "_model_module": "@jupyter-widgets/controls",
            "_model_module_version": "1.5.0",
            "_model_name": "ProgressStyleModel",
            "_view_count": null,
            "_view_module": "@jupyter-widgets/base",
            "_view_module_version": "1.2.0",
            "_view_name": "StyleView",
            "bar_color": null,
            "description_width": ""
          }
        },
        "e094cbc8a74b4d0eba47a009ee862448": {
          "model_module": "@jupyter-widgets/base",
          "model_module_version": "1.2.0",
          "model_name": "LayoutModel",
          "state": {
            "_model_module": "@jupyter-widgets/base",
            "_model_module_version": "1.2.0",
            "_model_name": "LayoutModel",
            "_view_count": null,
            "_view_module": "@jupyter-widgets/base",
            "_view_module_version": "1.2.0",
            "_view_name": "LayoutView",
            "align_content": null,
            "align_items": null,
            "align_self": null,
            "border": null,
            "bottom": null,
            "display": null,
            "flex": null,
            "flex_flow": null,
            "grid_area": null,
            "grid_auto_columns": null,
            "grid_auto_flow": null,
            "grid_auto_rows": null,
            "grid_column": null,
            "grid_gap": null,
            "grid_row": null,
            "grid_template_areas": null,
            "grid_template_columns": null,
            "grid_template_rows": null,
            "height": null,
            "justify_content": null,
            "justify_items": null,
            "left": null,
            "margin": null,
            "max_height": null,
            "max_width": null,
            "min_height": null,
            "min_width": null,
            "object_fit": null,
            "object_position": null,
            "order": null,
            "overflow": null,
            "overflow_x": null,
            "overflow_y": null,
            "padding": null,
            "right": null,
            "top": null,
            "visibility": null,
            "width": null
          }
        },
        "e583a079ee6e4216bb4d0cfe7111bd1f": {
          "model_module": "@jupyter-widgets/controls",
          "model_module_version": "1.5.0",
          "model_name": "IntProgressModel",
          "state": {
            "_dom_classes": [],
            "_model_module": "@jupyter-widgets/controls",
            "_model_module_version": "1.5.0",
            "_model_name": "IntProgressModel",
            "_view_count": null,
            "_view_module": "@jupyter-widgets/controls",
            "_view_module_version": "1.5.0",
            "_view_name": "ProgressView",
            "bar_style": "success",
            "description": "100.00%",
            "description_tooltip": null,
            "layout": "IPY_MODEL_37b6480c11904cb29b8224c94fe7fcdf",
            "max": 170154,
            "min": 0,
            "orientation": "horizontal",
            "style": "IPY_MODEL_bdb141a9bb474db7b5d041d533e9c74e",
            "value": 170154
          }
        },
        "e67a2d1e4fb24a29bd8ac99b1f3894d7": {
          "model_module": "@jupyter-widgets/base",
          "model_module_version": "1.2.0",
          "model_name": "LayoutModel",
          "state": {
            "_model_module": "@jupyter-widgets/base",
            "_model_module_version": "1.2.0",
            "_model_name": "LayoutModel",
            "_view_count": null,
            "_view_module": "@jupyter-widgets/base",
            "_view_module_version": "1.2.0",
            "_view_name": "LayoutView",
            "align_content": null,
            "align_items": null,
            "align_self": null,
            "border": null,
            "bottom": null,
            "display": null,
            "flex": null,
            "flex_flow": null,
            "grid_area": null,
            "grid_auto_columns": null,
            "grid_auto_flow": null,
            "grid_auto_rows": null,
            "grid_column": null,
            "grid_gap": null,
            "grid_row": null,
            "grid_template_areas": null,
            "grid_template_columns": null,
            "grid_template_rows": null,
            "height": null,
            "justify_content": null,
            "justify_items": null,
            "left": null,
            "margin": null,
            "max_height": null,
            "max_width": null,
            "min_height": null,
            "min_width": null,
            "object_fit": null,
            "object_position": null,
            "order": null,
            "overflow": null,
            "overflow_x": null,
            "overflow_y": null,
            "padding": null,
            "right": null,
            "top": null,
            "visibility": null,
            "width": null
          }
        },
        "e6d6d26912e84e61b27d3eb93fcaa636": {
          "model_module": "@jupyter-widgets/controls",
          "model_module_version": "1.5.0",
          "model_name": "IntProgressModel",
          "state": {
            "_dom_classes": [],
            "_model_module": "@jupyter-widgets/controls",
            "_model_module_version": "1.5.0",
            "_model_name": "IntProgressModel",
            "_view_count": null,
            "_view_module": "@jupyter-widgets/controls",
            "_view_module_version": "1.5.0",
            "_view_name": "ProgressView",
            "bar_style": "success",
            "description": "100.00%",
            "description_tooltip": null,
            "layout": "IPY_MODEL_e094cbc8a74b4d0eba47a009ee862448",
            "max": 170153,
            "min": 0,
            "orientation": "horizontal",
            "style": "IPY_MODEL_e86c5193135c4332b9b2b80c25fe7b7a",
            "value": 170153
          }
        },
        "e7108dc8188a4725976afe4d7bf4b135": {
          "model_module": "@jupyter-widgets/controls",
          "model_module_version": "1.5.0",
          "model_name": "ProgressStyleModel",
          "state": {
            "_model_module": "@jupyter-widgets/controls",
            "_model_module_version": "1.5.0",
            "_model_name": "ProgressStyleModel",
            "_view_count": null,
            "_view_module": "@jupyter-widgets/base",
            "_view_module_version": "1.2.0",
            "_view_name": "StyleView",
            "bar_color": null,
            "description_width": ""
          }
        },
        "e815db084a8544218ef6df6ec56acb18": {
          "model_module": "@jupyter-widgets/controls",
          "model_module_version": "1.5.0",
          "model_name": "LabelModel",
          "state": {
            "_dom_classes": [],
            "_model_module": "@jupyter-widgets/controls",
            "_model_module_version": "1.5.0",
            "_model_name": "LabelModel",
            "_view_count": null,
            "_view_module": "@jupyter-widgets/controls",
            "_view_module_version": "1.5.0",
            "_view_name": "LabelView",
            "description": "",
            "description_tooltip": null,
            "layout": "IPY_MODEL_89422f7b0aa14709aa1dc95ac5755cbb",
            "placeholder": "​",
            "style": "IPY_MODEL_0c1503d62a15404da3b3a1bc00b0c205",
            "value": "170153 / 170153"
          }
        },
        "e86c5193135c4332b9b2b80c25fe7b7a": {
          "model_module": "@jupyter-widgets/controls",
          "model_module_version": "1.5.0",
          "model_name": "ProgressStyleModel",
          "state": {
            "_model_module": "@jupyter-widgets/controls",
            "_model_module_version": "1.5.0",
            "_model_name": "ProgressStyleModel",
            "_view_count": null,
            "_view_module": "@jupyter-widgets/base",
            "_view_module_version": "1.2.0",
            "_view_name": "StyleView",
            "bar_color": null,
            "description_width": ""
          }
        },
        "eff0c39355b74ff0ac084143a602fb03": {
          "model_module": "@jupyter-widgets/controls",
          "model_module_version": "1.5.0",
          "model_name": "ProgressStyleModel",
          "state": {
            "_model_module": "@jupyter-widgets/controls",
            "_model_module_version": "1.5.0",
            "_model_name": "ProgressStyleModel",
            "_view_count": null,
            "_view_module": "@jupyter-widgets/base",
            "_view_module_version": "1.2.0",
            "_view_name": "StyleView",
            "bar_color": null,
            "description_width": ""
          }
        },
        "f2fb3058da7c46ef99bd2fa5bc50551c": {
          "model_module": "@jupyter-widgets/controls",
          "model_module_version": "1.5.0",
          "model_name": "VBoxModel",
          "state": {
            "_dom_classes": [],
            "_model_module": "@jupyter-widgets/controls",
            "_model_module_version": "1.5.0",
            "_model_name": "VBoxModel",
            "_view_count": null,
            "_view_module": "@jupyter-widgets/controls",
            "_view_module_version": "1.5.0",
            "_view_name": "VBoxView",
            "box_style": "",
            "children": [
              "IPY_MODEL_c1b73508e66e420f917062cd9ec38127",
              "IPY_MODEL_fc1b793942ac49588cbe2c9dbf21dde3",
              "IPY_MODEL_176756bb43424e4593149e68efac8a4c"
            ],
            "layout": "IPY_MODEL_4b241d8fa5c24ddbbe7e0f43b62bbb5f"
          }
        },
        "f3909bae62cd4d558746efdcf969dcd3": {
          "model_module": "@jupyter-widgets/base",
          "model_module_version": "1.2.0",
          "model_name": "LayoutModel",
          "state": {
            "_model_module": "@jupyter-widgets/base",
            "_model_module_version": "1.2.0",
            "_model_name": "LayoutModel",
            "_view_count": null,
            "_view_module": "@jupyter-widgets/base",
            "_view_module_version": "1.2.0",
            "_view_name": "LayoutView",
            "align_content": null,
            "align_items": null,
            "align_self": null,
            "border": null,
            "bottom": null,
            "display": null,
            "flex": null,
            "flex_flow": null,
            "grid_area": null,
            "grid_auto_columns": null,
            "grid_auto_flow": null,
            "grid_auto_rows": null,
            "grid_column": null,
            "grid_gap": null,
            "grid_row": null,
            "grid_template_areas": null,
            "grid_template_columns": null,
            "grid_template_rows": null,
            "height": null,
            "justify_content": null,
            "justify_items": null,
            "left": null,
            "margin": null,
            "max_height": null,
            "max_width": null,
            "min_height": null,
            "min_width": null,
            "object_fit": null,
            "object_position": null,
            "order": null,
            "overflow": null,
            "overflow_x": null,
            "overflow_y": null,
            "padding": null,
            "right": null,
            "top": null,
            "visibility": null,
            "width": null
          }
        },
        "f3fbcfaf660f4a5b9ede5558f1134c07": {
          "model_module": "@jupyter-widgets/controls",
          "model_module_version": "1.5.0",
          "model_name": "VBoxModel",
          "state": {
            "_dom_classes": [],
            "_model_module": "@jupyter-widgets/controls",
            "_model_module_version": "1.5.0",
            "_model_name": "VBoxModel",
            "_view_count": null,
            "_view_module": "@jupyter-widgets/controls",
            "_view_module_version": "1.5.0",
            "_view_name": "VBoxView",
            "box_style": "",
            "children": [
              "IPY_MODEL_7a5042fad9ec485ba04a95b0ed181b6b",
              "IPY_MODEL_05618a59f72140818d246fce478aba76",
              "IPY_MODEL_146093c61fe94ab6bf271348ba4d21e9"
            ],
            "layout": "IPY_MODEL_c1025cdf6d07424491fcb7253f3c510d"
          }
        },
        "f3fe583948fc43f1acb268b1a1c4ec84": {
          "model_module": "@jupyter-widgets/controls",
          "model_module_version": "1.5.0",
          "model_name": "IntProgressModel",
          "state": {
            "_dom_classes": [],
            "_model_module": "@jupyter-widgets/controls",
            "_model_module_version": "1.5.0",
            "_model_name": "IntProgressModel",
            "_view_count": null,
            "_view_module": "@jupyter-widgets/controls",
            "_view_module_version": "1.5.0",
            "_view_name": "ProgressView",
            "bar_style": "success",
            "description": "100.00%",
            "description_tooltip": null,
            "layout": "IPY_MODEL_1a28dd8e51c04aa0819b29e4f99f1bcf",
            "max": 170154,
            "min": 0,
            "orientation": "horizontal",
            "style": "IPY_MODEL_dbd2081bfb5b43778c74507aa719c9ba",
            "value": 170154
          }
        },
        "fc1b793942ac49588cbe2c9dbf21dde3": {
          "model_module": "@jupyter-widgets/controls",
          "model_module_version": "1.5.0",
          "model_name": "HBoxModel",
          "state": {
            "_dom_classes": [],
            "_model_module": "@jupyter-widgets/controls",
            "_model_module_version": "1.5.0",
            "_model_name": "HBoxModel",
            "_view_count": null,
            "_view_module": "@jupyter-widgets/controls",
            "_view_module_version": "1.5.0",
            "_view_name": "HBoxView",
            "box_style": "",
            "children": [
              "IPY_MODEL_11768e4fee984b0696bd9e0865df6ad9",
              "IPY_MODEL_2a7baba304464fb0959a97a0bc073b9a"
            ],
            "layout": "IPY_MODEL_80e74f90e30748bfb77ccf684a0d5348"
          }
        },
        "fc59bd2af0b14954acc127a508bf08d0": {
          "model_module": "@jupyter-widgets/controls",
          "model_module_version": "1.5.0",
          "model_name": "LabelModel",
          "state": {
            "_dom_classes": [],
            "_model_module": "@jupyter-widgets/controls",
            "_model_module_version": "1.5.0",
            "_model_name": "LabelModel",
            "_view_count": null,
            "_view_module": "@jupyter-widgets/controls",
            "_view_module_version": "1.5.0",
            "_view_name": "LabelView",
            "description": "",
            "description_tooltip": null,
            "layout": "IPY_MODEL_552ddf6705a347e1b836ddaebad7449e",
            "placeholder": "​",
            "style": "IPY_MODEL_6c3acaeb2e41409fa8128b3af88da67f",
            "value": "170154 / 170154"
          }
        }
      }
    }
  },
  "nbformat": 4,
  "nbformat_minor": 5
}
